{
 "cells": [
  {
   "cell_type": "markdown",
   "id": "92bcb855",
   "metadata": {},
   "source": [
    "# MPIA Arxiv on Deck 2\n",
    "\n",
    "Contains the steps to produce the paper extractions."
   ]
  },
  {
   "cell_type": "code",
   "execution_count": 1,
   "id": "3a0d6e11",
   "metadata": {},
   "outputs": [],
   "source": [
    "# Imports\n",
    "import os\n",
    "from IPython.display import Markdown\n",
    "from tqdm.notebook import tqdm\n",
    "import warnings\n",
    "from PIL import Image \n",
    "\n",
    "import sys\n",
    "sys.path.append('../')\n",
    "\n",
    "from arxiv_on_deck_2.arxiv2 import (get_new_papers, \n",
    "                                    get_paper_from_identifier,\n",
    "                                    retrieve_document_source, \n",
    "                                    get_markdown_badge)\n",
    "from arxiv_on_deck_2 import (latex, \n",
    "                             mpia,\n",
    "                             highlight_authors_in_list)\n",
    "\n",
    "from IPython.display import Markdown\n",
    "\n",
    "# Sometimes images are really big\n",
    "Image.MAX_IMAGE_PIXELS = 1000000000 "
   ]
  },
  {
   "cell_type": "code",
   "execution_count": 2,
   "id": "22aa9d44",
   "metadata": {},
   "outputs": [],
   "source": [
    "# Some useful definitions.\n",
    "\n",
    "class AffiliationWarning(UserWarning):\n",
    "    pass\n",
    "\n",
    "class AffiliationError(RuntimeError):\n",
    "    pass\n",
    "\n",
    "def validation(source: str):\n",
    "    \"\"\"Raises error paper during parsing of source file\n",
    "    \n",
    "    Allows checks before parsing TeX code.\n",
    "    \n",
    "    Raises AffiliationWarning\n",
    "    \"\"\"\n",
    "    check = mpia.affiliation_verifications(source, verbose=True)\n",
    "    if check is not True:\n",
    "        raise AffiliationError(\"mpia.affiliation_verifications: \" + check)\n",
    "\n",
    "        \n",
    "warnings.simplefilter('always', AffiliationWarning)"
   ]
  },
  {
   "cell_type": "code",
   "execution_count": 3,
   "id": "14622700",
   "metadata": {},
   "outputs": [],
   "source": [
    "# additional CSS to consider. \n",
    "# TODO: Current into each exported file. \n",
    "#       This should be set once into the webpages directly.\n",
    "#       With only the class/id definitions in the .md files.\n",
    "\n",
    "debug_html = \"\"\"\n",
    "<style>\n",
    "#wrap{ overflow:auto; }\n",
    "#fig1{ background:yellow; width:100%; float:left; padding:5px;  }\n",
    "#fig2{ background:red; width:50%; float:left; clear:left; padding:5px;  }\n",
    "#fig3{ background:green; width:50%; float:left; padding:5px;   }\n",
    ".macros{ background:yellow; visibility:visible;}\n",
    "h1 {margin: 0 0 0 0;}\n",
    "mark {background-color:#fff3b6;}\n",
    "img {object-fit:contain; max-height:250px; display:inline-block; text-align: center;}\n",
    "</style>\n",
    "\"\"\" \n",
    "html = \"\"\"\n",
    "<style>\n",
    "#wrap{ overflow:auto; }\n",
    "#fig1{ width:100%; float:left; padding: 5px;  }\n",
    "#fig2{ width:50%; float:left; clear:left; padding: 5px;  }\n",
    "#fig3{ width:50%; float:left; padding: 5px;  }\n",
    ".macros{ visibility:hidden; height:0px; }\n",
    "h1 {margin: 0em 0 0 0;}\n",
    "mark {background-color:#fff3b6;}\n",
    "img {object-fit:contain; max-height:250px; display:inline-block; text-align: center;}\n",
    "</style>\n",
    "\"\"\""
   ]
  },
  {
   "cell_type": "markdown",
   "id": "14bd6310",
   "metadata": {},
   "source": [
    "## get list of arxiv paper candidates\n",
    "\n",
    "We use the MPIA mitarbeiter list webpage from mpia.de to get author names\n",
    "We then get all new papers from Arxiv and match authors"
   ]
  },
  {
   "cell_type": "code",
   "execution_count": 4,
   "id": "2645e73a",
   "metadata": {},
   "outputs": [
    {
     "name": "stdout",
     "output_type": "stream",
     "text": [
      "Arxiv has 64 new papers today\n",
      "          20 with possible author matches\n"
     ]
    }
   ],
   "source": [
    "# get list from MPIA website\n",
    "# it automatically filters identified non-scientists :func:`mpia.filter_non_scientists`\n",
    "mpia_authors = mpia.get_mpia_mitarbeiter_list()\n",
    "new_papers = get_new_papers()\n",
    "# add manual references\n",
    "add_paper_refs = []\n",
    "new_papers.extend([get_paper_from_identifier(k) for k in add_paper_refs])\n",
    "\n",
    "# select only papers with matching author names and highlight authors\n",
    "hl_list = [k[0] for k in mpia_authors]\n",
    "\n",
    "candidates = []\n",
    "for paperk in new_papers:\n",
    "    hl_authors = highlight_authors_in_list(paperk['authors'], hl_list)\n",
    "    matches = [(hl, orig) for hl, orig in zip(hl_authors, paperk['authors']) if 'mark' in hl]\n",
    "    paperk['authors'] = hl_authors\n",
    "    if matches:\n",
    "        candidates.append(paperk)\n",
    "print(\"\"\"Arxiv has {0:,d} new papers today\"\"\".format(len(new_papers)))        \n",
    "print(\"\"\"          {0:,d} with possible author matches\"\"\".format(len(candidates)))"
   ]
  },
  {
   "cell_type": "markdown",
   "id": "3543b34a",
   "metadata": {},
   "source": [
    "# Parse sources and generate relevant outputs\n",
    "\n",
    "From the candidates, we do the following steps:\n",
    "* get their tarball from ArXiv (and extract data)\n",
    "* find the main .tex file: find one with \\documentclass{...} (sometimes it's non trivial)\n",
    "* Check affiliations with :func:`validation`, which uses :func:`mpia.affiliation_verifications`\n",
    "* If passing the affiliations: we parse the .tex source\n",
    "   * inject sub-documents into the main (flatten the main document)\n",
    "   * parse structure, extract information (title, abstract, authors, figures...)\n",
    "   * handles `\\graphicspath` if provided\n",
    "* Generate the .md document."
   ]
  },
  {
   "cell_type": "code",
   "execution_count": 5,
   "id": "9576b79e",
   "metadata": {
    "scrolled": false
   },
   "outputs": [
    {
     "data": {
      "application/vnd.jupyter.widget-view+json": {
       "model_id": "9ac96488d85e49b6ad2f93ac80feaf13",
       "version_major": 2,
       "version_minor": 0
      },
      "text/plain": [
       "  0%|          | 0/19 [00:00<?, ?it/s]"
      ]
     },
     "metadata": {},
     "output_type": "display_data"
    },
    {
     "name": "stderr",
     "output_type": "stream",
     "text": [
      "/usr/local/lib/python3.9/site-packages/IPython/core/interactiveshell.py:3444: LatexWarning: Multiple tex files.\n",
      "\n",
      "  exec(code_obj, self.user_global_ns, self.user_ns)\n",
      "/usr/local/lib/python3.9/site-packages/IPython/core/interactiveshell.py:3444: LatexWarning: Found documentclass in tmp_2204.00635/dr2_data.tex\n",
      "\n",
      "  exec(code_obj, self.user_global_ns, self.user_ns)\n",
      "/Users/fouesneau/Work/arxiver_on_deck_2/examples/../arxiv_on_deck_2/latex.py:282: LatexWarning: Latex injecting: 'flux' from 'tmp_2204.00635/flux.tex'\n",
      "  warnings.warn(LatexWarning(f\"Latex injecting: '{ext}' from '{subsource}'\"))\n",
      "/Users/fouesneau/Work/arxiver_on_deck_2/examples/../arxiv_on_deck_2/latex.py:282: LatexWarning: Latex injecting: 'spix' from 'tmp_2204.00635/spix.tex'\n",
      "  warnings.warn(LatexWarning(f\"Latex injecting: '{ext}' from '{subsource}'\"))\n",
      "/Users/fouesneau/Work/arxiver_on_deck_2/examples/../arxiv_on_deck_2/latex.py:282: LatexWarning: Latex injecting: 'sample1' from 'tmp_2204.00635/sample1.tex'\n",
      "  warnings.warn(LatexWarning(f\"Latex injecting: '{ext}' from '{subsource}'\"))\n",
      "/Users/fouesneau/Work/arxiver_on_deck_2/examples/../arxiv_on_deck_2/latex.py:282: LatexWarning: Latex injecting: 'sample2' from 'tmp_2204.00635/sample2.tex'\n",
      "  warnings.warn(LatexWarning(f\"Latex injecting: '{ext}' from '{subsource}'\"))\n",
      "/usr/local/lib/python3.9/site-packages/IPython/core/interactiveshell.py:3444: LatexWarning: Multiple tex files.\n",
      "\n",
      "  exec(code_obj, self.user_global_ns, self.user_ns)\n",
      "/usr/local/lib/python3.9/site-packages/IPython/core/interactiveshell.py:3444: LatexWarning: Found documentclass in tmp_2204.00637/main.tex\n",
      "\n",
      "  exec(code_obj, self.user_global_ns, self.user_ns)\n",
      "/usr/local/lib/python3.9/site-packages/IPython/core/interactiveshell.py:3444: LatexWarning: Multiple tex files.\n",
      "\n",
      "  exec(code_obj, self.user_global_ns, self.user_ns)\n",
      "/usr/local/lib/python3.9/site-packages/IPython/core/interactiveshell.py:3444: LatexWarning: Found documentclass in tmp_2204.00640/aassymbols.tex\n",
      "\n",
      "  exec(code_obj, self.user_global_ns, self.user_ns)\n",
      "/usr/local/lib/python3.9/site-packages/IPython/core/interactiveshell.py:3444: LatexWarning: Multiple tex files.\n",
      "\n",
      "  exec(code_obj, self.user_global_ns, self.user_ns)\n",
      "/usr/local/lib/python3.9/site-packages/IPython/core/interactiveshell.py:3444: LatexWarning: Found documentclass in tmp_2204.01104/aassymbols.tex\n",
      "\n",
      "  exec(code_obj, self.user_global_ns, self.user_ns)\n"
     ]
    },
    {
     "name": "stdout",
     "output_type": "stream",
     "text": [
      "Retrieving document from  https://arxiv.org/e-print/2204.01256\n"
     ]
    },
    {
     "name": "stderr",
     "output_type": "stream",
     "text": [
      "/var/folders/jb/twt_8kfx4mj86m9v8jgccs_r5gbl99/T/ipykernel_43944/3844102717.py:37: LatexWarning: 2204.01256 did not run properly\n",
      "not a gzip file\n",
      "  warnings.warn(latex.LatexWarning(f\"{paper_id:s} did not run properly\\n\" +\n",
      "/usr/local/lib/python3.9/site-packages/IPython/core/interactiveshell.py:3444: LatexWarning: Multiple tex files.\n",
      "\n",
      "  exec(code_obj, self.user_global_ns, self.user_ns)\n",
      "/usr/local/lib/python3.9/site-packages/IPython/core/interactiveshell.py:3444: LatexWarning: Found documentclass in tmp_2204.01330/HELIOS-R2_brown_dwarfs_1.tex\n",
      "\n",
      "  exec(code_obj, self.user_global_ns, self.user_ns)\n"
     ]
    },
    {
     "name": "stdout",
     "output_type": "stream",
     "text": [
      "Retrieving document from  https://arxiv.org/e-print/2204.01377\n"
     ]
    },
    {
     "name": "stderr",
     "output_type": "stream",
     "text": [
      "/var/folders/jb/twt_8kfx4mj86m9v8jgccs_r5gbl99/T/ipykernel_43944/3844102717.py:37: LatexWarning: 2204.01377 did not run properly\n",
      "not a gzip file\n",
      "  warnings.warn(latex.LatexWarning(f\"{paper_id:s} did not run properly\\n\" +\n",
      "/usr/local/lib/python3.9/site-packages/IPython/core/interactiveshell.py:3444: LatexWarning: Multiple tex files.\n",
      "\n",
      "  exec(code_obj, self.user_global_ns, self.user_ns)\n",
      "/usr/local/lib/python3.9/site-packages/IPython/core/interactiveshell.py:3444: LatexWarning: Found documentclass in tmp_2204.01421/MN-21-4463-MJ.R2.tex\n",
      "\n",
      "  exec(code_obj, self.user_global_ns, self.user_ns)\n",
      "/usr/local/lib/python3.9/site-packages/IPython/core/interactiveshell.py:3444: LatexWarning: Multiple tex files.\n",
      "\n",
      "  exec(code_obj, self.user_global_ns, self.user_ns)\n",
      "/usr/local/lib/python3.9/site-packages/IPython/core/interactiveshell.py:3444: LatexWarning: Found documentclass in tmp_2204.01594/main.tex\n",
      "\n",
      "  exec(code_obj, self.user_global_ns, self.user_ns)\n",
      "/usr/local/lib/python3.9/site-packages/IPython/core/interactiveshell.py:3444: LatexWarning: Multiple tex files.\n",
      "\n",
      "  exec(code_obj, self.user_global_ns, self.user_ns)\n",
      "/usr/local/lib/python3.9/site-packages/IPython/core/interactiveshell.py:3444: LatexWarning: Found documentclass in tmp_2204.01649/main.tex\n",
      "\n",
      "  exec(code_obj, self.user_global_ns, self.user_ns)\n"
     ]
    }
   ],
   "source": [
    "documents = []\n",
    "failed = []\n",
    "for paper in tqdm(candidates[:-1]):\n",
    "    paper_id = paper['identifier'].lower().replace('arxiv:', '')\n",
    "    \n",
    "    folder = f'tmp_{paper_id}'\n",
    "\n",
    "    try:\n",
    "        if not os.path.isdir(folder):\n",
    "            folder = retrieve_document_source(f\"{paper_id}\", f'tmp_{paper_id}')\n",
    "        \n",
    "        try:\n",
    "            doc = latex.LatexDocument(folder, validation=validation)    \n",
    "        except AffiliationError as affilerror:\n",
    "            msg = f\"ArXiv:{paper_id:s} is not an MPIA paper... \" + str(affilerror)\n",
    "            failed.append((paper, \"affiliation error: \" + str(affilerror) ))\n",
    "            continue\n",
    "        \n",
    "        # Hack because sometimes author parsing does not work well\n",
    "        if (len(doc.authors) != len(paper['authors'])):\n",
    "            doc._authors = paper['authors']\n",
    "        if (doc.abstract) is None:\n",
    "            doc.abstract = paper['abstract']\n",
    "            \n",
    "        doc.comment = get_markdown_badge(paper_id) + \" _\" + paper['comments'] + \"_\"\n",
    "        doc.highlight_authors_in_list(hl_list)\n",
    "\n",
    "        full_md = html + doc.generate_markdown_text()\n",
    "        # Make CSS paper specific\n",
    "        ## Set CSS and figure div names accordingly\n",
    "        divref = paper_id.replace('.', '_')\n",
    "        full_md = full_md.replace('fig1', f'div_{divref}_fig1')\\\n",
    "                         .replace('fig2', f'div_{divref}_fig2')\\\n",
    "                         .replace('fig3', f'div_{divref}_fig3')\n",
    "        documents.append((paper_id, full_md))\n",
    "    except Exception as e:\n",
    "        warnings.warn(latex.LatexWarning(f\"{paper_id:s} did not run properly\\n\" +\n",
    "                                         str(e)\n",
    "                                        ))\n",
    "        failed.append((paper, \"latex error \" + str(e)))"
   ]
  },
  {
   "cell_type": "markdown",
   "id": "2505a25c",
   "metadata": {},
   "source": [
    "### Export the logs\n",
    "\n",
    "Throughout, we also keep track of the logs per paper. see `logs-{today date}.md` "
   ]
  },
  {
   "cell_type": "code",
   "execution_count": 6,
   "id": "d733828a",
   "metadata": {
    "scrolled": false
   },
   "outputs": [
    {
     "data": {
      "text/markdown": [
       "## Successful papers"
      ],
      "text/plain": [
       "<IPython.core.display.Markdown object>"
      ]
     },
     "metadata": {},
     "output_type": "display_data"
    },
    {
     "data": {
      "text/markdown": [
       "\n",
       "|||\n",
       "|---:|:---|\n",
       "| [![arXiv](https://img.shields.io/badge/arXiv-arXiv:2204.00793-b31b1b.svg)](https://arxiv.org/abs/arXiv:2204.00793) | **Spatially resolved molecular interstellar medium in a $z=6.6$ quasar  host galaxy**  |\n",
       "|| Jianan Li, et al. -- incl., <mark>Fabian Walter</mark> |\n",
       "|*Comments*| *12 pages, 6 figures, accepted for publication in ApJ*|\n",
       "|**Abstract**| We present high spatial resolution (0.4\", 2.2kpc) observations of the CO(6-5), CO(7-6) and [CI] lines and dust continuum emission from the interstellar medium in the host galaxy of the quasar J0305$-$3150 at $z=6.6$. These, together with archival [CII] data at comparable spatial resolution, enable studies of the spatial distribution and kinematics between the ISM in different phases. When comparing the radial profiles of CO, [CII] and the dust continuum, we find that the CO and dust continuum exhibit similar spatial distributions, both of which are less extended than the [CII], indicating that the CO and dust continuum are tracing the same gas component, while the [CII] is tracing a more extended one. In addition, we derive the radial profiles of the [CII]/CO, [CII]/far-infrared (FIR), CO/FIR, and dust continuum $S_{98.7 \\rm GHz}/S_{258.1 \\rm GHz}$ ratios. We find a decreasing $S_{98.7 \\rm GHz}/S_{258.1 \\rm GHz}$ ratio with radius, possibly indicating a decrease of dust optical depth with increasing radius. We also detect some of the ISM lines and continuum emission in the companion galaxies previously discovered in the field around J0305$-$3150. Through comparing the line-to-line and line-to-FIR ratios, we find no significant differences between the quasar and its companion galaxies. |"
      ],
      "text/plain": [
       "[arXiv:2204.00793] Spatially resolved molecular interstellar medium in a $z=6.6$ quasar  host galaxy\n",
       "\tJianan Li, et al. -- incl., <mark>Fabian Walter</mark>"
      ]
     },
     "metadata": {},
     "output_type": "display_data"
    },
    {
     "data": {
      "text/markdown": [
       "\n",
       "|||\n",
       "|---:|:---|\n",
       "| [![arXiv](https://img.shields.io/badge/arXiv-arXiv:2204.01245-b31b1b.svg)](https://arxiv.org/abs/arXiv:2204.01245) | **Staring at the Shadows of Archaic Galaxies: Damped Ly$α$ and Metal  Absorbers toward a Young $z \\sim 6$ Weak-line Quasar**  |\n",
       "|| <mark>Irham Taufik Andika</mark>, et al. -- incl., <mark>Knud Jahnke</mark>, <mark>Eduardo Bañados</mark>, <mark>Sarah E. I. Bosman</mark>, <mark>Frederick B. Davies</mark> |\n",
       "|*Comments*| *22 pages, 12 figures, and 1 table. Accepted for publication in The Astronomical Journal. We welcome the comments from the reader. Related paper: arXiv:2009.07784*|\n",
       "|**Abstract**| We characterize the Ly$\\alpha$ halo and absorption systems toward PSO J083+11, a unique $z=6.3401$ weak-line quasar, using Gemini/GNIRS, Magellan/FIRE, and VLT/MUSE data. Strong absorptions by hydrogen and several metal lines (e.g., CII, MgII, and OI) are discovered in the spectrum, which indicates the presence of: (i) a proximate sub-damped Ly$\\alpha$ (sub-DLA) system at $z=6.314$ and (ii) a MgII absorber at $z=2.2305$. To describe the observed damping wing signal, we model the Ly$\\alpha$ absorption with a combination of a sub-DLA with the neutral hydrogen column density of $\\log N_\\mathrm{HI} = 20.03 \\pm 0.30$ cm$^{-2}$ and absorption from the intergalactic medium with a neutral fraction of around 10 percent. The sub-DLA toward PSO J083+11 has an abundance ratio of [C/O] $=-0.04 \\pm 0.33$ and metallicity of [O/H] $=-2.19 \\pm 0.44$, similar to those of low-redshift metal-poor DLAs. These measurements suggest that the sub-DLA might truncate PSO J083+11's proximity zone size and complicate the quasar lifetime measurement. However, this quasar shows no sign of a Ly$\\alpha$ halo in the MUSE datacube, where the estimated $1\\sigma$ limit of surface brightness is $2.76 \\times 10^{-18}$ erg s$^{-1}$ cm$^{-2}$ arcsec$^{-2}$ at aperture size of 1 arcsecond, or equivalent to a Ly$\\alpha$ luminosity of $\\leq 43.46$ erg s$^{-1}$. This non-detection, while being only weak independent evidence on its own, is at least consistent with a young quasar scenario, as expected for a quasar with a short accretion timescale. |"
      ],
      "text/plain": [
       "[arXiv:2204.01245] Staring at the Shadows of Archaic Galaxies: Damped Ly$α$ and Metal  Absorbers toward a Young $z \\sim 6$ Weak-line Quasar\n",
       "\t<mark>Irham Taufik Andika</mark>, et al. -- incl., <mark>Knud Jahnke</mark>, <mark>Eduardo Bañados</mark>, <mark>Sarah E. I. Bosman</mark>, <mark>Frederick B. Davies</mark>"
      ]
     },
     "metadata": {},
     "output_type": "display_data"
    },
    {
     "data": {
      "text/markdown": [
       "## Failed papers"
      ],
      "text/plain": [
       "<IPython.core.display.Markdown object>"
      ]
     },
     "metadata": {},
     "output_type": "display_data"
    },
    {
     "data": {
      "text/markdown": [
       "\n",
       "|||\n",
       "|---:|:---|\n",
       "| [![arXiv](https://img.shields.io/badge/arXiv-arXiv:2204.01256-b31b1b.svg)](https://arxiv.org/abs/arXiv:2204.01256) | **Monte Carlo Physarum Machine: Characteristics of Pattern Formation in  Continuous Stochastic Transport Networks**  |\n",
       "|| Oskar Elek, <mark>Joseph N. Burchett</mark>, J. Xavier Prochaska, Angus G. Forbes |\n",
       "|*Comments*| **|\n",
       "|**Abstract**| We present Monte Carlo Physarum Machine: a computational model suitable for reconstructing continuous transport networks from sparse 2D and 3D data. MCPM is a probabilistic generalization of Jones's 2010 agent-based model for simulating the growth of Physarum polycephalum slime mold. We compare MCPM to Jones's work on theoretical grounds, and describe a task-specific variant designed for reconstructing the large-scale distribution of gas and dark matter in the Universe known as the Cosmic web. To analyze the new model, we first explore MCPM's self-patterning behavior, showing a wide range of continuous network-like morphologies -- called \"polyphorms\" -- that the model produces from geometrically intuitive parameters. Applying MCPM to both simulated and observational cosmological datasets, we then evaluate its ability to produce consistent 3D density maps of the Cosmic web. Finally, we examine other possible tasks where MCPM could be useful, along with several examples of fitting to domain-specific data as proofs of concept. |\n",
       "|<p style=\"color:red\"> **ERROR** </p>| <p style=\"color:red\">latex error not a gzip file</p> |"
      ],
      "text/plain": [
       "<IPython.core.display.Markdown object>"
      ]
     },
     "metadata": {},
     "output_type": "display_data"
    },
    {
     "data": {
      "text/markdown": [
       "\n",
       "|||\n",
       "|---:|:---|\n",
       "| [![arXiv](https://img.shields.io/badge/arXiv-arXiv:2204.01377-b31b1b.svg)](https://arxiv.org/abs/arXiv:2204.01377) | **Galactic Cosmic Rays at Mars and Venus: Temporal Variations from Hours  to Decades Measured as the Background Signal of Onboard Micro-Channel Plates**  |\n",
       "|| Yoshifumi Futaana, et al. -- incl., <mark>Herman Andersson</mark> |\n",
       "|*Comments*| *Submitted to ApJ (2022-03-19)*|\n",
       "|**Abstract**| A Micro-Channel Plate (MCP) is a widely used component for counting particles in space. Using the background counts of MCPs on Mars Express and Venus Express orbiters operated over 17 years and 8 years, respectively, we investigate the galactic cosmic ray (GCR) characteristics in the inner solar system. The MCP background counts at Mars and Venus on a solar cycle time scale exhibit clear anti-correlation to the sunspot number. We conclude that the measured MCP background contain the GCR information. The GCR characteristics measured using the MCP background at Mars show features that are consistent with the ground-based measurement in solar cycle 24. The time lag between the sunspot number and the MCP background at Mars is found ~9 months. The shorter-term background data recorded along the orbits (with a time scale of several hours) also show evident depletion of the background counts due to the absorption of the GCR particles by the planets. Thanks to the visible planetary size change along an orbit, the GCR contribution to the MCP background can be separated from the internal contribution due to the \\b{eta}-decay. Our statistical analysis of the GCR absorption signatures at Mars implies that the effective absorption size of Mars for the GCR particles have a >100 km larger radius than the solid Martian body. |\n",
       "|<p style=\"color:red\"> **ERROR** </p>| <p style=\"color:red\">latex error not a gzip file</p> |"
      ],
      "text/plain": [
       "<IPython.core.display.Markdown object>"
      ]
     },
     "metadata": {},
     "output_type": "display_data"
    }
   ],
   "source": [
    "import datetime\n",
    "today = str(datetime.date.today())\n",
    "logfile = f\"log-{today}.md\"\n",
    "\n",
    "\n",
    "with open(logfile, 'w') as logs:\n",
    "    # Success\n",
    "    logs.write(f'# Arxiv on Deck 2: Logs - {today}\\n\\n')\n",
    "    logs.write(\"\"\"* Arxiv had {0:,d} new papers\\n\"\"\".format(len(new_papers)))\n",
    "    logs.write(\"\"\"    * {0:,d} with possible author matches\\n\\n\"\"\".format(len(candidates)))\n",
    "    logs.write(\"## Sucessful papers\\n\\n\")\n",
    "    display(Markdown(\"## Successful papers\"))\n",
    "    success = [k[0] for k in documents]\n",
    "    for candid in candidates:\n",
    "        if candid['identifier'].split(':')[-1] in success:\n",
    "            display(candid)\n",
    "            logs.write(candid.generate_markdown_text() + '\\n\\n')\n",
    "\n",
    "    ## failed\n",
    "    logs.write(\"## Failed papers\\n\\n\")\n",
    "    display(Markdown(\"## Failed papers\"))\n",
    "    failed = sorted(failed, key=lambda x: x[1])\n",
    "    current_reason = \"\"\n",
    "    for paper, reason in failed:\n",
    "        if 'affiliation' in reason:\n",
    "            color = 'green'\n",
    "        else:\n",
    "            color = 'red'\n",
    "        data = Markdown(\n",
    "                paper.generate_markdown_text() + \n",
    "                f'\\n|<p style=\"color:{color:s}\"> **ERROR** </p>| <p style=\"color:{color:s}\">{reason:s}</p> |'\n",
    "               )\n",
    "        if reason != current_reason:\n",
    "            logs.write(f'### {reason:s} \\n\\n')\n",
    "            current_reason = reason\n",
    "        logs.write(data.data + '\\n\\n')\n",
    "        \n",
    "        # only display here the important errors (all in logs)\n",
    "        if color in ('red',):\n",
    "            display(data)"
   ]
  },
  {
   "cell_type": "markdown",
   "id": "472d20ee",
   "metadata": {},
   "source": [
    "## Export documents\n",
    "\n",
    "We now write the .md files and export relevant images"
   ]
  },
  {
   "cell_type": "code",
   "execution_count": 7,
   "id": "d426aed9",
   "metadata": {},
   "outputs": [],
   "source": [
    "def export_markdown_summary(md: str, md_fname:str, directory: str):\n",
    "    \"\"\"Export MD document and associated relevant images\"\"\"\n",
    "    import os\n",
    "    import shutil\n",
    "    import re\n",
    "\n",
    "    if (os.path.exists(directory) and not os.path.isdir(directory)):\n",
    "        raise RuntimeError(f\"a non-directory file exists with name {directory:s}\")\n",
    "\n",
    "    if (not os.path.exists(directory)):\n",
    "        print(f\"creating directory {directory:s}\")\n",
    "        os.mkdir(directory)\n",
    "\n",
    "    fig_fnames = (re.compile(r'\\[Fig.*\\]\\((.*)\\)').findall(md) + \n",
    "                  re.compile(r'\\<img src=\"([^>\\s]*)\"[^>]*/>').findall(md))\n",
    "    for fname in fig_fnames:\n",
    "        if 'http' in fname:\n",
    "            # No need to copy online figures\n",
    "            continue\n",
    "        destdir = os.path.join(directory, os.path.dirname(fname))\n",
    "        destfname = os.path.join(destdir, os.path.basename(fname))\n",
    "        try:\n",
    "            os.makedirs(destdir)\n",
    "        except FileExistsError:\n",
    "            pass\n",
    "        shutil.copy(fname, destfname)\n",
    "    with open(os.path.join(directory, md_fname), 'w') as fout:\n",
    "        fout.write(md)\n",
    "    print(\"exported in \", os.path.join(directory, md_fname))\n",
    "    [print(\"    + \" + os.path.join(directory,fk)) for fk in fig_fnames]"
   ]
  },
  {
   "cell_type": "code",
   "execution_count": 8,
   "id": "014d04a4",
   "metadata": {},
   "outputs": [
    {
     "name": "stdout",
     "output_type": "stream",
     "text": [
      "exported in  exports/2204.00793.md\n",
      "    + exports/tmp_2204.00793/./cii_spectra.png\n",
      "    + exports/tmp_2204.00793/./comp1.png\n",
      "    + exports/tmp_2204.00793/./co65_spectra.png\n",
      "    + exports/tmp_2204.00793/./comp2.png\n",
      "    + exports/tmp_2204.00793/./co76_spectra.png\n",
      "    + exports/tmp_2204.00793/./comp3.png\n",
      "    + exports/tmp_2204.00793/./radial_profile.png\n",
      "    + exports/tmp_2204.00793/./radial_ratio_co_cii.png\n",
      "    + exports/tmp_2204.00793/./figure_sflaw.png\n",
      "    + exports/tmp_2204.00793/./figure_deficit.png\n",
      "exported in  exports/2204.01245.md\n",
      "    + exports/tmp_2204.01245/figures/fig_spec_model.png\n",
      "    + exports/tmp_2204.01245/figures/fig_velo_plot_first.png\n",
      "    + exports/tmp_2204.01245/figures/fig_velo_plot_last.png\n",
      "    + exports/tmp_2204.01245/figures/fig_halo_flux.png\n"
     ]
    }
   ],
   "source": [
    "for paper_id, md in documents:\n",
    "    export_markdown_summary(md, f\"{paper_id:s}.md\", 'exports')"
   ]
  },
  {
   "cell_type": "markdown",
   "id": "f087a0a7",
   "metadata": {},
   "source": [
    "## Display the papers\n",
    "\n",
    "Not necessary but allows for a quick check."
   ]
  },
  {
   "cell_type": "code",
   "execution_count": 9,
   "id": "fd25f625",
   "metadata": {
    "scrolled": false
   },
   "outputs": [
    {
     "data": {
      "text/markdown": [
       "\n",
       "<style>\n",
       "#wrap{ overflow:auto; }\n",
       "#div_2204_00793_fig1{ width:100%; float:left; padding: 5px;  }\n",
       "#div_2204_00793_fig2{ width:50%; float:left; clear:left; padding: 5px;  }\n",
       "#div_2204_00793_fig3{ width:50%; float:left; padding: 5px;  }\n",
       ".macros{ visibility:hidden; height:0px; }\n",
       "h1 {margin: 0em 0 0 0;}\n",
       "mark {background-color:#fff3b6;}\n",
       "img {object-fit:contain; max-height:250px; display:inline-block; text-align: center;}\n",
       "</style>\n",
       "<div class=\"macros\" style=\"visibility:hidden;\">\n",
       "$\\newcommand{\\ensuremath}{}$\n",
       "$\\newcommand{\\xspace}{}$\n",
       "$\\newcommand{\\object}[1]{\\texttt{#1}}$\n",
       "$\\newcommand{\\farcs}{{.}''}$\n",
       "$\\newcommand{\\farcm}{{.}'}$\n",
       "$\\newcommand{\\arcsec}{''}$\n",
       "$\\newcommand{\\arcmin}{'}$\n",
       "$\\newcommand{\\ion}[2]{#1#2}$\n",
       "$\\newcommand{\\vdag}{(v)^\\dagger}$\n",
       "$\\newcommand$\n",
       "$\\newcommand$\n",
       "$\\newcommand{\\hii}{\\ion{H}{2}}$\n",
       "$\\newcommand{\\oiii}{[\\ion{O}{3}]_{\\rm 88 \\mu m}}$\n",
       "$\\newcommand{\\oi}{[\\ion{O}{1}]_{\\rm 146 \\mu m}}$\n",
       "$\\newcommand{\\lsun}{L_{\\sun}}$\n",
       "$\\newcommand{\\nele}{n_{e}}$\n",
       "$\\newcommand{\\pcubcm}{\\rm cm^{-3}}$\n",
       "$\\newcommand{\\cotwo}{CO(2-1)}$\n",
       "$\\newcommand{\\coone}{CO(1-0)}$\n",
       "$\\newcommand{\\ci}{[\\ion{C}{1}]_{\\rm 369 \\mu m} }$\n",
       "$\\newcommand{\\cii}{[\\ion{C}{2}]_{\\rm 158 \\mu m} }$\n",
       "$\\newcommand{\\cosix}{CO(6-5) }$\n",
       "$\\newcommand{\\cosev}{CO(7-6) }$\n",
       "$\\newcommand{\\qso}{J0305-3150}$\n",
       "$\\newcommand{\\kmps}{\\rm km s^{-1}}$\n",
       "$\\newcommand{\\mjypb}{\\rm mJy  beam^{-1}}$\n",
       "$\\newcommand{\\ujypb}{\\rm \\mu Jy  beam^{-1}}$\n",
       "$\\newcommand{\\jykmps}{\\rm Jy km s^{-1} }$\n",
       "$\\newcommand{\\msun}{\\rm M_{\\sun}}$</div>\n",
       "\n",
       "# Spatially resolved molecular interstellar medium in a z=6.6 quasar host galaxy\n",
       "\n",
       " [![arXiv](https://img.shields.io/badge/arXiv-2204.00793-b31b1b.svg)](https://arxiv.org/abs/2204.00793) _12 pages, 6 figures, accepted for publication in ApJ_\n",
       "\n",
       "Jianan Li, et al. -- incl., <mark>Fabian Walter</mark> \n",
       "\n",
       " **Abstract:** We present high spatial resolution ($\\sim$0$\\farcs$4, 2.2kpc) observations of the$\\cosix$,$\\cosev$and$\\ci$lines and dust continuum emission from the interstellar medium in the host galaxy of the quasar$\\qso$at$z=6.6$.These, together with archival$\\ci$idata at comparable spatial resolution, enable studies of the spatial distribution and kinematics between the ISM in different phases.When comparing the radial profiles of CO,$\\ci$iand the dust continuum, we find that the CO and dust continuum exhibit similar spatial distributions, both of which are less extended than the$\\ci$i, indicating that the CO and dust continuum are tracing the same gas component, while the[CII]158um is tracing a more extended one.In addition, we derive the radial profiles of the$\\ci$i/CO,$\\ci$i/far-infrared (FIR), CO/FIR, and dust continuum$S_{98.7 \\rm GHz}/S_{258.1 \\rm GHz}$ratios.We find a decreasing$S_{98.7 \\rm GHz}/S_{258.1 \\rm GHz}$ratio with radius, possibly indicating a decrease of dust optical depth with increasing radius.We also detect some of the ISM lines and continuum emission in the companion galaxies previously discovered in the field around$\\qso$.  Through comparing the line-to-line and line-to-FIR ratios, we find no significant differences between the quasar and its companion galaxies.\n",
       "<div id=\"div_2204_00793_fig1\">\n",
       "\n",
       "<img src=\"tmp_2204.00793/./cii_spectra.png\" alt=\"Fig2.1\" width=\"16%\"/><img src=\"tmp_2204.00793/./comp1.png\" alt=\"Fig2.2\" width=\"16%\"/><img src=\"tmp_2204.00793/./co65_spectra.png\" alt=\"Fig2.3\" width=\"16%\"/><img src=\"tmp_2204.00793/./comp2.png\" alt=\"Fig2.4\" width=\"16%\"/><img src=\"tmp_2204.00793/./co76_spectra.png\" alt=\"Fig2.5\" width=\"16%\"/><img src=\"tmp_2204.00793/./comp3.png\" alt=\"Fig2.6\" width=\"16%\"/>\n",
       "\n",
       "**Figure 2. -** Left column: Spectra of $\\ci$i,  $\\cosix$, $\\cosev$  for the quasar $\\qso$. Data are shown in yellow histograms. The red solid lines are Gaussian profile fits to the spectra with the line centers fixed to the $\\ci$i  redshift of $z=6.61391$\\citep{venemans19}. The continuum has been subtracted for each of the spectra here displayed. Right column: $\\ci$i  spectra for the companion galaxies C1, C2 and C3.  Data are shown in yellow histograms. The red solid lines are Gaussian profile fits to the spectra with the line centers fixed to the $\\ci$i  redshift obtained from  $\\ci$tet{venemans19}.\\label{spectra3} The blue dashed lines indicate the noise at $\\pm$ 1 $\\sigma$ level.\n",
       "The $\\ci$i  spectrum of C3 is extracted from an aperture with a radius of 0$\\farcs$6.\n",
       "The spectral channel widths for the quasar and the companion galaxies are 35 $\\kmps$.\n",
       "For the source C3,  we present a stacked spectrum of the $\\cosev$  and $\\cosix$  lines extracted from the peak positions on the top left of the  $\\ci$i  spectrum panel. (*spectra3*)\n",
       "\n",
       "</div>\n",
       "<div id=\"div_2204_00793_fig2\">\n",
       "\n",
       "<img src=\"tmp_2204.00793/./radial_profile.png\" alt=\"Fig5.1\" width=\"50%\"/><img src=\"tmp_2204.00793/./radial_ratio_co_cii.png\" alt=\"Fig5.2\" width=\"50%\"/>\n",
       "\n",
       "**Figure 5. -** Left: Radial profiles of different gas and dust continuum tracers. The line fluxes are normalized to the peak pixel fluxes.\n",
       "Right: Similar as the left panel, but showing the radio profiles of different line ratios.\n",
       "\\label{fig:radial} (*fig:radial*)\n",
       "\n",
       "</div>\n",
       "<div id=\"div_2204_00793_fig3\">\n",
       "\n",
       "<img src=\"tmp_2204.00793/./figure_sflaw.png\" alt=\"Fig6.1\" width=\"50%\"/><img src=\"tmp_2204.00793/./figure_deficit.png\" alt=\"Fig6.2\" width=\"50%\"/>\n",
       "\n",
       "**Figure 6. -** Left:  SFR surface density $vs$ molecular gas surface density for $\\qso$  and its companion galaxy C3 (the molecular gas surface densities of C1 and C2 are unable to determine).\n",
       "Comparison samples include local spiral  (\"local spirals\") and starburst (\"local starbursts\") galaxies  from $\\ci$tet{kennicutt19} and $\\ci$tet{kennicutt21},  the z=4.69 quasar BRI 1202 (\"BRI 1202 QSO\") and its companion submillimeter galaxy (\"BRI 1202  SMG\") from $\\ci$tet{wagg12} and $\\ci$tet{jones16},  and the z=6.33 quasar J0100+2802(\"J0100\") from $\\ci$tet{wang19b}. The SFRs of $\\qso$  and C3 are calculated using the same formula as that presented in  $\\ci$tet{kennicutt21}.\n",
       "Right: $\\ci$i  deficit diagram for the quasar $\\qso$  and its companion galaxy C2 and C3 (C1 is not included because of difficulties in constraining the source size).   Assuming the CO lines of C3 to be spatially unresolved, we use the beam size of $\\cosix$  as an upper limit for the source size in the TIR surface density estimation of C3.\n",
       " \"QSOs\" and \"companions\" refer to z$\\sim$6 quasar and companion galaxy samples collected from\n",
       " $\\ci$tet{neelman19} and $\\ci$tet{decarli17}.\n",
       "The black solid line represents the $\\ci$i  deficit relation observed in local LIRGs from\n",
       "$\\ci$tet{diaz17}. For the objects in this work and in the comparison samples, the total infrared (TIR) luminosities are estimated from the continuum flux density close to the $\\ci$i   line frequency through assuming a modified black body model with temperature of 47K and emissivity of 1.6.\n",
       "\\label{fig:def} (*fig:def*)\n",
       "\n",
       "</div>"
      ],
      "text/plain": [
       "<IPython.core.display.Markdown object>"
      ]
     },
     "metadata": {},
     "output_type": "display_data"
    },
    {
     "data": {
      "text/markdown": [
       "\n",
       "<style>\n",
       "#wrap{ overflow:auto; }\n",
       "#div_2204_01245_fig1{ width:100%; float:left; padding: 5px;  }\n",
       "#div_2204_01245_fig2{ width:50%; float:left; clear:left; padding: 5px;  }\n",
       "#div_2204_01245_fig3{ width:50%; float:left; padding: 5px;  }\n",
       ".macros{ visibility:hidden; height:0px; }\n",
       "h1 {margin: 0em 0 0 0;}\n",
       "mark {background-color:#fff3b6;}\n",
       "img {object-fit:contain; max-height:250px; display:inline-block; text-align: center;}\n",
       "</style>\n",
       "<div class=\"macros\" style=\"visibility:hidden;\">\n",
       "$\\newcommand{\\ensuremath}{}$\n",
       "$\\newcommand{\\xspace}{}$\n",
       "$\\newcommand{\\object}[1]{\\texttt{#1}}$\n",
       "$\\newcommand{\\farcs}{{.}''}$\n",
       "$\\newcommand{\\farcm}{{.}'}$\n",
       "$\\newcommand{\\arcsec}{''}$\n",
       "$\\newcommand{\\arcmin}{'}$\n",
       "$\\newcommand{\\ion}[2]{#1#2}$\n",
       "$\\newcommand{\\vdag}{(v)^\\dagger}$\n",
       "$\\newcommand$\n",
       "$\\newcommand$\n",
       "$\\newcommand{\\Lya}{Ly\\alpha}$\n",
       "$\\newcommand{\\PSOJ}{PSO J083+11}$\n",
       "$\\newcommand{\\cii}{\\ion{C}{2}}$\n",
       "$\\newcommand{\\mgii}{\\ion{Mg}{2}}$\n",
       "$\\newcommand{\\mgi}{\\ion{Mg}{1}}$\n",
       "$\\newcommand{\\oi}{\\ion{O}{1}}$\n",
       "$\\newcommand{\\siii}{\\ion{Si}{2}}$\n",
       "$\\newcommand{\\alii}{\\ion{Al}{2}}$\n",
       "$\\newcommand{\\feii}{\\ion{Fe}{2}}$\n",
       "$\\newcommand{\\civ}{\\ion{C}{4}}$\n",
       "$\\newcommand{\\hi}{\\ion{H}{1}}$</div>\n",
       "\n",
       "# Staring at the Shadows of Archaic Galaxies: and Metal Absorbers toward a Young z6 Weak-line Quasar\n",
       "\n",
       " [![arXiv](https://img.shields.io/badge/arXiv-2204.01245-b31b1b.svg)](https://arxiv.org/abs/2204.01245) _22 pages, 12 figures, and 1 table. Accepted for publication in The Astronomical Journal. We welcome the comments from the reader. Related paper: arXiv:2009.07784_\n",
       "\n",
       "<mark>Irham Taufik Andika</mark>, et al. -- incl., <mark>Knud Jahnke</mark>, <mark>Eduardo Bañados</mark>, <mark>Sarah E. I. Bosman</mark>, <mark>Frederick B. Davies</mark> \n",
       "\n",
       " **Abstract:** We characterize the$\\Lya$halo and absorption systems toward$\\PSOJ$, a unique$z=6.3401$weak-line quasar, using Gemini/GNIRS, Magellan/FIRE, and VLT/MUSE data.Strong absorptions by hydrogen and several metal lines (e.g.,$\\cii$,$\\mgii$, and$\\oi$) are discovered in the spectrum, which indicates the presence of: (i) a proximate sub-damped$\\Lya$(sub-DLA) system at$z=6.314$and (ii) a$\\mgii$absorber at$z=2.2305$.To describe the observed damping wing signal, we model the$\\Lya$absorption with a combination of a sub-DLA with the neutral hydrogen column density of$\\log N_\\mathrm{HI} = 20.03 \\pm 0.30 \\mathrm{cm^{-2}}$and absorption from the intergalactic medium with a neutral fraction of around 10\\%.The sub-DLA toward$\\PSOJ$has an abundance ratio of[C/O]$=-0.04 \\pm 0.33$and metallicity of[O/H]$=-2.19 \\pm 0.44$, similar to those of low-redshift metal-poor DLAs.These measurements suggest that the sub-DLA might truncate$\\PSOJ$'s proximity zone size and complicate the quasar lifetime measurement.However, this quasar shows no sign of a$\\Lya$halo in the MUSE datacube, where the estimated$1\\sigma$limit of surface brightness is$2.76 \\times 10^{-18} \\mathrm{erg s^{-1} cm^{-2} arcsec^{-2}}$at aperture size of 1$\\arcsec$, or equivalent to a$\\Lya$luminosity of$\\leq 43.46$erg s$^{-1}$.This non-detection, while being only weak independent evidence on its own, is at least consistent with a young quasar scenario, as expected for a quasar with a short accretion timescale.\n",
       "<div id=\"div_2204_01245_fig1\">\n",
       "\n",
       "<img src=\"tmp_2204.01245/figures/fig_spec_model.png\" alt=\"Fig4\" width=\"100%\"/>\n",
       "\n",
       "**Figure 4. -** \n",
       "\t\tThe MUSE + GNIRS spectrum of $\\PSOJ$(black line) and its associated shot noise (grey line).\n",
       "\t\tThe median composite spectrum of the low-redshift quasar analogs is shown as a cyan line with the $1\\sigma$ dispersion around the median as a light blue region.\n",
       "\t\tThe composite spectrum gives a decent fit to the main features observed in the $\\PSOJ$ spectrum redward of the $\\Lya$ emission.\n",
       "\t\tOn the other hand, the PCA model to better predict the blue-side of the quasar spectrum and its $1\\sigma$ dispersion are denoted with the red line and shaded region, respectively.\n",
       "\t\tThe wavelength range and spectrum used in the PCA fit to predict $\\Lya$ is shown with the red dashed line.\n",
       "        The inset figure shows the zoom-in to the region around $\\Lya$.\n",
       "        The $\\mgii$ $\\lambda\\lambda2796,2803$ doublet and $\\mgi$ $\\lambda2853$ absorptions at $z=2.2305$ are marked with blue dotted lines.\n",
       "        The wavelength ranges highlighted with magenta ($\\lambda_\\mathrm{obs}=$ 8850--8997 \\AA) and green ($\\lambda_\\mathrm{obs}=$ 9100--9200 \\AA) colors are the region of interest for creating the $\\Lya$ pseudo-narrowband and continuum images, respectively.\n",
       "\t (*fig:spec_model_wide*)\n",
       "\n",
       "</div>\n",
       "<div id=\"div_2204_01245_fig2\">\n",
       "\n",
       "<img src=\"tmp_2204.01245/figures/fig_velo_plot_first.png\" alt=\"Fig3.1\" width=\"50%\"/><img src=\"tmp_2204.01245/figures/fig_velo_plot_last.png\" alt=\"Fig3.2\" width=\"50%\"/>\n",
       "\n",
       "**Figure 3. -** \n",
       "\t\tThe velocity stack of the sub-DLA metal absorption lines at $z=6.314$ observed in the continuum-normalized combined MUSE + FIRE spectrum.\n",
       "\t\tThe data are shown as black lines with fitted models superposed in red.\n",
       "\t\tNote that the width of the red lines corresponds to the model uncertainty (see Section \\ref{sec:absline_analysis}).\n",
       "\t\tBlue curves show a $1\\sigma$ shot noise spectrum.\n",
       "\t\tWe use grey lines to show the data in regions with high noise due to skylines.\n",
       "\t\tThe absorptions from $\\mgii$ $\\lambda\\lambda2796,2803$ doublet and  $\\cii$ $\\lambda1334$ are clearly seen while there is only a marginal detection of $\\oi$ $\\lambda1302$.\n",
       "        Finally, the other associated metals like $\\siii$, $\\alii$, and $\\feii$ which one would expect specifically for a strong absorber are not apparent in the spectrum.\n",
       "\t (*fig:absline*)\n",
       "\n",
       "</div>\n",
       "<div id=\"div_2204_01245_fig3\">\n",
       "\n",
       "<img src=\"tmp_2204.01245/figures/fig_halo_flux.png\" alt=\"Fig1\" width=\"100%\"/>\n",
       "\n",
       "**Figure 1. -** The azimuthally averaged radial light profile of $\\PSOJ$'s $\\Lya$ emission measured from the PSF-subtracted pseudo-narrowband image.\n",
       "    Tentative detection of the halo flux within a 0$\\farcs$6 aperture radius is observed, but there are no apparent extended $\\Lya$ emissions beyond this radius.\n",
       "     (*fig:halo_flux*)\n",
       "\n",
       "</div>"
      ],
      "text/plain": [
       "<IPython.core.display.Markdown object>"
      ]
     },
     "metadata": {},
     "output_type": "display_data"
    }
   ],
   "source": [
    "[display(Markdown(k[1])) for k in documents];"
   ]
  },
  {
   "cell_type": "markdown",
   "id": "1cebacbc",
   "metadata": {},
   "source": [
    "# Debugging papers"
   ]
  },
  {
   "cell_type": "code",
   "execution_count": 10,
   "id": "18861263",
   "metadata": {},
   "outputs": [
    {
     "ename": "NotImplementedError",
     "evalue": "Manual Stop",
     "output_type": "error",
     "traceback": [
      "\u001b[0;31m---------------------------------------------------------------------------\u001b[0m",
      "\u001b[0;31mNotImplementedError\u001b[0m                       Traceback (most recent call last)",
      "\u001b[0;32m/var/folders/jb/twt_8kfx4mj86m9v8jgccs_r5gbl99/T/ipykernel_43944/3613455088.py\u001b[0m in \u001b[0;36m<module>\u001b[0;34m\u001b[0m\n\u001b[0;32m----> 1\u001b[0;31m \u001b[0;32mraise\u001b[0m \u001b[0mNotImplementedError\u001b[0m\u001b[0;34m(\u001b[0m\u001b[0;34m\"Manual Stop\"\u001b[0m\u001b[0;34m)\u001b[0m\u001b[0;34m\u001b[0m\u001b[0;34m\u001b[0m\u001b[0m\n\u001b[0m",
      "\u001b[0;31mNotImplementedError\u001b[0m: Manual Stop"
     ]
    }
   ],
   "source": [
    "raise NotImplementedError(\"Manual Stop\")"
   ]
  },
  {
   "cell_type": "code",
   "execution_count": null,
   "id": "827ccff3",
   "metadata": {
    "scrolled": true
   },
   "outputs": [],
   "source": [
    "import importlib\n",
    "importlib.reload(latex)\n",
    "which = \"2204.01245\"\n",
    "paper_id = f'{which:s}'\n",
    "folder = f'tmp_{paper_id:s}'\n",
    "doc = latex.LatexDocument(folder)    "
   ]
  },
  {
   "cell_type": "code",
   "execution_count": null,
   "id": "d21842d9",
   "metadata": {
    "scrolled": true
   },
   "outputs": [],
   "source": [
    "from TexSoup import TexSoup\n",
    "import re\n",
    "\n",
    "def bracket_error(source: str):\n",
    "    \"\"\" Find problematic portions of the document \"\"\"\n",
    "    \n",
    "    # Checking header\n",
    "    begin_doc = next(re.finditer(r'\\\\begin\\{document\\}', doc.source)).span()[1]\n",
    "    header = source[:begin_doc]\n",
    "    text = header + r\"\\n\\end{document}\"\n",
    "\n",
    "    try:\n",
    "        print(\"Header check... \", end='')\n",
    "        TexSoup(text)\n",
    "        print(\"ok\")\n",
    "    except:\n",
    "        print(\"error\")\n",
    "        raise RuntimeError(\"Error in the header\")\n",
    "        \n",
    "    # Check the text per section until the end.\n",
    "    # Do not stop and try them all.\n",
    "    \n",
    "    problematic_text = []\n",
    "    \n",
    "    sections = ([(0, begin_doc, 'until first section')] + \n",
    "                [(g.span()[0], g.span()[1], g.group()) for g in re.finditer(r'\\\\section\\{.*\\}', source)] +\n",
    "                [(g.span()[0], g.span()[1], g.group()) for g in re.finditer(r'\\\\begin\\{appendix\\}', source)]\n",
    "               )\n",
    "    \n",
    "    sections = sorted(sections, key=lambda x: x[0])\n",
    "    \n",
    "    prev_pos, prev_name = (0, 'header')\n",
    "    for span, span_end, name in sections:\n",
    "        text = source[prev_pos:span]\n",
    "        if prev_pos > begin_doc:\n",
    "            text = r\"\\n\\begin{document}\" + text + r\"\\n\\end{document}\"\n",
    "        else:\n",
    "            text = text + r\"\\n\\end{document}\"\n",
    "        try:\n",
    "            print(f\"{prev_pos}:{prev_name}-->{span}:{name} check... \", end='')\n",
    "            TexSoup(text, tolerance=1)  # allow not ending env\n",
    "            print(\"ok\")\n",
    "            prev_pos = span\n",
    "            prev_name = name\n",
    "        except:\n",
    "            print(f\"error between {prev_pos} and {span}\")\n",
    "            problematic_text.append((prev_pos, source[prev_pos:span]))\n",
    "            prev_pos = span\n",
    "            prev_name = name\n",
    "            # raise\n",
    "    return problematic_text\n",
    "\n",
    "\n",
    "def check_environment(text, offset=0):\n",
    "    \"\"\" Check environment \"\"\"\n",
    "    env = re.compile(r\"\\\\begin\\{(?P<env>.*)\\}(.*)\\\\end\\{(?P=env)\\}\", re.DOTALL)\n",
    "\n",
    "    for match in env.finditer(text):\n",
    "        beg, end = match.span()\n",
    "        beg += offset\n",
    "        end += offset\n",
    "        envname = match.groups()[0]\n",
    "        try:\n",
    "            latex.TexSoup(match.group())\n",
    "        except:\n",
    "            print(f\"Error in {envname:s} between {beg} and {end}\")\n",
    "            return match.groups()[1], beg, end\n",
    "    \n",
    "#[check_environment(k) for k in bracket_error(doc.source)]\n",
    "a = bracket_error(doc.source)\n",
    "for ak in a:\n",
    "    r = check_environment(ak[1], offset=ak[0])\n",
    "    print(r[1], r[2])\n",
    "    print(r[0])"
   ]
  },
  {
   "cell_type": "code",
   "execution_count": null,
   "id": "d7ef7bd9",
   "metadata": {},
   "outputs": [],
   "source": []
  }
 ],
 "metadata": {
  "kernelspec": {
   "display_name": "Python 3 (ipykernel)",
   "language": "python",
   "name": "python3"
  },
  "language_info": {
   "codemirror_mode": {
    "name": "ipython",
    "version": 3
   },
   "file_extension": ".py",
   "mimetype": "text/x-python",
   "name": "python",
   "nbconvert_exporter": "python",
   "pygments_lexer": "ipython3",
   "version": "3.9.9"
  }
 },
 "nbformat": 4,
 "nbformat_minor": 5
}
