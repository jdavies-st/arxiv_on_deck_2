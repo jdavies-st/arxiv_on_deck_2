{
 "cells": [
  {
   "cell_type": "code",
   "execution_count": 1,
   "metadata": {
    "cell_id": "00008-05d7adef-f465-4ad2-987b-63d1b0f5969b",
    "deepnote_cell_type": "code",
    "deepnote_to_be_reexecuted": false,
    "execution_millis": 229,
    "execution_start": 1637845256999,
    "source_hash": "1dcf3326",
    "tags": []
   },
   "outputs": [],
   "source": [
    "import sys\n",
    "sys.path.append('../')\n",
    "from arxiv_on_deck_2 import (collect_summary_information,\n",
    "                             generate_markdown_text, \n",
    "                             highlight_authors_in_list,\n",
    "                             make_short_author_list)\n",
    "from arxiv_on_deck_2 import mpia\n",
    "from requests.exceptions import HTTPError\n",
    "from IPython.display import Markdown"
   ]
  },
  {
   "cell_type": "markdown",
   "metadata": {},
   "source": [
    "# MPIA information"
   ]
  },
  {
   "cell_type": "code",
   "execution_count": 2,
   "metadata": {
    "cell_id": "00009-3a19b36b-ad76-4715-9dec-acf221f8f949",
    "deepnote_cell_type": "code",
    "deepnote_to_be_reexecuted": false,
    "execution_millis": 20969,
    "execution_start": 1637845257251,
    "source_hash": "85939f86",
    "tags": []
   },
   "outputs": [],
   "source": [
    "mpia_authors = mpia.get_mpia_mitarbeiter_list()"
   ]
  },
  {
   "cell_type": "markdown",
   "metadata": {},
   "source": [
    "# Examples"
   ]
  },
  {
   "cell_type": "markdown",
   "metadata": {},
   "source": [
    "## Example of MPIA paper (2111.06672)\n",
    "\n",
    "Note that the summary uses _h1_ title also appearing in the table of content of the notebook"
   ]
  },
  {
   "cell_type": "code",
   "execution_count": 3,
   "metadata": {
    "cell_id": "00003-b174e2bb-21cc-448e-a970-8088d563c5cd",
    "deepnote_cell_type": "code",
    "deepnote_output_heights": [
     611
    ],
    "deepnote_to_be_reexecuted": false,
    "execution_millis": 1544,
    "execution_start": 1637845280671,
    "scrolled": false,
    "source_hash": "e9b6f183",
    "tags": []
   },
   "outputs": [
    {
     "name": "stdout",
     "output_type": "stream",
     "text": [
      "starting all requests in the queue\n",
      "... requests sent.\n",
      "Identifiers 1, Retrieved 1 papers (0 generated errors)\n",
      "Not all papers were ready. Retrying... seconds...\n",
      "done.\n",
      " Identifiers 1, Retrieved 1 papers (0 generated errors)\n"
     ]
    },
    {
     "data": {
      "text/markdown": [
       "# Three-dimensional dust density structure of the Orion, Cygnus X, Taurus, and Perseus star-forming regions\n",
       "\n",
       "[![vanity](https://img.shields.io/badge/vanity-2111.06672-f9f107.svg)](https://www.arxiv-vanity.com/papers/2111.06672)\n",
       "[![arXiv](https://img.shields.io/badge/arXiv-2111.06672-b31b1b.svg)](https://arxiv.org/abs/2111.06672)\n",
       "\n",
       "<mark>T. E. Dharmawardena</mark>, <mark>C. A. L. Bailer-Jones</mark>, <mark>M. Fouesneau</mark>, D. Foreman-Mackey\n",
       "\n",
       "**Abstract:** Interstellar dust affects many astronomical observations through absorption and reddening, yet this extinction is also a powerful tool for studying interstellar matter in galaxies.\n",
       "Three-dimensional reconstructions of dust extinction and density in the Milky Way have suffered from artefacts such as the fingers-of-god effect and negative densities, and have been limited by large computational costs.\n",
       "Here we aim to overcome these issues with a novel algorithm that derives the three-dimensional (3D) extinction density of dust in the Milky Way using a latent variable Gaussian Process in combination with variational inference. Our model maintains non-negative density and hence monotonically non-decreasing extinction along all lines-of-sight, while performing the inference within a reasonable computational time.\n",
       "\n",
       "<a href=https://media.arxiv-vanity.com/render-output/5601490/Figures/SimulatedData/SimulatedData_Density_Original_SkippedSlices.png><img src=\"https://media.arxiv-vanity.com/render-output/5601490/Figures/SimulatedData/SimulatedData_Density_Original_SkippedSlices.png\" alt=\"Fig1.1\" width=\"33%\"/></a><a href=https://media.arxiv-vanity.com/render-output/5601490/Figures/SimulatedData/SimulatedData_Density_SlicesAlongDist_GPpred_SkippedSlices.png><img src=\"https://media.arxiv-vanity.com/render-output/5601490/Figures/SimulatedData/SimulatedData_Density_SlicesAlongDist_GPpred_SkippedSlices.png\" alt=\"Fig1.2\" width=\"33%\"/></a><a href=https://media.arxiv-vanity.com/render-output/5601490/Figures/SimulatedData/SimulatedData_Density_SlicesAlongDist_Pred-Original_Residual_SkippedSlices.png><img src=\"https://media.arxiv-vanity.com/render-output/5601490/Figures/SimulatedData/SimulatedData_Density_SlicesAlongDist_Pred-Original_Residual_SkippedSlices.png\" alt=\"Fig1.3\" width=\"33%\"/></a>\n",
       "\n",
       "Figure 5: Top:Simulated Density map sampled at the indicated distances; Middle:Our model reconstructed Density map sampled at the same distances as the simulated map; Bottom:Residual of Model Predicted density - Simulated Density\n",
       "\n",
       "<a href=https://media.arxiv-vanity.com/render-output/5601490/x36.png><img src=\"https://media.arxiv-vanity.com/render-output/5601490/x36.png\" alt=\"Fig2.1\" width=\"12%\"/></a><a href=https://media.arxiv-vanity.com/render-output/5601490/x37.png><img src=\"https://media.arxiv-vanity.com/render-output/5601490/x37.png\" alt=\"Fig2.2\" width=\"12%\"/></a><a href=https://media.arxiv-vanity.com/render-output/5601490/x38.png><img src=\"https://media.arxiv-vanity.com/render-output/5601490/x38.png\" alt=\"Fig2.3\" width=\"12%\"/></a><a href=https://media.arxiv-vanity.com/render-output/5601490/x39.png><img src=\"https://media.arxiv-vanity.com/render-output/5601490/x39.png\" alt=\"Fig2.4\" width=\"12%\"/></a><a href=https://media.arxiv-vanity.com/render-output/5601490/x40.png><img src=\"https://media.arxiv-vanity.com/render-output/5601490/x40.png\" alt=\"Fig2.5\" width=\"12%\"/></a><a href=https://media.arxiv-vanity.com/render-output/5601490/x41.png><img src=\"https://media.arxiv-vanity.com/render-output/5601490/x41.png\" alt=\"Fig2.6\" width=\"12%\"/></a><a href=https://media.arxiv-vanity.com/render-output/5601490/x42.png><img src=\"https://media.arxiv-vanity.com/render-output/5601490/x42.png\" alt=\"Fig2.7\" width=\"12%\"/></a><a href=https://media.arxiv-vanity.com/render-output/5601490/x43.png><img src=\"https://media.arxiv-vanity.com/render-output/5601490/x43.png\" alt=\"Fig2.8\" width=\"12%\"/></a>\n",
       "\n",
       "Figure 24: As Fig. 23, showing Planck Dust Intensity.\n",
       "\n",
       "<a href=https://media.arxiv-vanity.com/render-output/5601490/x28.png><img src=\"https://media.arxiv-vanity.com/render-output/5601490/x28.png\" alt=\"Fig3.1\" width=\"12%\"/></a><a href=https://media.arxiv-vanity.com/render-output/5601490/x29.png><img src=\"https://media.arxiv-vanity.com/render-output/5601490/x29.png\" alt=\"Fig3.2\" width=\"12%\"/></a><a href=https://media.arxiv-vanity.com/render-output/5601490/x30.png><img src=\"https://media.arxiv-vanity.com/render-output/5601490/x30.png\" alt=\"Fig3.3\" width=\"12%\"/></a><a href=https://media.arxiv-vanity.com/render-output/5601490/x31.png><img src=\"https://media.arxiv-vanity.com/render-output/5601490/x31.png\" alt=\"Fig3.4\" width=\"12%\"/></a><a href=https://media.arxiv-vanity.com/render-output/5601490/x32.png><img src=\"https://media.arxiv-vanity.com/render-output/5601490/x32.png\" alt=\"Fig3.5\" width=\"12%\"/></a><a href=https://media.arxiv-vanity.com/render-output/5601490/x33.png><img src=\"https://media.arxiv-vanity.com/render-output/5601490/x33.png\" alt=\"Fig3.6\" width=\"12%\"/></a><a href=https://media.arxiv-vanity.com/render-output/5601490/x34.png><img src=\"https://media.arxiv-vanity.com/render-output/5601490/x34.png\" alt=\"Fig3.7\" width=\"12%\"/></a><a href=https://media.arxiv-vanity.com/render-output/5601490/x35.png><img src=\"https://media.arxiv-vanity.com/render-output/5601490/x35.png\" alt=\"Fig3.8\" width=\"12%\"/></a>\n",
       "\n",
       "Figure 23: Top four panels: Planck 850 μm maps for Orion (top left), Cygnus X (top right), Perseus (upper middle left), Taurus (upper middle right); Bottom four panels: Ratio of total extinction predicted by our model to Planck 850 μm normalised by the median of the ratio. Predicted extinction contours overlaid. Ratio plots are arranged in the same pattern as the Planck emission maps."
      ],
      "text/plain": [
       "<IPython.core.display.Markdown object>"
      ]
     },
     "execution_count": 3,
     "metadata": {},
     "output_type": "execute_result"
    }
   ],
   "source": [
    "paper_id = \"2111.06672\"\n",
    "content = collect_summary_information(paper_id, mpia.affiliation_verifications)[0]\n",
    "# Mitarbeiter list\n",
    "hl_list = [k[0] for k in mpia_authors]\n",
    "content['authors'] = highlight_authors_in_list(content['authors'], hl_list)\n",
    "content['authors'] = make_short_author_list(content['authors'])\n",
    "Markdown(generate_markdown_text(content))"
   ]
  },
  {
   "cell_type": "code",
   "execution_count": 4,
   "metadata": {
    "scrolled": false
   },
   "outputs": [
    {
     "name": "stdout",
     "output_type": "stream",
     "text": [
      "starting all requests in the queue\n",
      "... requests sent.\n",
      "Identifiers 1, Retrieved 1 papers (0 generated errors)\n",
      "Not all papers were ready. Retrying... seconds...\n",
      "done.\n",
      " Identifiers 1, Retrieved 1 papers (0 generated errors)\n"
     ]
    },
    {
     "data": {
      "text/markdown": [
       "# Astrophysical Parameters from Gaia DR2, 2MASS & AllWISE\n",
       "\n",
       "[![vanity](https://img.shields.io/badge/vanity-2201.03252-f9f107.svg)](https://www.arxiv-vanity.com/papers/2201.03252)\n",
       "[![arXiv](https://img.shields.io/badge/arXiv-2201.03252-b31b1b.svg)](https://arxiv.org/abs/2201.03252)\n",
       "\n",
       "<mark>M. Fouesneau</mark>, et al. -- incl., <mark>R. Andrae</mark>, <mark>T. Dharmawardena</mark>, <mark>C. A. L. Bailer-Jones</mark>\n",
       "\n",
       "**Abstract:** Context:Stellar physical and dynamical properties are essential knowledge to understanding the structure, formation, and evolution of our Galaxy.\n",
       "\n",
       "![Fig1](https://media.arxiv-vanity.com/render-output/5627977/x10.png)\n",
       "\n",
       "Figure 20: Overview our analysis procedure on the whole catalog containing 123 097 070 stars. Top panels present observed color-magnitude diagrams where left and right panels are the input data and their median predictions, respectively. The lower panels show the inverse parallax distance corrected CMD and the distance corrected obtained from the AP estimates. The quantity on the y-axis of these two panels would be identical in absence of parallax noise.\n",
       "\n",
       "\n",
       "![Fig2](https://media.arxiv-vanity.com/render-output/5627977/figures/figure_vst_overview_cmd.png)\n",
       "\n",
       "Figure 3: Overview our analysis procedure on validation sample containing 853,610 stars. Top panels present observed color-magnitude diagrams where left and right panels are the input data and their median predictions, respectively. The lower panels show the inverse parallax distance corrected CMD and the distance corrected obtained from the AP estimates. The quantity on the y-axis of these two panels would be identical in absence of parallax noise. The entire catalog is shown in appendix Fig. 20 and the corresponding residuals between the top panels Fig.22.\n",
       "\n",
       "\n",
       "![Fig3](https://media.arxiv-vanity.com/render-output/5627977/figures/EDR3-wide-binaries-validation.png)\n",
       "\n",
       "Figure 16: Wide binaries from El-Badry et al. (2021) and a comparison of distance moduli (left panel), A0 (middle panel) and log-ages (right panel) for primary and secondary. In the left panel, red points mark pairs where one component is further away than 1kpc. Such cases are excluded from the number statistics and from all other panels.\n"
      ],
      "text/plain": [
       "<IPython.core.display.Markdown object>"
      ]
     },
     "execution_count": 4,
     "metadata": {},
     "output_type": "execute_result"
    }
   ],
   "source": [
    "paper_id = \"2201.03252\"\n",
    "content = collect_summary_information(paper_id, mpia.affiliation_verifications)[0]\n",
    "# Mitarbeiter list\n",
    "hl_list = [k[0] for k in mpia_authors]\n",
    "content['authors'] = highlight_authors_in_list(content['authors'], hl_list)\n",
    "content['authors'] = make_short_author_list(content['authors'])\n",
    "Markdown(generate_markdown_text(content))"
   ]
  },
  {
   "cell_type": "markdown",
   "metadata": {},
   "source": [
    "## Example of non-MPIA paper (2109.09763)\n",
    "\n",
    "Note that `mpia.affiliation_verification` is optional. It stops the compilation but when not present the summary will be produced."
   ]
  },
  {
   "cell_type": "code",
   "execution_count": 5,
   "metadata": {
    "cell_id": "00011-909ebcf2-5e56-4252-8048-5ac896cd3a5c",
    "deepnote_cell_type": "code",
    "deepnote_output_heights": [
     328.1875
    ],
    "deepnote_to_be_reexecuted": false,
    "execution_millis": 802,
    "execution_start": 1637845282232,
    "source_hash": "d18dc042",
    "tags": []
   },
   "outputs": [
    {
     "name": "stdout",
     "output_type": "stream",
     "text": [
      "starting all requests in the queue\n",
      "... requests sent.\n",
      "Identifiers 1, Retrieved 1 papers (0 generated errors)\n",
      "Not all papers were ready. Retrying... seconds...\n",
      "done.\n",
      " Identifiers 1, Retrieved 1 papers (0 generated errors)\n",
      "Not an MPIA paper 2109.09763... (Paper does not satisfy the requirements.)\n",
      "\n",
      "As expected, no content matches an MPIA paper\n"
     ]
    }
   ],
   "source": [
    "paper_id = \"2109.09763\"\n",
    "\n",
    "try: \n",
    "    content = collect_summary_information(paper_id,\n",
    "                                          mpia.affiliation_verifications)[0]\n",
    "    # Mitarbeiter list\n",
    "    hl_list = [k[0] for k in mpia_authors]\n",
    "    content['authors'] = highlight_authors_in_list(content['authors'], hl_list)\n",
    "    display(Markdown(generate_markdown_text(content)))\n",
    "except IndexError as ie:\n",
    "    print(\"\\nAs expected, no content matches an MPIA paper\")"
   ]
  },
  {
   "cell_type": "markdown",
   "metadata": {},
   "source": [
    "# Deprecated ArXiv module: new papers"
   ]
  },
  {
   "cell_type": "code",
   "execution_count": 6,
   "metadata": {
    "cell_id": "00005-eb8bd06f-51c2-4c65-8a1e-aa1fec84eacf",
    "deepnote_cell_type": "code",
    "deepnote_output_heights": [
     404.9375
    ],
    "deepnote_to_be_reexecuted": false,
    "execution_millis": 1598,
    "execution_start": 1637845283072,
    "source_hash": "8fbc1f4",
    "tags": []
   },
   "outputs": [
    {
     "name": "stdout",
     "output_type": "stream",
     "text": [
      "Arxiv has 72 new papers today\n",
      "          12 with possible author matches\n"
     ]
    }
   ],
   "source": [
    "from arxiv_on_deck_2 import (get_new_papers, filter_papers)\n",
    "new_papers = get_new_papers()\n",
    "print(\"\"\"Arxiv has {0:,d} new papers today\"\"\".format(len(new_papers)))\n",
    "keep, matched_authors = filter_papers(new_papers, list(set(hl_list)))\n",
    "identifiers = set([k.identifier.replace('arXiv:', '') for k in keep])\n",
    "print(\"\"\"          {0:,d} with possible author matches\"\"\".format(len(identifiers)))"
   ]
  },
  {
   "cell_type": "markdown",
   "metadata": {},
   "source": [
    "# The Arxiv2 module"
   ]
  },
  {
   "cell_type": "code",
   "execution_count": 7,
   "metadata": {},
   "outputs": [],
   "source": [
    "from arxiv_on_deck_2.arxiv2 import get_new_papers, get_paper_from_identifier"
   ]
  },
  {
   "cell_type": "code",
   "execution_count": 8,
   "metadata": {},
   "outputs": [
    {
     "name": "stdout",
     "output_type": "stream",
     "text": [
      "Arxiv has 51 new papers today\n"
     ]
    }
   ],
   "source": [
    "new_papers = get_new_papers()\n",
    "print(\"\"\"Arxiv has {0:,d} new papers today\"\"\".format(len(new_papers)))"
   ]
  },
  {
   "cell_type": "code",
   "execution_count": 9,
   "metadata": {},
   "outputs": [
    {
     "data": {
      "text/markdown": [
       "\n",
       "|||\n",
       "|---:|:---|\n",
       "| [![arXiv](https://img.shields.io/badge/arXiv-arXiv:2203.13825-b31b1b.svg)](https://arxiv.org/abs/arXiv:2203.13825) | **X-Ray Redshifts of Obscured Chandra Source Catalog AGN**  |\n",
       "|| Dominic Sicilian, et al. |\n",
       "|*Comments*| *31 pages, 20 figures, submitted to ApJ*|\n",
       "|**Abstract**| We have computed obscured AGN redshifts using the XZ method, adopting a broad treatment in which we employed a wide-ranging data set and worked primarily at the XZ counts sensitivity threshold, culminating with a redshift catalog containing 121 sources that lack documented redshifts. We considered 363 obscured AGN from the Chandra Source Catalog Release 2.0, 59 of which were selected using multiwavelength criteria while 304 were X-ray selected. One-third of the data set had cross-matched spectroscopic or photometric redshifts. These sources, dominated by low-$z$ and low-$N_H$ AGN, were supplemented by 1000 simulations to form a data set for testing the XZ method. We used a multi-layer perceptron neural network to examine and predict cases in which XZ fails to reproduce the known redshift, yielding a classifier that can identify and discard poor redshift estimates. This classifier demonstrated a statistically significant $\\sim$3$\\sigma$ improvement over the existing XZ redshift information gain filter. We applied the machine learning model to sources with no documented redshifts, resulting in the 121-source new redshift catalog, all of which were X-ray selected. Our neural network's performance suggests that nearly 90% of these redshift estimates are consistent with hypothetical spectroscopic or photometric measurements, strengthening the notion that redshifts can be reliably estimated using only X-rays, which is valuable to current and future missions such as Athena. We have also identified a possible Compton-thick candidate that warrants further investigation. |"
      ],
      "text/plain": [
       "[arXiv:2203.13825] X-Ray Redshifts of Obscured Chandra Source Catalog AGN\n",
       "\tDominic Sicilian, et al."
      ]
     },
     "execution_count": 9,
     "metadata": {},
     "output_type": "execute_result"
    }
   ],
   "source": [
    "new_papers[2]"
   ]
  },
  {
   "cell_type": "code",
   "execution_count": 10,
   "metadata": {},
   "outputs": [
    {
     "data": {
      "text/markdown": [
       "\n",
       "|||\n",
       "|---:|:---|\n",
       "| [![arXiv](https://img.shields.io/badge/arXiv-2201.03252-b31b1b.svg)](https://arxiv.org/abs/2201.03252) | **Astrophysical Parameters from Gaia DR2, 2MASS & AllWISE**  |\n",
       "|| M. Fouesneau, et al. |\n",
       "|*Comments*| *Accepted for publication in A&A. Our catalog is available from GAVO at this http URL (soon Gaia Archive and VizieR)*|\n",
       "|**Abstract**| Stellar physical and dynamical properties are essential knowledge tounderstanding the structure, formation, and evolution of our Galaxy. Weproduced an all-sky uniformly derived catalog of stellar astrophysicalparameters (APs; age, mass, temperature, bolometric luminosity, distance, dustextinction) to give insight into the physical properties of Milky-Way stars.Exploiting the power of multi-wavelength and multi-survey observations fromGaia DR2 parallaxes and integrated photometry along with 2MASS and AllWISEphotometry, we introduce an all-sky uniformly derived catalog of stellarastrophysical parameters, including dust extinction (A0) and average grain size(R0) along the line of sight, for 123,097,070 stars. In contrast with previousworks, we do not use a Galactic model as prior in our analysis. We validate ourresults against other literature (e.g., benchmark stars, interferometry,Bayestar, StarHorse). The limited optical information in the Gaia photometricbands or the lack of ultraviolet or spectroscopic information renders thechemistry inference prior dominated. We demonstrate that Gaia parallaxes bringsufficient leverage to explore the detailed structures of the interstellarmedium in our Milky Way. In Gaia DR3, we will obtain the dispersed opticallight information to break through some limitations of this analysis, allowingus to infer stellar chemistry in particular. Gaia promises us data to constructthe most detailed view of the chemo-dynamics of field star populations in ourGalaxy.Our catalog is available from GAVO atthis http URL (soon Gaia Archive and VizieR)|"
      ],
      "text/plain": [
       "[2201.03252] Astrophysical Parameters from Gaia DR2, 2MASS & AllWISE\n",
       "\tM. Fouesneau, et al."
      ]
     },
     "execution_count": 10,
     "metadata": {},
     "output_type": "execute_result"
    }
   ],
   "source": [
    "get_paper_from_identifier(\"2201.03252\")"
   ]
  },
  {
   "cell_type": "markdown",
   "metadata": {},
   "source": [
    "# Summary with ArXiv-Vanity"
   ]
  },
  {
   "cell_type": "code",
   "execution_count": 11,
   "metadata": {},
   "outputs": [],
   "source": [
    "from arxiv_on_deck_2.arxiv_vanity import collect_summary_information"
   ]
  },
  {
   "cell_type": "code",
   "execution_count": 1235,
   "metadata": {
    "scrolled": false
   },
   "outputs": [
    {
     "name": "stdout",
     "output_type": "stream",
     "text": [
      "starting all requests in the queue\n"
     ]
    },
    {
     "ename": "KeyboardInterrupt",
     "evalue": "",
     "output_type": "error",
     "traceback": [
      "\u001b[0;31m---------------------------------------------------------------------------\u001b[0m",
      "\u001b[0;31mKeyboardInterrupt\u001b[0m                         Traceback (most recent call last)",
      "\u001b[0;32m/var/folders/jb/twt_8kfx4mj86m9v8jgccs_r5gbl99/T/ipykernel_16307/3187007096.py\u001b[0m in \u001b[0;36m<module>\u001b[0;34m\u001b[0m\n\u001b[1;32m      1\u001b[0m \u001b[0midentifiers\u001b[0m \u001b[0;34m=\u001b[0m \u001b[0;34m[\u001b[0m\u001b[0mp\u001b[0m\u001b[0;34m[\u001b[0m\u001b[0;34m'identifier'\u001b[0m\u001b[0;34m]\u001b[0m \u001b[0;32mfor\u001b[0m \u001b[0mp\u001b[0m \u001b[0;32min\u001b[0m \u001b[0mnew_papers\u001b[0m\u001b[0;34m]\u001b[0m\u001b[0;34m\u001b[0m\u001b[0;34m\u001b[0m\u001b[0m\n\u001b[0;32m----> 2\u001b[0;31m contents = collect_summary_information(identifiers, \n\u001b[0m\u001b[1;32m      3\u001b[0m                                        \u001b[0mcontent_requirements\u001b[0m\u001b[0;34m=\u001b[0m\u001b[0mmpia\u001b[0m\u001b[0;34m.\u001b[0m\u001b[0maffiliation_verifications\u001b[0m\u001b[0;34m,\u001b[0m\u001b[0;34m\u001b[0m\u001b[0;34m\u001b[0m\u001b[0m\n\u001b[1;32m      4\u001b[0m                                        wait = 5)\n\u001b[1;32m      5\u001b[0m \u001b[0;34m\u001b[0m\u001b[0m\n",
      "\u001b[0;32m~/Work/arxiver_on_deck_2/examples/../arxiv_on_deck_2/arxiv_vanity.py\u001b[0m in \u001b[0;36mcollect_summary_information\u001b[0;34m(identifiers, content_requirements, wait)\u001b[0m\n\u001b[1;32m    101\u001b[0m     \u001b[0;31m# Queue all requests at once, giving vanity more time to process\u001b[0m\u001b[0;34m\u001b[0m\u001b[0;34m\u001b[0m\u001b[0m\n\u001b[1;32m    102\u001b[0m     \u001b[0mprint\u001b[0m\u001b[0;34m(\u001b[0m\u001b[0;34m\"starting all requests in the queue\"\u001b[0m\u001b[0;34m)\u001b[0m\u001b[0;34m\u001b[0m\u001b[0;34m\u001b[0m\u001b[0m\n\u001b[0;32m--> 103\u001b[0;31m     \u001b[0mqueue\u001b[0m \u001b[0;34m=\u001b[0m \u001b[0;34m[\u001b[0m\u001b[0;34m(\u001b[0m\u001b[0mpaper_id\u001b[0m\u001b[0;34m,\u001b[0m \u001b[0mrequests\u001b[0m\u001b[0;34m.\u001b[0m\u001b[0mget\u001b[0m\u001b[0;34m(\u001b[0m\u001b[0murl\u001b[0m\u001b[0;34m.\u001b[0m\u001b[0mformat\u001b[0m\u001b[0;34m(\u001b[0m\u001b[0mpaper_id\u001b[0m\u001b[0;34m=\u001b[0m\u001b[0mpaper_id\u001b[0m\u001b[0;34m)\u001b[0m\u001b[0;34m)\u001b[0m\u001b[0;34m)\u001b[0m \u001b[0;32mfor\u001b[0m \u001b[0mpaper_id\u001b[0m \u001b[0;32min\u001b[0m \u001b[0midentifiers\u001b[0m\u001b[0;34m]\u001b[0m\u001b[0;34m\u001b[0m\u001b[0;34m\u001b[0m\u001b[0m\n\u001b[0m\u001b[1;32m    104\u001b[0m     \u001b[0mprint\u001b[0m\u001b[0;34m(\u001b[0m\u001b[0;34m\"... requests sent.\"\u001b[0m\u001b[0;34m)\u001b[0m\u001b[0;34m\u001b[0m\u001b[0;34m\u001b[0m\u001b[0m\n\u001b[1;32m    105\u001b[0m     \u001b[0merrors\u001b[0m \u001b[0;34m=\u001b[0m \u001b[0;34m{\u001b[0m\u001b[0;34m}\u001b[0m\u001b[0;34m\u001b[0m\u001b[0;34m\u001b[0m\u001b[0m\n",
      "\u001b[0;32m~/Work/arxiver_on_deck_2/examples/../arxiv_on_deck_2/arxiv_vanity.py\u001b[0m in \u001b[0;36m<listcomp>\u001b[0;34m(.0)\u001b[0m\n\u001b[1;32m    101\u001b[0m     \u001b[0;31m# Queue all requests at once, giving vanity more time to process\u001b[0m\u001b[0;34m\u001b[0m\u001b[0;34m\u001b[0m\u001b[0m\n\u001b[1;32m    102\u001b[0m     \u001b[0mprint\u001b[0m\u001b[0;34m(\u001b[0m\u001b[0;34m\"starting all requests in the queue\"\u001b[0m\u001b[0;34m)\u001b[0m\u001b[0;34m\u001b[0m\u001b[0;34m\u001b[0m\u001b[0m\n\u001b[0;32m--> 103\u001b[0;31m     \u001b[0mqueue\u001b[0m \u001b[0;34m=\u001b[0m \u001b[0;34m[\u001b[0m\u001b[0;34m(\u001b[0m\u001b[0mpaper_id\u001b[0m\u001b[0;34m,\u001b[0m \u001b[0mrequests\u001b[0m\u001b[0;34m.\u001b[0m\u001b[0mget\u001b[0m\u001b[0;34m(\u001b[0m\u001b[0murl\u001b[0m\u001b[0;34m.\u001b[0m\u001b[0mformat\u001b[0m\u001b[0;34m(\u001b[0m\u001b[0mpaper_id\u001b[0m\u001b[0;34m=\u001b[0m\u001b[0mpaper_id\u001b[0m\u001b[0;34m)\u001b[0m\u001b[0;34m)\u001b[0m\u001b[0;34m)\u001b[0m \u001b[0;32mfor\u001b[0m \u001b[0mpaper_id\u001b[0m \u001b[0;32min\u001b[0m \u001b[0midentifiers\u001b[0m\u001b[0;34m]\u001b[0m\u001b[0;34m\u001b[0m\u001b[0;34m\u001b[0m\u001b[0m\n\u001b[0m\u001b[1;32m    104\u001b[0m     \u001b[0mprint\u001b[0m\u001b[0;34m(\u001b[0m\u001b[0;34m\"... requests sent.\"\u001b[0m\u001b[0;34m)\u001b[0m\u001b[0;34m\u001b[0m\u001b[0;34m\u001b[0m\u001b[0m\n\u001b[1;32m    105\u001b[0m     \u001b[0merrors\u001b[0m \u001b[0;34m=\u001b[0m \u001b[0;34m{\u001b[0m\u001b[0;34m}\u001b[0m\u001b[0;34m\u001b[0m\u001b[0;34m\u001b[0m\u001b[0m\n",
      "\u001b[0;32m/usr/local/lib/python3.9/site-packages/requests/api.py\u001b[0m in \u001b[0;36mget\u001b[0;34m(url, params, **kwargs)\u001b[0m\n\u001b[1;32m     73\u001b[0m     \"\"\"\n\u001b[1;32m     74\u001b[0m \u001b[0;34m\u001b[0m\u001b[0m\n\u001b[0;32m---> 75\u001b[0;31m     \u001b[0;32mreturn\u001b[0m \u001b[0mrequest\u001b[0m\u001b[0;34m(\u001b[0m\u001b[0;34m'get'\u001b[0m\u001b[0;34m,\u001b[0m \u001b[0murl\u001b[0m\u001b[0;34m,\u001b[0m \u001b[0mparams\u001b[0m\u001b[0;34m=\u001b[0m\u001b[0mparams\u001b[0m\u001b[0;34m,\u001b[0m \u001b[0;34m**\u001b[0m\u001b[0mkwargs\u001b[0m\u001b[0;34m)\u001b[0m\u001b[0;34m\u001b[0m\u001b[0;34m\u001b[0m\u001b[0m\n\u001b[0m\u001b[1;32m     76\u001b[0m \u001b[0;34m\u001b[0m\u001b[0m\n\u001b[1;32m     77\u001b[0m \u001b[0;34m\u001b[0m\u001b[0m\n",
      "\u001b[0;32m/usr/local/lib/python3.9/site-packages/requests/api.py\u001b[0m in \u001b[0;36mrequest\u001b[0;34m(method, url, **kwargs)\u001b[0m\n\u001b[1;32m     59\u001b[0m     \u001b[0;31m# cases, and look like a memory leak in others.\u001b[0m\u001b[0;34m\u001b[0m\u001b[0;34m\u001b[0m\u001b[0m\n\u001b[1;32m     60\u001b[0m     \u001b[0;32mwith\u001b[0m \u001b[0msessions\u001b[0m\u001b[0;34m.\u001b[0m\u001b[0mSession\u001b[0m\u001b[0;34m(\u001b[0m\u001b[0;34m)\u001b[0m \u001b[0;32mas\u001b[0m \u001b[0msession\u001b[0m\u001b[0;34m:\u001b[0m\u001b[0;34m\u001b[0m\u001b[0;34m\u001b[0m\u001b[0m\n\u001b[0;32m---> 61\u001b[0;31m         \u001b[0;32mreturn\u001b[0m \u001b[0msession\u001b[0m\u001b[0;34m.\u001b[0m\u001b[0mrequest\u001b[0m\u001b[0;34m(\u001b[0m\u001b[0mmethod\u001b[0m\u001b[0;34m=\u001b[0m\u001b[0mmethod\u001b[0m\u001b[0;34m,\u001b[0m \u001b[0murl\u001b[0m\u001b[0;34m=\u001b[0m\u001b[0murl\u001b[0m\u001b[0;34m,\u001b[0m \u001b[0;34m**\u001b[0m\u001b[0mkwargs\u001b[0m\u001b[0;34m)\u001b[0m\u001b[0;34m\u001b[0m\u001b[0;34m\u001b[0m\u001b[0m\n\u001b[0m\u001b[1;32m     62\u001b[0m \u001b[0;34m\u001b[0m\u001b[0m\n\u001b[1;32m     63\u001b[0m \u001b[0;34m\u001b[0m\u001b[0m\n",
      "\u001b[0;32m/usr/local/lib/python3.9/site-packages/requests/sessions.py\u001b[0m in \u001b[0;36mrequest\u001b[0;34m(self, method, url, params, data, headers, cookies, files, auth, timeout, allow_redirects, proxies, hooks, stream, verify, cert, json)\u001b[0m\n\u001b[1;32m    540\u001b[0m         }\n\u001b[1;32m    541\u001b[0m         \u001b[0msend_kwargs\u001b[0m\u001b[0;34m.\u001b[0m\u001b[0mupdate\u001b[0m\u001b[0;34m(\u001b[0m\u001b[0msettings\u001b[0m\u001b[0;34m)\u001b[0m\u001b[0;34m\u001b[0m\u001b[0;34m\u001b[0m\u001b[0m\n\u001b[0;32m--> 542\u001b[0;31m         \u001b[0mresp\u001b[0m \u001b[0;34m=\u001b[0m \u001b[0mself\u001b[0m\u001b[0;34m.\u001b[0m\u001b[0msend\u001b[0m\u001b[0;34m(\u001b[0m\u001b[0mprep\u001b[0m\u001b[0;34m,\u001b[0m \u001b[0;34m**\u001b[0m\u001b[0msend_kwargs\u001b[0m\u001b[0;34m)\u001b[0m\u001b[0;34m\u001b[0m\u001b[0;34m\u001b[0m\u001b[0m\n\u001b[0m\u001b[1;32m    543\u001b[0m \u001b[0;34m\u001b[0m\u001b[0m\n\u001b[1;32m    544\u001b[0m         \u001b[0;32mreturn\u001b[0m \u001b[0mresp\u001b[0m\u001b[0;34m\u001b[0m\u001b[0;34m\u001b[0m\u001b[0m\n",
      "\u001b[0;32m/usr/local/lib/python3.9/site-packages/requests/sessions.py\u001b[0m in \u001b[0;36msend\u001b[0;34m(self, request, **kwargs)\u001b[0m\n\u001b[1;32m    653\u001b[0m \u001b[0;34m\u001b[0m\u001b[0m\n\u001b[1;32m    654\u001b[0m         \u001b[0;31m# Send the request\u001b[0m\u001b[0;34m\u001b[0m\u001b[0;34m\u001b[0m\u001b[0m\n\u001b[0;32m--> 655\u001b[0;31m         \u001b[0mr\u001b[0m \u001b[0;34m=\u001b[0m \u001b[0madapter\u001b[0m\u001b[0;34m.\u001b[0m\u001b[0msend\u001b[0m\u001b[0;34m(\u001b[0m\u001b[0mrequest\u001b[0m\u001b[0;34m,\u001b[0m \u001b[0;34m**\u001b[0m\u001b[0mkwargs\u001b[0m\u001b[0;34m)\u001b[0m\u001b[0;34m\u001b[0m\u001b[0;34m\u001b[0m\u001b[0m\n\u001b[0m\u001b[1;32m    656\u001b[0m \u001b[0;34m\u001b[0m\u001b[0m\n\u001b[1;32m    657\u001b[0m         \u001b[0;31m# Total elapsed time of the request (approximately)\u001b[0m\u001b[0;34m\u001b[0m\u001b[0;34m\u001b[0m\u001b[0m\n",
      "\u001b[0;32m/usr/local/lib/python3.9/site-packages/requests/adapters.py\u001b[0m in \u001b[0;36msend\u001b[0;34m(self, request, stream, timeout, verify, cert, proxies)\u001b[0m\n\u001b[1;32m    437\u001b[0m         \u001b[0;32mtry\u001b[0m\u001b[0;34m:\u001b[0m\u001b[0;34m\u001b[0m\u001b[0;34m\u001b[0m\u001b[0m\n\u001b[1;32m    438\u001b[0m             \u001b[0;32mif\u001b[0m \u001b[0;32mnot\u001b[0m \u001b[0mchunked\u001b[0m\u001b[0;34m:\u001b[0m\u001b[0;34m\u001b[0m\u001b[0;34m\u001b[0m\u001b[0m\n\u001b[0;32m--> 439\u001b[0;31m                 resp = conn.urlopen(\n\u001b[0m\u001b[1;32m    440\u001b[0m                     \u001b[0mmethod\u001b[0m\u001b[0;34m=\u001b[0m\u001b[0mrequest\u001b[0m\u001b[0;34m.\u001b[0m\u001b[0mmethod\u001b[0m\u001b[0;34m,\u001b[0m\u001b[0;34m\u001b[0m\u001b[0;34m\u001b[0m\u001b[0m\n\u001b[1;32m    441\u001b[0m                     \u001b[0murl\u001b[0m\u001b[0;34m=\u001b[0m\u001b[0murl\u001b[0m\u001b[0;34m,\u001b[0m\u001b[0;34m\u001b[0m\u001b[0;34m\u001b[0m\u001b[0m\n",
      "\u001b[0;32m/usr/local/lib/python3.9/site-packages/urllib3/connectionpool.py\u001b[0m in \u001b[0;36murlopen\u001b[0;34m(self, method, url, body, headers, retries, redirect, assert_same_host, timeout, pool_timeout, release_conn, chunked, body_pos, **response_kw)\u001b[0m\n\u001b[1;32m    697\u001b[0m \u001b[0;34m\u001b[0m\u001b[0m\n\u001b[1;32m    698\u001b[0m             \u001b[0;31m# Make the request on the httplib connection object.\u001b[0m\u001b[0;34m\u001b[0m\u001b[0;34m\u001b[0m\u001b[0m\n\u001b[0;32m--> 699\u001b[0;31m             httplib_response = self._make_request(\n\u001b[0m\u001b[1;32m    700\u001b[0m                 \u001b[0mconn\u001b[0m\u001b[0;34m,\u001b[0m\u001b[0;34m\u001b[0m\u001b[0;34m\u001b[0m\u001b[0m\n\u001b[1;32m    701\u001b[0m                 \u001b[0mmethod\u001b[0m\u001b[0;34m,\u001b[0m\u001b[0;34m\u001b[0m\u001b[0;34m\u001b[0m\u001b[0m\n",
      "\u001b[0;32m/usr/local/lib/python3.9/site-packages/urllib3/connectionpool.py\u001b[0m in \u001b[0;36m_make_request\u001b[0;34m(self, conn, method, url, timeout, chunked, **httplib_request_kw)\u001b[0m\n\u001b[1;32m    443\u001b[0m                     \u001b[0;31m# Python 3 (including for exceptions like SystemExit).\u001b[0m\u001b[0;34m\u001b[0m\u001b[0;34m\u001b[0m\u001b[0m\n\u001b[1;32m    444\u001b[0m                     \u001b[0;31m# Otherwise it looks like a bug in the code.\u001b[0m\u001b[0;34m\u001b[0m\u001b[0;34m\u001b[0m\u001b[0m\n\u001b[0;32m--> 445\u001b[0;31m                     \u001b[0msix\u001b[0m\u001b[0;34m.\u001b[0m\u001b[0mraise_from\u001b[0m\u001b[0;34m(\u001b[0m\u001b[0me\u001b[0m\u001b[0;34m,\u001b[0m \u001b[0;32mNone\u001b[0m\u001b[0;34m)\u001b[0m\u001b[0;34m\u001b[0m\u001b[0;34m\u001b[0m\u001b[0m\n\u001b[0m\u001b[1;32m    446\u001b[0m         \u001b[0;32mexcept\u001b[0m \u001b[0;34m(\u001b[0m\u001b[0mSocketTimeout\u001b[0m\u001b[0;34m,\u001b[0m \u001b[0mBaseSSLError\u001b[0m\u001b[0;34m,\u001b[0m \u001b[0mSocketError\u001b[0m\u001b[0;34m)\u001b[0m \u001b[0;32mas\u001b[0m \u001b[0me\u001b[0m\u001b[0;34m:\u001b[0m\u001b[0;34m\u001b[0m\u001b[0;34m\u001b[0m\u001b[0m\n\u001b[1;32m    447\u001b[0m             \u001b[0mself\u001b[0m\u001b[0;34m.\u001b[0m\u001b[0m_raise_timeout\u001b[0m\u001b[0;34m(\u001b[0m\u001b[0merr\u001b[0m\u001b[0;34m=\u001b[0m\u001b[0me\u001b[0m\u001b[0;34m,\u001b[0m \u001b[0murl\u001b[0m\u001b[0;34m=\u001b[0m\u001b[0murl\u001b[0m\u001b[0;34m,\u001b[0m \u001b[0mtimeout_value\u001b[0m\u001b[0;34m=\u001b[0m\u001b[0mread_timeout\u001b[0m\u001b[0;34m)\u001b[0m\u001b[0;34m\u001b[0m\u001b[0;34m\u001b[0m\u001b[0m\n",
      "\u001b[0;32m/usr/local/lib/python3.9/site-packages/urllib3/packages/six.py\u001b[0m in \u001b[0;36mraise_from\u001b[0;34m(value, from_value)\u001b[0m\n",
      "\u001b[0;32m/usr/local/lib/python3.9/site-packages/urllib3/connectionpool.py\u001b[0m in \u001b[0;36m_make_request\u001b[0;34m(self, conn, method, url, timeout, chunked, **httplib_request_kw)\u001b[0m\n\u001b[1;32m    438\u001b[0m                 \u001b[0;31m# Python 3\u001b[0m\u001b[0;34m\u001b[0m\u001b[0;34m\u001b[0m\u001b[0m\n\u001b[1;32m    439\u001b[0m                 \u001b[0;32mtry\u001b[0m\u001b[0;34m:\u001b[0m\u001b[0;34m\u001b[0m\u001b[0;34m\u001b[0m\u001b[0m\n\u001b[0;32m--> 440\u001b[0;31m                     \u001b[0mhttplib_response\u001b[0m \u001b[0;34m=\u001b[0m \u001b[0mconn\u001b[0m\u001b[0;34m.\u001b[0m\u001b[0mgetresponse\u001b[0m\u001b[0;34m(\u001b[0m\u001b[0;34m)\u001b[0m\u001b[0;34m\u001b[0m\u001b[0;34m\u001b[0m\u001b[0m\n\u001b[0m\u001b[1;32m    441\u001b[0m                 \u001b[0;32mexcept\u001b[0m \u001b[0mBaseException\u001b[0m \u001b[0;32mas\u001b[0m \u001b[0me\u001b[0m\u001b[0;34m:\u001b[0m\u001b[0;34m\u001b[0m\u001b[0;34m\u001b[0m\u001b[0m\n\u001b[1;32m    442\u001b[0m                     \u001b[0;31m# Remove the TypeError from the exception chain in\u001b[0m\u001b[0;34m\u001b[0m\u001b[0;34m\u001b[0m\u001b[0m\n",
      "\u001b[0;32m/usr/local/Cellar/python@3.9/3.9.9/Frameworks/Python.framework/Versions/3.9/lib/python3.9/http/client.py\u001b[0m in \u001b[0;36mgetresponse\u001b[0;34m(self)\u001b[0m\n\u001b[1;32m   1375\u001b[0m         \u001b[0;32mtry\u001b[0m\u001b[0;34m:\u001b[0m\u001b[0;34m\u001b[0m\u001b[0;34m\u001b[0m\u001b[0m\n\u001b[1;32m   1376\u001b[0m             \u001b[0;32mtry\u001b[0m\u001b[0;34m:\u001b[0m\u001b[0;34m\u001b[0m\u001b[0;34m\u001b[0m\u001b[0m\n\u001b[0;32m-> 1377\u001b[0;31m                 \u001b[0mresponse\u001b[0m\u001b[0;34m.\u001b[0m\u001b[0mbegin\u001b[0m\u001b[0;34m(\u001b[0m\u001b[0;34m)\u001b[0m\u001b[0;34m\u001b[0m\u001b[0;34m\u001b[0m\u001b[0m\n\u001b[0m\u001b[1;32m   1378\u001b[0m             \u001b[0;32mexcept\u001b[0m \u001b[0mConnectionError\u001b[0m\u001b[0;34m:\u001b[0m\u001b[0;34m\u001b[0m\u001b[0;34m\u001b[0m\u001b[0m\n\u001b[1;32m   1379\u001b[0m                 \u001b[0mself\u001b[0m\u001b[0;34m.\u001b[0m\u001b[0mclose\u001b[0m\u001b[0;34m(\u001b[0m\u001b[0;34m)\u001b[0m\u001b[0;34m\u001b[0m\u001b[0;34m\u001b[0m\u001b[0m\n",
      "\u001b[0;32m/usr/local/Cellar/python@3.9/3.9.9/Frameworks/Python.framework/Versions/3.9/lib/python3.9/http/client.py\u001b[0m in \u001b[0;36mbegin\u001b[0;34m(self)\u001b[0m\n\u001b[1;32m    318\u001b[0m         \u001b[0;31m# read until we get a non-100 response\u001b[0m\u001b[0;34m\u001b[0m\u001b[0;34m\u001b[0m\u001b[0m\n\u001b[1;32m    319\u001b[0m         \u001b[0;32mwhile\u001b[0m \u001b[0;32mTrue\u001b[0m\u001b[0;34m:\u001b[0m\u001b[0;34m\u001b[0m\u001b[0;34m\u001b[0m\u001b[0m\n\u001b[0;32m--> 320\u001b[0;31m             \u001b[0mversion\u001b[0m\u001b[0;34m,\u001b[0m \u001b[0mstatus\u001b[0m\u001b[0;34m,\u001b[0m \u001b[0mreason\u001b[0m \u001b[0;34m=\u001b[0m \u001b[0mself\u001b[0m\u001b[0;34m.\u001b[0m\u001b[0m_read_status\u001b[0m\u001b[0;34m(\u001b[0m\u001b[0;34m)\u001b[0m\u001b[0;34m\u001b[0m\u001b[0;34m\u001b[0m\u001b[0m\n\u001b[0m\u001b[1;32m    321\u001b[0m             \u001b[0;32mif\u001b[0m \u001b[0mstatus\u001b[0m \u001b[0;34m!=\u001b[0m \u001b[0mCONTINUE\u001b[0m\u001b[0;34m:\u001b[0m\u001b[0;34m\u001b[0m\u001b[0;34m\u001b[0m\u001b[0m\n\u001b[1;32m    322\u001b[0m                 \u001b[0;32mbreak\u001b[0m\u001b[0;34m\u001b[0m\u001b[0;34m\u001b[0m\u001b[0m\n",
      "\u001b[0;32m/usr/local/Cellar/python@3.9/3.9.9/Frameworks/Python.framework/Versions/3.9/lib/python3.9/http/client.py\u001b[0m in \u001b[0;36m_read_status\u001b[0;34m(self)\u001b[0m\n\u001b[1;32m    279\u001b[0m \u001b[0;34m\u001b[0m\u001b[0m\n\u001b[1;32m    280\u001b[0m     \u001b[0;32mdef\u001b[0m \u001b[0m_read_status\u001b[0m\u001b[0;34m(\u001b[0m\u001b[0mself\u001b[0m\u001b[0;34m)\u001b[0m\u001b[0;34m:\u001b[0m\u001b[0;34m\u001b[0m\u001b[0;34m\u001b[0m\u001b[0m\n\u001b[0;32m--> 281\u001b[0;31m         \u001b[0mline\u001b[0m \u001b[0;34m=\u001b[0m \u001b[0mstr\u001b[0m\u001b[0;34m(\u001b[0m\u001b[0mself\u001b[0m\u001b[0;34m.\u001b[0m\u001b[0mfp\u001b[0m\u001b[0;34m.\u001b[0m\u001b[0mreadline\u001b[0m\u001b[0;34m(\u001b[0m\u001b[0m_MAXLINE\u001b[0m \u001b[0;34m+\u001b[0m \u001b[0;36m1\u001b[0m\u001b[0;34m)\u001b[0m\u001b[0;34m,\u001b[0m \u001b[0;34m\"iso-8859-1\"\u001b[0m\u001b[0;34m)\u001b[0m\u001b[0;34m\u001b[0m\u001b[0;34m\u001b[0m\u001b[0m\n\u001b[0m\u001b[1;32m    282\u001b[0m         \u001b[0;32mif\u001b[0m \u001b[0mlen\u001b[0m\u001b[0;34m(\u001b[0m\u001b[0mline\u001b[0m\u001b[0;34m)\u001b[0m \u001b[0;34m>\u001b[0m \u001b[0m_MAXLINE\u001b[0m\u001b[0;34m:\u001b[0m\u001b[0;34m\u001b[0m\u001b[0;34m\u001b[0m\u001b[0m\n\u001b[1;32m    283\u001b[0m             \u001b[0;32mraise\u001b[0m \u001b[0mLineTooLong\u001b[0m\u001b[0;34m(\u001b[0m\u001b[0;34m\"status line\"\u001b[0m\u001b[0;34m)\u001b[0m\u001b[0;34m\u001b[0m\u001b[0;34m\u001b[0m\u001b[0m\n",
      "\u001b[0;32m/usr/local/Cellar/python@3.9/3.9.9/Frameworks/Python.framework/Versions/3.9/lib/python3.9/socket.py\u001b[0m in \u001b[0;36mreadinto\u001b[0;34m(self, b)\u001b[0m\n\u001b[1;32m    702\u001b[0m         \u001b[0;32mwhile\u001b[0m \u001b[0;32mTrue\u001b[0m\u001b[0;34m:\u001b[0m\u001b[0;34m\u001b[0m\u001b[0;34m\u001b[0m\u001b[0m\n\u001b[1;32m    703\u001b[0m             \u001b[0;32mtry\u001b[0m\u001b[0;34m:\u001b[0m\u001b[0;34m\u001b[0m\u001b[0;34m\u001b[0m\u001b[0m\n\u001b[0;32m--> 704\u001b[0;31m                 \u001b[0;32mreturn\u001b[0m \u001b[0mself\u001b[0m\u001b[0;34m.\u001b[0m\u001b[0m_sock\u001b[0m\u001b[0;34m.\u001b[0m\u001b[0mrecv_into\u001b[0m\u001b[0;34m(\u001b[0m\u001b[0mb\u001b[0m\u001b[0;34m)\u001b[0m\u001b[0;34m\u001b[0m\u001b[0;34m\u001b[0m\u001b[0m\n\u001b[0m\u001b[1;32m    705\u001b[0m             \u001b[0;32mexcept\u001b[0m \u001b[0mtimeout\u001b[0m\u001b[0;34m:\u001b[0m\u001b[0;34m\u001b[0m\u001b[0;34m\u001b[0m\u001b[0m\n\u001b[1;32m    706\u001b[0m                 \u001b[0mself\u001b[0m\u001b[0;34m.\u001b[0m\u001b[0m_timeout_occurred\u001b[0m \u001b[0;34m=\u001b[0m \u001b[0;32mTrue\u001b[0m\u001b[0;34m\u001b[0m\u001b[0;34m\u001b[0m\u001b[0m\n",
      "\u001b[0;32m/usr/local/Cellar/python@3.9/3.9.9/Frameworks/Python.framework/Versions/3.9/lib/python3.9/ssl.py\u001b[0m in \u001b[0;36mrecv_into\u001b[0;34m(self, buffer, nbytes, flags)\u001b[0m\n\u001b[1;32m   1239\u001b[0m                   \u001b[0;34m\"non-zero flags not allowed in calls to recv_into() on %s\"\u001b[0m \u001b[0;34m%\u001b[0m\u001b[0;34m\u001b[0m\u001b[0;34m\u001b[0m\u001b[0m\n\u001b[1;32m   1240\u001b[0m                   self.__class__)\n\u001b[0;32m-> 1241\u001b[0;31m             \u001b[0;32mreturn\u001b[0m \u001b[0mself\u001b[0m\u001b[0;34m.\u001b[0m\u001b[0mread\u001b[0m\u001b[0;34m(\u001b[0m\u001b[0mnbytes\u001b[0m\u001b[0;34m,\u001b[0m \u001b[0mbuffer\u001b[0m\u001b[0;34m)\u001b[0m\u001b[0;34m\u001b[0m\u001b[0;34m\u001b[0m\u001b[0m\n\u001b[0m\u001b[1;32m   1242\u001b[0m         \u001b[0;32melse\u001b[0m\u001b[0;34m:\u001b[0m\u001b[0;34m\u001b[0m\u001b[0;34m\u001b[0m\u001b[0m\n\u001b[1;32m   1243\u001b[0m             \u001b[0;32mreturn\u001b[0m \u001b[0msuper\u001b[0m\u001b[0;34m(\u001b[0m\u001b[0;34m)\u001b[0m\u001b[0;34m.\u001b[0m\u001b[0mrecv_into\u001b[0m\u001b[0;34m(\u001b[0m\u001b[0mbuffer\u001b[0m\u001b[0;34m,\u001b[0m \u001b[0mnbytes\u001b[0m\u001b[0;34m,\u001b[0m \u001b[0mflags\u001b[0m\u001b[0;34m)\u001b[0m\u001b[0;34m\u001b[0m\u001b[0;34m\u001b[0m\u001b[0m\n",
      "\u001b[0;32m/usr/local/Cellar/python@3.9/3.9.9/Frameworks/Python.framework/Versions/3.9/lib/python3.9/ssl.py\u001b[0m in \u001b[0;36mread\u001b[0;34m(self, len, buffer)\u001b[0m\n\u001b[1;32m   1097\u001b[0m         \u001b[0;32mtry\u001b[0m\u001b[0;34m:\u001b[0m\u001b[0;34m\u001b[0m\u001b[0;34m\u001b[0m\u001b[0m\n\u001b[1;32m   1098\u001b[0m             \u001b[0;32mif\u001b[0m \u001b[0mbuffer\u001b[0m \u001b[0;32mis\u001b[0m \u001b[0;32mnot\u001b[0m \u001b[0;32mNone\u001b[0m\u001b[0;34m:\u001b[0m\u001b[0;34m\u001b[0m\u001b[0;34m\u001b[0m\u001b[0m\n\u001b[0;32m-> 1099\u001b[0;31m                 \u001b[0;32mreturn\u001b[0m \u001b[0mself\u001b[0m\u001b[0;34m.\u001b[0m\u001b[0m_sslobj\u001b[0m\u001b[0;34m.\u001b[0m\u001b[0mread\u001b[0m\u001b[0;34m(\u001b[0m\u001b[0mlen\u001b[0m\u001b[0;34m,\u001b[0m \u001b[0mbuffer\u001b[0m\u001b[0;34m)\u001b[0m\u001b[0;34m\u001b[0m\u001b[0;34m\u001b[0m\u001b[0m\n\u001b[0m\u001b[1;32m   1100\u001b[0m             \u001b[0;32melse\u001b[0m\u001b[0;34m:\u001b[0m\u001b[0;34m\u001b[0m\u001b[0;34m\u001b[0m\u001b[0m\n\u001b[1;32m   1101\u001b[0m                 \u001b[0;32mreturn\u001b[0m \u001b[0mself\u001b[0m\u001b[0;34m.\u001b[0m\u001b[0m_sslobj\u001b[0m\u001b[0;34m.\u001b[0m\u001b[0mread\u001b[0m\u001b[0;34m(\u001b[0m\u001b[0mlen\u001b[0m\u001b[0;34m)\u001b[0m\u001b[0;34m\u001b[0m\u001b[0;34m\u001b[0m\u001b[0m\n",
      "\u001b[0;31mKeyboardInterrupt\u001b[0m: "
     ]
    }
   ],
   "source": [
    "identifiers = [p['identifier'] for p in new_papers]\n",
    "contents = collect_summary_information(identifiers, \n",
    "                                       content_requirements=mpia.affiliation_verifications, \n",
    "                                       wait = 5)\n",
    "\n",
    "print(\"\"\"Arxiv has {0:,d} new papers today\"\"\".format(len(new_papers)))\n",
    "# print(\"\"\"          {0:,d} with possible author matches\"\"\".format(len(identifiers)))\n",
    "print(\"\"\"          {0:,d} fully extracted\"\"\".format(len(contents)))\n",
    "\n",
    "data = []\n",
    "for content in contents:\n",
    "    # Mitarbeiter list\n",
    "    hl_list = [k[0] for k in mpia_authors]\n",
    "    content['authors'] = highlight_authors_in_list(content['authors'], hl_list)\n",
    "    content['authors'] = make_short_author_list(content['authors'])\n",
    "    data.append(Markdown(generate_markdown_text(content)))"
   ]
  },
  {
   "cell_type": "code",
   "execution_count": 12,
   "metadata": {
    "cell_id": "00008-47865826-c28a-4d65-8065-d9527498dd31",
    "deepnote_cell_type": "code",
    "deepnote_output_heights": [
     611,
     611,
     611,
     611,
     611,
     611,
     197.96875
    ],
    "deepnote_to_be_reexecuted": false,
    "execution_millis": 10,
    "execution_start": 1637845426621,
    "source_hash": "b7af718f",
    "tags": []
   },
   "outputs": [
    {
     "data": {
      "text/markdown": [
       "# Subaru High-z Exploration of Low-Luminosity Quasars (SHELLQs). XVI. 69 New Quasars at 5.8<z<7.0\n",
       "\n",
       "[![vanity](https://img.shields.io/badge/vanity-2111.12766-f9f107.svg)](https://www.arxiv-vanity.com/papers/2111.12766)\n",
       "[![arXiv](https://img.shields.io/badge/arXiv-2111.12766-b31b1b.svg)](https://arxiv.org/abs/2111.12766)\n",
       "\n",
       "Yoshiki Matsuoka, et al. -- incl., <mark>Chien-Hsiu Lee</mark>\n",
       "\n",
       "**Abstract:** We present the spectroscopic discovery of 69 quasars at 5.8<z<7.0, drawn from the Hyper Suprime-Cam (HSC) Subaru Strategic Program (SSP) imaging survey data.\n",
       "This is the 16th publication from the Subaru High-z Exploration of Low-Luminosity Quasars (SHELLQs) project, and completes identification of all but the faintest\n",
       "candidates (i.e., i-band dropouts with zAB<24 and y-band detections, and z-band dropouts with yAB<24)\n",
       "with Bayesian quasar probability PBQ>0.1 in the HSC-SSP third public data release (PDR3).\n",
       "The sample reported here also includes three quasars with PBQ<0.1 at z∼6.6, which we selected in an effort to completely cover\n",
       "the reddest point sources with simple color cuts.\n",
       "The number of high-z quasars discovered in SHELLQs has now grown to 162, including 23 type-II quasar candidates.\n",
       "This paper also presents identification of seven galaxies at 5.6<z<6.7, an [O iii] emitter at z=0.954, and 31 Galactic cool stars and brown dwarfs.\n",
       "High-z quasars and galaxies comprise 75 %\n",
       "and 16 % respectively of all the spectroscopic SHELLQs objects that pass\n",
       "our latest selection algorithm with the PDR3 photometry.\n",
       "That is, a total of 91 % of the objects lie at z>5.6.\n",
       "This demonstrates that the algorithm has very high efficiency, even though we are probing an unprecedentedly low-luminosity population down to M1450∼−21 mag.\n",
       "\n",
       "![Fig1](https://media.arxiv-vanity.com/render-output/5602212/x11.png)\n",
       "\n",
       "Figure 11: HSC i−z and z−y colors of the high-z quasars (blue symbols), the high-z galaxies (green),\n",
       "the [O iii] emitters at z=0.8−1.0 (cyan), and Galactic cool stars and brown dwarfs (red),\n",
       "with spectroscopic identification reported in the past and present SHELLQs papers;\n",
       "the filled and open circles represent those with PBQ>0.1 and PBQ≤0.1, respectively.\n",
       "The magnitudes are taken from PDR3.\n",
       "The arrows represent 3σ limits, while the objects detected only in the y-band are placed at iAB−zAB=ilimAB−zlimAB\n",
       "with dotted error bars, where mlimAB represents the 3σ limiting magnitude.\n",
       "We also plot the model colors of quasars (solid curve) and galaxies (dashed curve) at z≥5.7, with the diamonds marking\n",
       "redshifts at Δz=0.1 intervals.\n",
       "The gray crosses and dots represent simulated colors of main-sequence stars and M-, L-, T-type brown dwarfs, as indicated at the bottom-left corner\n",
       "(see Matsuoka et al., 2016, for the details of those models).\n",
       "The hatched area represents the color cuts used in Step 1 of the selection (see §2).\n",
       "\n",
       "\n",
       "![Fig2](https://media.arxiv-vanity.com/render-output/5602212/x1.png)\n",
       "\n",
       "Figure 1: Discovery spectra of the first set of 16 quasars, displayed in decreasing order of redshift.\n",
       "The object name and the estimated redshift (with uncertainty Δz∼0.01−0.1; see text) are indicated at the top left corner of each panel,\n",
       "with the two asterisks indicating that the object is noted in the text.\n",
       "The five type-II quasar candidates are marked with “TII” adjacent to the redshifts.\n",
       "The blue dotted lines mark the expected positions of the Lyα and N v λ1240 emission lines, given the redshifts.\n",
       "The spectra were smoothed using inverse-variance weighted means over 3 – 13 pixels (depending on the signal-to-noise ratio [S/N]), for display purposes.\n",
       "The bottom panel displays a sky spectrum, as a guide to the expected noise.\n",
       "\n",
       "\n",
       "![Fig3](https://media.arxiv-vanity.com/render-output/5602212/x5.png)\n",
       "\n",
       "Figure 5: Same as Figure 1, but for the last set of quasars in the top five panels.\n",
       "The following panels present seven galaxies and an [O iii] emitter,\n",
       "with the expected positions of Si ii λ1260, Si ii λ1304, and C ii λ1335 (for the galaxies)\n",
       "and of Hγ, Hβ, and [O iii] λ4959, λ5007 lines (for the [O iii] emitter) marked by the dotted lines.\n"
      ],
      "text/plain": [
       "<IPython.core.display.Markdown object>"
      ]
     },
     "metadata": {},
     "output_type": "display_data"
    },
    {
     "data": {
      "text/markdown": [
       "# An upper limit on late accretion and water delivery in the Trappist-1 exoplanet system\n",
       "\n",
       "[![vanity](https://img.shields.io/badge/vanity-2111.13351-f9f107.svg)](https://www.arxiv-vanity.com/papers/2111.13351)\n",
       "[![arXiv](https://img.shields.io/badge/arXiv-2111.13351-b31b1b.svg)](https://arxiv.org/abs/2111.13351)\n",
       "\n",
       "Sean N. Raymond1, et al. -- incl., <mark>Ludmila Carone9</mark>\n",
       "\n",
       "**Abstract:** The Trappist-1 system contains seven roughly Earth-sized planets locked in a multi-resonant orbital configuration,[1, 2] which has enabled precise measurements of the planets’ masses and constrained their compositions.[3] Here we use the system’s fragile orbital structure to place robust upper limits on the planets’ bombardment histories. We use N-body simulations to show how perturbations from additional objects can break the multi-resonant configuration by either triggering dynamical instability or simply removing the planets from resonance. The planets cannot have interacted with more than ∼5% of an Earth mass (M⊕) in planetesimals – or a single rogue planet more massive than Earth’s Moon – without disrupting their resonant orbital structure. This implies an upper limit of 10−4 to 10−2M⊕ of late accretion on each planet since the dispersal of the system’s gaseous disk. This is comparable to or less than the late accretion on Earth after the Moon-forming impact[4, 5], and demonstrates that the Trappist-1 planets’ growth was complete in just a few million years, roughly an order of magnitude faster than Earth’s.[6, 7] Our results imply that any large water reservoirs on the Trappist-1 planets must have been incorporated during their formation in the gaseous disk.\n",
       "\n",
       "\n"
      ],
      "text/plain": [
       "<IPython.core.display.Markdown object>"
      ]
     },
     "metadata": {},
     "output_type": "display_data"
    }
   ],
   "source": [
    "from IPython.display import display\n",
    "display(*data)"
   ]
  },
  {
   "cell_type": "markdown",
   "metadata": {},
   "source": [
    "# The LaTeX module"
   ]
  },
  {
   "cell_type": "code",
   "execution_count": 13,
   "metadata": {},
   "outputs": [],
   "source": [
    "from arxiv_on_deck_2.arxiv2 import retrieve_document_source, get_markdown_badge\n",
    "from arxiv_on_deck_2.latex import LatexDocument"
   ]
  },
  {
   "cell_type": "code",
   "execution_count": 14,
   "metadata": {},
   "outputs": [
    {
     "name": "stdout",
     "output_type": "stream",
     "text": [
      "https://arxiv.org/e-print/2111.12458\n",
      "extracting tarball... done.\n"
     ]
    }
   ],
   "source": [
    "paper_id = \"2111.12458\"\n",
    "folder = retrieve_document_source(f\"{paper_id}\", f'tmp_{paper_id}')"
   ]
  },
  {
   "cell_type": "code",
   "execution_count": 15,
   "metadata": {},
   "outputs": [],
   "source": [
    "try:\n",
    "    folder\n",
    "except:\n",
    "    folder = \"tmp_2111.12458\"\n",
    "doc = LatexDocument(folder)\n",
    "doc.comment = get_markdown_badge('2111.12361')\n",
    "doc.highlight_authors_in_list(hl_list)"
   ]
  },
  {
   "cell_type": "code",
   "execution_count": 16,
   "metadata": {},
   "outputs": [
    {
     "data": {
      "text/markdown": [
       "# VLTI-MATISSE L- and N-band aperture-synthesis imaging of the unclassified B[e] star FS Canis Majoris Based on observations collected at the European Organisation for Astronomical Research in the Southern Hemisphere within the commissioning of the VLTI-MATISSE instrument (ID 60.A-9257(E)). \n",
       "\n",
       " [![arXiv](https://img.shields.io/badge/arXiv-2111.12361-b31b1b.svg)](https://arxiv.org/abs/2111.12361)\n",
       "\n",
       "K.-H. Hofmann, et al. -- incl., <mark>Th. Henning</mark>, <mark>M. Heininger</mark>, <mark>R. van Boekel</mark>, <mark>K. Meisenheimer</mark>, <mark>J.W. Isbell</mark>, <mark>M. Lehmitz</mark>, <mark>C. Leinert</mark> \n",
       "\n",
       " **Abstract:** \\object{FS Canis Majoris}(FS CMa, HD 45677) is an unclassified B[e]star surrounded by an inclined dust disk. The evolutionary stage of FS CMa is still debated. Perpendicular to the circumstellar disk, a bipolar outflow was detected. Infrared aperture-synthesis imaging provides us with a unique opportunity to study the disk structure.Our aim is to study the intensity distribution of the disk of FS CMa in the mid-infrared$L$and$N$bands.We performed aperture-synthesis imaging of FS CMa with the MATISSE instrument (Multi AperTure mid-Infrared SpectroScopic Experiment) in the low spectral resolution mode to obtain images in the$L$and$N$bands. We computed radiative transfer models that reproduce the$L$- and$N$-band intensity distributions of the resolved disks.We present$L$- and$N$-band aperture-synthesis images of FS CMa reconstructed in the wavelength bands of 3.4--3.8 and 8.6--9.0$\\mu$m. In the$L$-band image, the inner rim region of an inclined circumstellar disk and the central object can be seen with a spatial resolution of 2.7 milliarcsec (mas). An inner disk cavity with an angular diameter of$\\sim$6\\,$\\times$\\,12\\,mas is resolved. The$L$-band disk consists of a bright northwestern (NW) disk region and a much fainter southeastern (SE) region. The images suggest that we are looking at the bright inner wall of the NW disk rim, which is on the far side of the disk. In the$N$band, only the bright NW disk region is seen. In addition to deriving the inclination and the inner disk radius, fitting the reconstructed brightness distributions via radiative transfer modeling allows one to constrain the innermost disk structure, in particular the shape of the inner disk rim.\n",
       "![Fig1](tmp_2111.12458/figures/HD45677_LNband_FOV64mas_rec.png)\n",
       "\n",
       "**Figure 1. -** L- and N-band MATISSE aperture-synthesis images of FS CMa: (Top) Reconstructed L-band image (3.4--3.8 m). The inner dark disk cavity in the L-band image has an angular diameter of  6\\,\\,12 mas (i.e.,  3.7\\,\\,7.4 au for a distance of 620 pc). (Bottom) Reconstructed N-band image (8.6--9.0 m). The FOV is 64 mas (39.7 au for a distance of 620 pc). North is up and east to the left. The inserted circles represent the 2.7 and 6.6 mas diameters of the L- and N-band resolution beams. See Sect. imaging for more details.  (*reconstructions*)\n",
       "![Fig11](tmp_2111.12458/figures/HD45677-uv.png)\n",
       "\n",
       "**Figure 11. -** uv coverage of the FS CMa observations.  (*uv*)\n",
       "![Fig13](tmp_2111.12458/figures/HD45677_Lband_Sim_pot08.png)\n",
       "\n",
       "**Figure 13. -**  Estimation of the error map of the L-band reconstruction (Fig. reconstructions top) from synthetic data: a) theoretical object used for generating the synthetic data (CPs and visibilities with the same noise and uv coverage as in the measured data (see text for more details), b) image reconstructed from the synthetic data, c) derived error map, d) reconstruction shown in Fig. reconstructions(top). The FOV is 64 mas. North is up and east to the left.  (*Lerrormap*)"
      ],
      "text/plain": [
       "<IPython.core.display.Markdown object>"
      ]
     },
     "execution_count": 16,
     "metadata": {},
     "output_type": "execute_result"
    }
   ],
   "source": [
    "from IPython.display import Markdown\n",
    "Markdown(doc.generate_markdown_text())"
   ]
  },
  {
   "cell_type": "code",
   "execution_count": 17,
   "metadata": {},
   "outputs": [],
   "source": [
    "with open(\"2111.12361.md\", 'w') as fout:\n",
    "    fout.write(doc.generate_markdown_text())"
   ]
  },
  {
   "cell_type": "markdown",
   "metadata": {},
   "source": [
    "# MPIA Script"
   ]
  },
  {
   "cell_type": "code",
   "execution_count": 1575,
   "metadata": {},
   "outputs": [
    {
     "name": "stdout",
     "output_type": "stream",
     "text": [
      "Arxiv has 73 new papers today\n",
      "          25 with possible author matches\n"
     ]
    }
   ],
   "source": [
    "from arxiv_on_deck_2.arxiv2 import retrieve_document_source, get_markdown_badge\n",
    "from arxiv_on_deck_2.latex import LatexDocument\n",
    "from arxiv_on_deck_2.arxiv2 import get_new_papers, get_paper_from_identifier\n",
    "\n",
    "# get list from MPIA website\n",
    "# it automatically filters identified non-scientists :func:`mpia.filter_non_scientists`\n",
    "mpia_authors = mpia.get_mpia_mitarbeiter_list()\n",
    "new_papers = get_new_papers()\n",
    "# add manual references\n",
    "add_paper_refs = []\n",
    "new_papers.extend([get_paper_from_identifier(k) for k in add_paper_refs])\n",
    "\n",
    "# select only papers with matching author names and highlight authors\n",
    "hl_list = [k[0] for k in mpia_authors]\n",
    "\n",
    "candidates = []\n",
    "for paperk in new_papers:\n",
    "    hl_authors = highlight_authors_in_list(paperk['authors'], hl_list)\n",
    "    matches = [(hl, orig) for hl, orig in zip(hl_authors, paperk['authors']) if 'mark' in hl]\n",
    "    paperk['authors'] = hl_authors\n",
    "    if matches:\n",
    "        candidates.append(paperk)\n",
    "print(\"\"\"Arxiv has {0:,d} new papers today\"\"\".format(len(new_papers)))        \n",
    "print(\"\"\"          {0:,d} with possible author matches\"\"\".format(len(candidates)))"
   ]
  },
  {
   "cell_type": "code",
   "execution_count": 1576,
   "metadata": {
    "scrolled": false
   },
   "outputs": [],
   "source": [
    "# [display(k) for k in candidates];"
   ]
  },
  {
   "cell_type": "code",
   "execution_count": 1737,
   "metadata": {
    "scrolled": false
   },
   "outputs": [
    {
     "data": {
      "application/vnd.jupyter.widget-view+json": {
       "model_id": "55aee4f2e54d4945a2a137fb0b6358ea",
       "version_major": 2,
       "version_minor": 0
      },
      "text/plain": [
       "  0%|          | 0/24 [00:00<?, ?it/s]"
      ]
     },
     "metadata": {},
     "output_type": "display_data"
    },
    {
     "name": "stderr",
     "output_type": "stream",
     "text": [
      " /usr/local/lib/python3.9/site-packages/IPython/core/interactiveshell.py:3444 LatexWarning:Multiple tex files.\n",
      " /usr/local/lib/python3.9/site-packages/IPython/core/interactiveshell.py:3444 LatexWarning:Found documentclass in tmp_2203.16565/main.tex\n",
      " /Users/fouesneau/Work/arxiver_on_deck_2/examples/../arxiv_on_deck_2/latex.py:266 LatexWarning:Latex injecting: 'commands' from 'tmp_2203.16565/commands.tex' /Users/fouesneau/Work/arxiver_on_deck_2/examples/../arxiv_on_deck_2/latex.py:266 LatexWarning:Latex injecting: 'numbers' from 'tmp_2203.16565/numbers.tex' /Users/fouesneau/Work/arxiver_on_deck_2/examples/../arxiv_on_deck_2/latex.py:266 LatexWarning:Latex injecting: 'authors' from 'tmp_2203.16565/authors.tex' /Users/fouesneau/Work/arxiver_on_deck_2/examples/../arxiv_on_deck_2/latex.py:266 LatexWarning:Latex injecting: 'table_summary.tex' from 'tmp_2203.16565/table_summary.tex' /Users/fouesneau/Work/arxiver_on_deck_2/examples/../arxiv_on_deck_2/latex.py:266 LatexWarning:Latex injecting: 'table_depth' from 'tmp_2203.16565/table_depth.tex' /Users/fouesneau/Work/arxiver_on_deck_2/examples/../arxiv_on_deck_2/latex.py:266 LatexWarning:Latex injecting: 'ack.tex' from 'tmp_2203.16565/ack.tex' /Users/fouesneau/Work/arxiver_on_deck_2/examples/../arxiv_on_deck_2/latex.py:266 LatexWarning:Latex injecting: 'table_propid.tex' from 'tmp_2203.16565/table_propid.tex' /Users/fouesneau/Work/arxiver_on_deck_2/examples/../arxiv_on_deck_2/latex.py:266 LatexWarning:Latex injecting: 'table_dr2_main.tex' from 'tmp_2203.16565/table_dr2_main.tex' /Users/fouesneau/Work/arxiver_on_deck_2/examples/../arxiv_on_deck_2/latex.py:266 LatexWarning:Latex injecting: 'table_dr2_crossmatch.tex' from 'tmp_2203.16565/table_dr2_crossmatch.tex' /usr/local/lib/python3.9/site-packages/IPython/core/interactiveshell.py:3444 LatexWarning:Multiple tex files.\n",
      " /usr/local/lib/python3.9/site-packages/IPython/core/interactiveshell.py:3444 LatexWarning:Found documentclass in tmp_2203.16567/ferguson_axions_2022.tex\n",
      " /Users/fouesneau/Work/arxiver_on_deck_2/examples/../arxiv_on_deck_2/latex.py:266 LatexWarning:Latex injecting: 'authors' from 'tmp_2203.16567/authors.tex' /usr/local/lib/python3.9/site-packages/IPython/core/interactiveshell.py:3444 LatexWarning:Multiple tex files.\n",
      " /usr/local/lib/python3.9/site-packages/IPython/core/interactiveshell.py:3444 LatexWarning:Found documentclass in tmp_2203.16675/aassymbols.tex\n",
      " /usr/local/lib/python3.9/site-packages/IPython/core/interactiveshell.py:3444 LatexWarning:Multiple tex files.\n",
      " /usr/local/lib/python3.9/site-packages/IPython/core/interactiveshell.py:3444 LatexWarning:Found documentclass in tmp_2203.16740/ICalert.tex\n",
      " /usr/local/lib/python3.9/site-packages/IPython/core/interactiveshell.py:3444 LatexWarning:Multiple tex files.\n",
      " /usr/local/lib/python3.9/site-packages/IPython/core/interactiveshell.py:3444 LatexWarning:Found documentclass in tmp_2203.16790/templateArxiv.tex\n",
      " /usr/local/lib/python3.9/site-packages/IPython/core/interactiveshell.py:3444 LatexWarning:Multiple tex files.\n",
      " /usr/local/lib/python3.9/site-packages/IPython/core/interactiveshell.py:3444 LatexWarning:Found documentclass in tmp_2203.16855/main.tex\n",
      " /Users/fouesneau/Work/arxiver_on_deck_2/examples/../arxiv_on_deck_2/latex.py:266 LatexWarning:Latex injecting: 'table1.tex' from 'tmp_2203.16855/table1.tex' /Users/fouesneau/Work/arxiver_on_deck_2/examples/../arxiv_on_deck_2/latex.py:266 LatexWarning:Latex injecting: 'table2.tex' from 'tmp_2203.16855/table2.tex' /Users/fouesneau/Work/arxiver_on_deck_2/examples/../arxiv_on_deck_2/latex.py:266 LatexWarning:Latex injecting: 'table3.tex' from 'tmp_2203.16855/table3.tex' /Users/fouesneau/Work/arxiver_on_deck_2/examples/../arxiv_on_deck_2/latex.py:266 LatexWarning:Latex injecting: 'table4.tex' from 'tmp_2203.16855/table4.tex' /Users/fouesneau/Work/arxiver_on_deck_2/examples/../arxiv_on_deck_2/latex.py:266 LatexWarning:Latex injecting: 'main.bbl' from 'tmp_2203.16855/main.tex' /usr/local/lib/python3.9/site-packages/IPython/core/interactiveshell.py:3444 LatexWarning:Multiple tex files.\n",
      " /usr/local/lib/python3.9/site-packages/IPython/core/interactiveshell.py:3444 LatexWarning:Found documentclass in tmp_2203.16950/draft.tex\n",
      " /Users/fouesneau/Work/arxiver_on_deck_2/examples/../arxiv_on_deck_2/latex.py:266 LatexWarning:Latex injecting: 'scintletable' from 'tmp_2203.16950/scintletable.tex' /Users/fouesneau/Work/arxiver_on_deck_2/examples/../arxiv_on_deck_2/latex.py:266 LatexWarning:Latex injecting: 'scintletable' from 'tmp_2203.16950/Long-term scintillation studies of EPTA pulsars/scintletable.tex' /Users/fouesneau/Work/arxiver_on_deck_2/examples/../arxiv_on_deck_2/latex.py:266 LatexWarning:Latex injecting: 'comparsion' from 'tmp_2203.16950/comparsion.tex' /Users/fouesneau/Work/arxiver_on_deck_2/examples/../arxiv_on_deck_2/latex.py:266 LatexWarning:Latex injecting: 'comparsion' from 'tmp_2203.16950/Long-term scintillation studies of EPTA pulsars/comparsion.tex' /usr/local/lib/python3.9/site-packages/IPython/core/interactiveshell.py:3444 LatexWarning:Multiple tex files.\n",
      " /usr/local/lib/python3.9/site-packages/IPython/core/interactiveshell.py:3444 LatexWarning:Found documentclass in tmp_2203.16959/K2-2016-BLG-0005Lb.tex\n",
      " /Users/fouesneau/Work/arxiver_on_deck_2/examples/../arxiv_on_deck_2/latex.py:266 LatexWarning:Latex injecting: 'authors' from 'tmp_2203.16959/authors.tex' /Users/fouesneau/Work/arxiver_on_deck_2/examples/../arxiv_on_deck_2/latex.py:266 LatexWarning:Latex injecting: 'affils' from 'tmp_2203.16959/affils.tex' /Users/fouesneau/Work/arxiver_on_deck_2/examples/../arxiv_on_deck_2/latex.py:300 LatexWarning:error at line 420 /Users/fouesneau/Work/arxiver_on_deck_2/examples/../arxiv_on_deck_2/latex.py:300 LatexWarning:error at line 415 /Users/fouesneau/Work/arxiver_on_deck_2/examples/../arxiv_on_deck_2/latex.py:300 LatexWarning:error at line 409"
     ]
    }
   ],
   "source": [
    "import importlib\n",
    "import os\n",
    "from IPython.display import Markdown\n",
    "from arxiv_on_deck_2 import latex\n",
    "from IPython.display import Markdown\n",
    "from tqdm.notebook import tqdm\n",
    "import warnings\n",
    "from PIL import Image \n",
    "\n",
    "# Sometimes images are really big\n",
    "Image.MAX_IMAGE_PIXELS = 1000000000 \n",
    "\n",
    "# Good for debugging\n",
    "importlib.reload(latex)\n",
    "\n",
    "\n",
    "class AffiliationWarning(UserWarning):\n",
    "    pass\n",
    "\n",
    "class AffiliationError(RuntimeError):\n",
    "    pass\n",
    "\n",
    "def validation(source: str):\n",
    "    \"\"\"Raises error paper during parsing of source file\n",
    "    \n",
    "    Allows checks before parsing TeX code.\n",
    "    \n",
    "    Raises AffiliationWarning\n",
    "    \"\"\"\n",
    "    check = mpia.affiliation_verifications(source, verbose=True)\n",
    "    if check is not True:\n",
    "        raise AffiliationError(\"mpia.affiliation_verifications: \" + check)\n",
    "\n",
    "        \n",
    "warnings.simplefilter('always', AffiliationWarning)\n",
    "\n",
    "\n",
    "debug_html = \"\"\"\n",
    "<style>\n",
    "#wrap{ overflow:auto; }\n",
    "#fig1{ background:yellow; width:100%; float:left; padding:5px;  }\n",
    "#fig2{ background:red; width:50%; float:left; clear:left; padding:5px;  }\n",
    "#fig3{ background:green; width:50%; float:left; padding:5px;   }\n",
    ".macros{ background:yellow; visibility:visible;}\n",
    "h1 {margin: 0 0 0 0;}\n",
    "mark {background-color:#fff3b6;}\n",
    "img {object-fit:contain; max-height:250px; display:inline-block; text-align: center;}\n",
    "</style>\n",
    "\"\"\" \n",
    "html = \"\"\"\n",
    "<style>\n",
    "#wrap{ overflow:auto; }\n",
    "#fig1{ width:100%; float:left; padding: 5px;  }\n",
    "#fig2{ width:50%; float:left; clear:left; padding: 5px;  }\n",
    "#fig3{ width:50%; float:left; padding: 5px;  }\n",
    ".macros{ visibility:hidden; height:0px; }\n",
    "h1 {margin: 0em 0 0 0;}\n",
    "mark {background-color:#fff3b6;}\n",
    "img {object-fit:contain; max-height:250px; display:inline-block; text-align: center;}\n",
    "</style>\n",
    "\"\"\"\n",
    "\n",
    "\n",
    "documents = []\n",
    "failed = []\n",
    "for paper in tqdm(candidates[:-1]):\n",
    "    paper_id = paper['identifier'].lower().replace('arxiv:', '')\n",
    "    \n",
    "    folder = f'tmp_{paper_id}'\n",
    "\n",
    "    if not os.path.isdir(folder):\n",
    "        folder = retrieve_document_source(f\"{paper_id}\", f'tmp_{paper_id}')\n",
    "\n",
    "    try:\n",
    "        folder\n",
    "    except:\n",
    "        folder = f'tmp_{paper_id}'\n",
    "\n",
    "    try:\n",
    "        try:\n",
    "            doc = latex.LatexDocument(folder, validation=validation)    \n",
    "        except AffiliationError as affilerror:\n",
    "            msg = f\"ArXiv:{paper_id:s} is not an MPIA paper... \" + str(affilerror)\n",
    "            # warnings.warn(AffiliationWarning(msg), stacklevel=4)\n",
    "            failed.append((paper, \"affiliation error: \" + str(affilerror) ))\n",
    "            continue\n",
    "        # Hack because sometimes author parsing does not work well\n",
    "        doc.highlight_authors_in_list(hl_list)\n",
    "        if (len(doc.authors) != len(paper['authors'])):\n",
    "            doc._authors = paper['authors']\n",
    "        doc.comment = get_markdown_badge(paper_id) + \" _\" + paper['comments'] + \"_\"\n",
    "\n",
    "        full_md = html + doc.generate_markdown_text()\n",
    "        # Make CSS paper specific\n",
    "        ## Set CSS and figure div names accordingly\n",
    "        divref = paper_id.replace('.', '_')\n",
    "        full_md = full_md.replace('fig1', f'div_{divref}_fig1')\\\n",
    "                         .replace('fig2', f'div_{divref}_fig2')\\\n",
    "                         .replace('fig3', f'div_{divref}_fig3')\n",
    "        documents.append((paper_id, full_md))\n",
    "    except Exception as e:\n",
    "        warnings.warn(latex.LatexWarning(f\"{paper_id:s} did not run properly\\n\" +\n",
    "                                         str(e)\n",
    "                                        ))\n",
    "        failed.append((paper, \"latex error\"))"
   ]
  },
  {
   "cell_type": "code",
   "execution_count": 1738,
   "metadata": {},
   "outputs": [
    {
     "data": {
      "text/markdown": [
       "## Successful papers"
      ],
      "text/plain": [
       "<IPython.core.display.Markdown object>"
      ]
     },
     "metadata": {},
     "output_type": "display_data"
    },
    {
     "data": {
      "text/markdown": [
       "\n",
       "|||\n",
       "|---:|:---|\n",
       "| [![arXiv](https://img.shields.io/badge/arXiv-arXiv:2203.16734-b31b1b.svg)](https://arxiv.org/abs/arXiv:2203.16734) | **KMT-2021-BLG-1077L: The fifth confirmed multiplanetary system detected  by microlensing**  |\n",
       "|| Cheongho Han, et al. -- incl., <mark>Andrew Gould</mark>, <mark>Seung-Lee Kim</mark>, <mark>Chung-Uk Lee</mark>, <mark>Dong-Joo Lee</mark>, <mark>Yongseok Lee</mark> |\n",
       "|*Comments*| *9 pages, 8 figures*|\n",
       "|**Abstract**| The high-magnification microlensing event KMT-2021-BLG-1077 exhibits a subtle and complex anomaly pattern in the region around the peak. We analyze the lensing light curve of the event with the aim of revealing the nature of the anomaly. We test various models in combination with several interpretations. We find that the anomaly cannot be explained by the usual three-body (2L1S and 1L2S) models. The 2L2S model improves the fit compared to the three-body models, but it still leaves noticeable residuals. On the other hand, the 3L1S interpretation yields a model explaining all the major anomalous features in the lensing light curve. According to the 3L1S interpretation, the estimated mass ratios of the lens companions to the primary are $\\sim 1.56 \\times 10^{-3}$ and $\\sim 1.75 \\times 10^{-3}$, which correspond to $\\sim 1.6$ and $\\sim 1.8$ times the Jupiter/Sun mass ratio, respectively, and therefore the lens is a multiplanetary system containing two giant planets. With the constraints of the event time-scale and angular Einstein radius, it is found that the host of the lens system is a low-mass star of mid-to-late M spectral type with a mass of $M_{\\rm h} = 0.14^{+0.19}_{-0.07}~M_\\odot$, and it hosts two gas giant planets with masses of $M_{\\rm p_1}=0.22^{+0.31}_{-0.12}~M_{\\rm J}$ and $M_{\\rm p_2}=0.25^{+0.35}_{-0.13}~M_{\\rm J}$. The planets lie beyond the snow line of the host with projected separations of $a_{\\perp, {\\rm p}_1}=1.26^{+1.41}_{-1.08}~{\\rm AU}$ and $a_{\\perp, {\\rm p}_2}=0.93^{+1.05}_{-0.80}~{\\rm AU}$. The planetary system resides in the Galactic bulge at a distance of $D_{\\rm L}=8.24^{+1.02}_{-1.16}~{\\rm kpc}$. The lens of the event is the fifth confirmed multiplanetary system detected by microlensing following OGLE-2006-BLG-109L, OGLE-2012-BLG-0026L, OGLE-2018-BLG-1011L, and OGLE-2019-BLG-0468L. |"
      ],
      "text/plain": [
       "[arXiv:2203.16734] KMT-2021-BLG-1077L: The fifth confirmed multiplanetary system detected  by microlensing\n",
       "\tCheongho Han, et al. -- incl., <mark>Andrew Gould</mark>, <mark>Seung-Lee Kim</mark>, <mark>Chung-Uk Lee</mark>, <mark>Dong-Joo Lee</mark>, <mark>Yongseok Lee</mark>"
      ]
     },
     "metadata": {},
     "output_type": "display_data"
    },
    {
     "data": {
      "text/markdown": [
       "\n",
       "|||\n",
       "|---:|:---|\n",
       "| [![arXiv](https://img.shields.io/badge/arXiv-arXiv:2203.16735-b31b1b.svg)](https://arxiv.org/abs/arXiv:2203.16735) | **Gas Disk Sizes from CO Line Observations: A Test of Angular Momentum  Evolution**  |\n",
       "|| Feng Long, et al. -- incl., <mark>Paola Pinilla</mark> |\n",
       "|*Comments*| *Accepted for publication in ApJ*|\n",
       "|**Abstract**| The size of a disk encodes important information about its evolution. Combining new Submillimeter Array (SMA) observations with archival Atacama Large Millimeter Array (ALMA) data, we analyze mm continuum and CO emission line sizes for a sample of 44 protoplanetary disks around stars with masses of 0.15--2\\,$M_{\\odot}$ in several nearby star-forming regions. Sizes measured from $^{12}$CO line emission span from 50 to 1000\\,au. This range could be explained by viscous evolution models with different $\\alpha$ values (mostly of $10^{-4}-10^{-3}$) and/or a spread of initial conditions. The CO sizes for most disks are also consistent with MHD wind models that directly remove disk angular momentum, but very large initial disk sizes would be required to account for the very extended CO disks in the sample. As no CO size evolution is observed across stellar ages of 0.5--20\\,Myr in this sample, determining the dominant mechanism of disk evolution will require a more complete sample for both younger and more evolved systems. We find that the CO emission is universally more extended than the continuum emission by an average factor of $2.9\\pm1.2$. The ratio of the CO to continuum sizes does not show any trend with stellar mass, mm continuum luminosity, or the properties of substructures. The GO Tau disk has the most extended CO emission in this sample, with an extreme CO to continuum size ratio of 7.6. Seven additional disks in the sample show high size ratios ($\\gtrsim4$) that we interpret as clear signs of substantial radial drift. |"
      ],
      "text/plain": [
       "[arXiv:2203.16735] Gas Disk Sizes from CO Line Observations: A Test of Angular Momentum  Evolution\n",
       "\tFeng Long, et al. -- incl., <mark>Paola Pinilla</mark>"
      ]
     },
     "metadata": {},
     "output_type": "display_data"
    },
    {
     "data": {
      "text/markdown": [
       "\n",
       "|||\n",
       "|---:|:---|\n",
       "| [![arXiv](https://img.shields.io/badge/arXiv-arXiv:2203.16856-b31b1b.svg)](https://arxiv.org/abs/arXiv:2203.16856) | **The PEPSI Exoplanet Transit Survey (PETS) I: Investigating the presence  of a silicate atmosphere on the super-Earth 55 Cnc e**  |\n",
       "|| Engin Keles, et al. -- incl., <mark>Matthias Mallonn</mark>, <mark>Thomas Henning</mark> |\n",
       "|*Comments*| *MNRAS, in press*|\n",
       "|**Abstract**| The study of exoplanets and especially their atmospheres can reveal key insights on their evolution by identifying specific atmospheric species. For such atmospheric investigations, high-resolution transmission spectroscopy has shown great success, especially for Jupiter-type planets. Towards the atmospheric characterization of smaller planets, the super-Earth exoplanet 55 Cnc e is one of the most promising terrestrial exoplanets studied to date. Here, we present a high-resolution spectroscopic transit observation of this planet, acquired with the PEPSI instrument at the Large Binocular Telescope. Assuming the presence of Earth-like crust species on the surface of 55 Cnc e, from which a possible silicate-vapor atmosphere could have originated, we search in its transmission spectrum for absorption of various atomic and ionized species such as Fe , Fe+, Ca , Ca+, Mg and K , among others. Not finding absorption for any of the investigated species, we are able to set absorption limits with a median value of 1.9 x RP. In conclusion, we do not find evidence of a widely extended silicate envelope on this super-Earth reaching several planetary radii. |"
      ],
      "text/plain": [
       "[arXiv:2203.16856] The PEPSI Exoplanet Transit Survey (PETS) I: Investigating the presence  of a silicate atmosphere on the super-Earth 55 Cnc e\n",
       "\tEngin Keles, et al. -- incl., <mark>Matthias Mallonn</mark>, <mark>Thomas Henning</mark>"
      ]
     },
     "metadata": {},
     "output_type": "display_data"
    },
    {
     "data": {
      "text/markdown": [
       "\n",
       "|||\n",
       "|---:|:---|\n",
       "| [![arXiv](https://img.shields.io/badge/arXiv-arXiv:2203.16959-b31b1b.svg)](https://arxiv.org/abs/arXiv:2203.16959) | **Kepler K2 Campaign 9: II. First space-based discovery of an exoplanet  using microlensing**  |\n",
       "|| D. Specht, et al. -- incl., <mark>Chung-Uk Lee</mark>, <mark>C.B. Henderson</mark>, <mark>Andrew Gould</mark>, <mark>Seung-Lee Kim</mark>, <mark>Dong-Joo Lee</mark>, <mark>Yongseok Lee</mark> |\n",
       "|*Comments*| *17 pages. Submitted to MNRAS*|\n",
       "|**Abstract**| We report on the discovery of a bound exoplanetary microlensing event from a blind search of data gathered from Campaign 9 of the Kepler K2 mission (K2C9). K2-2016-BLG-0005Lb is a densely sampled, binary caustic-crossing microlensing event with caustic entry and exit points that are resolved in the K2C9 data, enabling the lens-source relative proper motion to be measured. We have fitted a binary microlens model to the K2 dataset, and to simultaneous observations from the Optical Gravitational Lensing Experiment (OGLE-IV), Canada-France-Hawaii Telescope (CFHT), Microlensing Observations in Astrophysics (MOA-2), the Korean Microlensing Telescope Network (KMTNet), and the United Kingdom InfraRed Telescope (UKIRT). Whilst the ground-based data only sparsely sample the binary caustic, they provide a clear detection of parallax that allows us to break completely the microlensing mass-position-velocity degeneracy and measure the planet's mass directly. We find a host mass of $0.58\\pm0.03 ~{\\rm M}_\\odot$ and a planetary mass of $1.1 \\pm 0.1 ~{\\rm M_J}$. The system lies at a distance of $5.2 \\pm 0.2~$kpc from Earth towards the Galactic bulge. The projected physical separation of the planet from its host is found to be $4.2 \\pm 0.3~$au which, for circular orbits, corresponds to $a = 4.4^{+1.9}_{-0.4}~$au and period $P = 13^{+9}_{-2}~$yr, making K2-2016-BLG-0005Lb a close Jupiter analogue. Though previous exoplanet microlensing events have included space-based data, this event is the first bound microlensing exoplanet to be discovered from space-based data. Even through a space telescope not designed for microlensing studies, this result highlights the advantages for exoplanet microlensing discovery that come from continuous, high-cadence temporal sampling that is possible from space. (Abridged). |"
      ],
      "text/plain": [
       "[arXiv:2203.16959] Kepler K2 Campaign 9: II. First space-based discovery of an exoplanet  using microlensing\n",
       "\tD. Specht, et al. -- incl., <mark>Chung-Uk Lee</mark>, <mark>C.B. Henderson</mark>, <mark>Andrew Gould</mark>, <mark>Seung-Lee Kim</mark>, <mark>Dong-Joo Lee</mark>, <mark>Yongseok Lee</mark>"
      ]
     },
     "metadata": {},
     "output_type": "display_data"
    }
   ],
   "source": [
    "import datetime\n",
    "today = str(datetime.date.today())\n",
    "logfile = f\"log-{today}.md\"\n",
    "\n",
    "with open(logfile, 'w') as logs:\n",
    "    logs.write(f'# Arxiv on Deck 2: Logs - {today}\\n\\n')\n",
    "    logs.write(\"\"\"* Arxiv had {0:,d} new papers\\n\"\"\".format(len(new_papers)))\n",
    "    logs.write(\"\"\"    * {0:,d} with possible author matches\\n\\n\"\"\".format(len(candidates)))\n",
    "    logs.write(\"## Sucessful papers\\n\\n\")\n",
    "    display(Markdown(\"## Successful papers\"))\n",
    "    success = [k[0] for k in documents]\n",
    "    for candid in candidates:\n",
    "        if candid['identifier'].split(':')[-1] in success:\n",
    "            display(candid)\n",
    "            logs.write(candid.generate_markdown_text() + '\\n\\n')"
   ]
  },
  {
   "cell_type": "code",
   "execution_count": 1739,
   "metadata": {
    "scrolled": false
   },
   "outputs": [
    {
     "data": {
      "text/markdown": [
       "## Failed papers"
      ],
      "text/plain": [
       "<IPython.core.display.Markdown object>"
      ]
     },
     "metadata": {},
     "output_type": "display_data"
    }
   ],
   "source": [
    "with open(logfile, 'a') as logs:\n",
    "    logs.write(\"## Failed papers\\n\\n\")\n",
    "    display(Markdown(\"## Failed papers\"))\n",
    "    failed = sorted(failed, key=lambda x: x[1])\n",
    "    current_reason = \"\"\n",
    "    for paper, reason in failed:\n",
    "        if 'affiliation' in reason:\n",
    "            color = 'green'\n",
    "        else:\n",
    "            color = 'red'\n",
    "        data = Markdown(\n",
    "                paper.generate_markdown_text() + \n",
    "                f'\\n|<p style=\"color:{color:s}\"> **ERROR** </p>| <p style=\"color:{color:s}\">{reason:s}</p> |'\n",
    "               )\n",
    "        if reason != current_reason:\n",
    "            logs.write(f'### {reason:s} \\n\\n')\n",
    "            current_reason = reason\n",
    "        logs.write(data.data + '\\n\\n')\n",
    "        \n",
    "        # only display here the important errors (all in logs)\n",
    "        if color in ('red',):\n",
    "            display(data)"
   ]
  },
  {
   "cell_type": "code",
   "execution_count": 1740,
   "metadata": {},
   "outputs": [],
   "source": [
    "def export_markdown_summary(md: str, md_fname:str, directory: str):\n",
    "    import os\n",
    "    import shutil\n",
    "\n",
    "    if (os.path.exists(directory) and not os.path.isdir(directory)):\n",
    "        raise RuntimeError(f\"a non-directory file exists with name {directory:s}\")\n",
    "\n",
    "    if (not os.path.exists(directory)):\n",
    "        print(f\"creating directory {directory:s}\")\n",
    "        os.mkdir(directory)\n",
    "\n",
    "    fig_fnames = (re.compile(r'\\[Fig.*\\]\\((.*)\\)').findall(md) + \n",
    "                  re.compile(r'\\<img src=\"([^>\\s]*)\"[^>]*/>').findall(md))\n",
    "    for fname in fig_fnames:\n",
    "        if 'http' in fname:\n",
    "            # No need to copy online figures\n",
    "            continue\n",
    "        destdir = os.path.join(directory, os.path.dirname(fname))\n",
    "        destfname = os.path.join(destdir, os.path.basename(fname))\n",
    "        try:\n",
    "            os.makedirs(destdir)\n",
    "        except FileExistsError:\n",
    "            pass\n",
    "        shutil.copy(fname, destfname)\n",
    "    with open(os.path.join(directory, md_fname), 'w') as fout:\n",
    "        fout.write(md)\n",
    "    print(\"exported in \", os.path.join(directory, md_fname))\n",
    "    [print(\"    + \" + os.path.join(directory,fk)) for fk in fig_fnames]"
   ]
  },
  {
   "cell_type": "code",
   "execution_count": 1741,
   "metadata": {},
   "outputs": [
    {
     "name": "stdout",
     "output_type": "stream",
     "text": [
      "exported in  exports/2203.16734.md\n",
      "    + exports/tmp_2203.16734/f2.png\n",
      "    + exports/tmp_2203.16734/f3.png\n",
      "    + exports/tmp_2203.16734/f7.png\n",
      "exported in  exports/2203.16735.md\n",
      "    + exports/tmp_2203.16735/Lmm_Rmm_loglog_2021.png\n",
      "    + exports/tmp_2203.16735/Ms_Rmm_loglog_2022_scatter.png\n",
      "    + exports/tmp_2203.16735/Ls_Rco_loglog_2021_scatter.png\n",
      "    + exports/tmp_2203.16735/Lco_Rco_loglog_2021_scatter.png\n",
      "    + exports/tmp_2203.16735/Ms_Rco_loglog_2022_scatter.png\n",
      "    + exports/tmp_2203.16735/Age_Rgas_loglog_2022_scatter.png\n",
      "    + exports/tmp_2203.16735/Ms_ratio_2021.png\n",
      "    + exports/tmp_2203.16735/Lmm_ratio_2021.png\n",
      "    + exports/tmp_2203.16735/Rmm_hist.png\n",
      "    + exports/tmp_2203.16735/Rco_hist.png\n",
      "    + exports/tmp_2203.16735/ratio_hist.png\n",
      "exported in  exports/2203.16856.md\n",
      "    + exports/tmp_2203.16856/funcplot.png\n",
      "    + exports/tmp_2203.16856/Trans_spec.png\n",
      "    + exports/tmp_2203.16856/S_s.png\n",
      "    + exports/tmp_2203.16856/Zr_s.png\n",
      "    + exports/tmp_2203.16856/Zr+_s.png\n",
      "    + exports/tmp_2203.16856/V_s.png\n",
      "    + exports/tmp_2203.16856/Cr_s.png\n",
      "    + exports/tmp_2203.16856/S_k.png\n",
      "    + exports/tmp_2203.16856/Zr_k.png\n",
      "    + exports/tmp_2203.16856/Zr+_k.png\n",
      "    + exports/tmp_2203.16856/V_k.png\n",
      "    + exports/tmp_2203.16856/Cr_k.png\n",
      "    + exports/tmp_2203.16856/S_o.png\n",
      "    + exports/tmp_2203.16856/Zr_o.png\n",
      "    + exports/tmp_2203.16856/Zr+_o.png\n",
      "    + exports/tmp_2203.16856/V_o.png\n",
      "    + exports/tmp_2203.16856/Cr_o.png\n",
      "    + exports/tmp_2203.16856/S.png\n",
      "    + exports/tmp_2203.16856/Zr.png\n",
      "    + exports/tmp_2203.16856/Zr+.png\n",
      "    + exports/tmp_2203.16856/V.png\n",
      "    + exports/tmp_2203.16856/Cr.png\n",
      "    + exports/tmp_2203.16856/S_t.png\n",
      "    + exports/tmp_2203.16856/Zr_t.png\n",
      "    + exports/tmp_2203.16856/Zr+_t.png\n",
      "    + exports/tmp_2203.16856/V_t.png\n",
      "    + exports/tmp_2203.16856/Cr_t.png\n",
      "exported in  exports/2203.16959.md\n",
      "    + exports/tmp_2203.16959/fit_joint_17.png\n",
      "    + exports/tmp_2203.16959/fit_k2_17.png\n",
      "    + exports/tmp_2203.16959/Topology.png\n"
     ]
    }
   ],
   "source": [
    "for paper_id, md in documents:\n",
    "    export_markdown_summary(md, f\"{paper_id:s}.md\", 'exports')"
   ]
  },
  {
   "cell_type": "code",
   "execution_count": 1742,
   "metadata": {
    "scrolled": false
   },
   "outputs": [
    {
     "data": {
      "text/markdown": [
       "\n",
       "<style>\n",
       "#wrap{ overflow:auto; }\n",
       "#div_2203_16734_fig1{ width:100%; float:left; padding: 5px;  }\n",
       "#div_2203_16734_fig2{ width:50%; float:left; clear:left; padding: 5px;  }\n",
       "#div_2203_16734_fig3{ width:50%; float:left; padding: 5px;  }\n",
       ".macros{ visibility:hidden; height:0px; }\n",
       "h1 {margin: 0em 0 0 0;}\n",
       "mark {background-color:#fff3b6;}\n",
       "img {object-fit:contain; max-height:250px; display:inline-block; text-align: center;}\n",
       "</style>\n",
       "<div class=\"macros\" style=\"visibility:hidden;\">\n",
       "$\\newcommand{\\ensuremath}{}$\n",
       "$\\newcommand{\\xspace}{}$\n",
       "$\\newcommand{\\object}[1]{\\texttt{#1}}$\n",
       "$\\newcommand{\\farcs}{{.}''}$\n",
       "$\\newcommand{\\farcm}{{.}'}$\n",
       "$\\newcommand{\\arcsec}{''}$\n",
       "$\\newcommand{\\arcmin}{'}$\n",
       "$\\newcommand{\\pivec}{\\mbox{\\boldmath \\pi}}$\n",
       "$\\newcommand{\\muvec}{\\mbox{\\boldmath \\mu}}$\n",
       "$\\newcommand{\\deltavec}{\\mbox{\\boldmath \\delta}}$\n",
       "$\\newcommand{\\thetavec}{\\mbox{\\boldmath \\theta}}$\n",
       "$\\newcommand{\\te}{t_{\\rm E}}$\n",
       "$\\newcommand{\\thetae}{\\theta_{\\rm E}}$\n",
       "$\\newcommand{\\thetastar}{\\theta_*}$\n",
       "$\\newcommand{\\pie}{\\pi_{\\rm E}}$\n",
       "$\\newcommand{\\pien}{\\pi_{{\\rm E},N}}$\n",
       "$\\newcommand{\\piee}{\\pi_{{\\rm E},E}}$\n",
       "$\\newcommand{\\dl}{D_{\\rm L}}$\n",
       "$\\newcommand{\\ds}{D_{\\rm S}}$\n",
       "$\\newcommand{\\e}{{\\rm E}}$\n",
       "$\\newcommand{\\microm}{\\mu{\\rm m}}$\n",
       "$\\newcommand{\\btheta}{{\\vec\\theta}}$\n",
       "$\\newcommand{\\}{eqalign}$</div>\n",
       "\n",
       "# KMT-2021-BLG-1077L: The fifth confirmed multiplanetary system detected by microlensing\n",
       "\n",
       " [![arXiv](https://img.shields.io/badge/arXiv-2203.16734-b31b1b.svg)](https://arxiv.org/abs/2203.16734) _9 pages, 8 figures_\n",
       "\n",
       "Cheongho Han, et al. -- incl., <mark>Andrew Gould</mark>, <mark>Seung-Lee Kim</mark>, <mark>Chung-Uk Lee</mark>, <mark>Dong-Joo Lee</mark>, <mark>Yongseok Lee</mark> \n",
       "\n",
       " **Abstract:** \n",
       "<div id=\"div_2203_16734_fig1\">\n",
       "\n",
       "<img src=\"tmp_2203.16734/f2.png\" alt=\"Fig8\" width=\"100%\"/>\n",
       "\n",
       "**Figure 8. -** \n",
       "Zoom-in view around the peak of the light curve. The lower five panels show the residuals of\n",
       "the tested models under 3L1S, 2L2S, 2L1S, 1L2S, and 1L1S interpretations.  The curve drawn in each\n",
       "residual panel is the difference from the 3L1S model.  The curves of the 1L1S, 2L1S, and 3L1S\n",
       "models are drawn over the data points of the light curve in the top panel.  The epochs marked\n",
       " $ t_1 $ ,  $ t_2 $ , and  $ t_3 $  indicate the times of the major anomalous features.\n",
       " (*fig:two*)\n",
       "\n",
       "</div>\n",
       "<div id=\"div_2203_16734_fig2\">\n",
       "\n",
       "<img src=\"tmp_2203.16734/f3.png\" alt=\"Fig2\" width=\"100%\"/>\n",
       "\n",
       "**Figure 2. -** \n",
       "Models and residuals of the ``solution 1'' and ``solution 2'' 2L1S models.  The individual\n",
       "solutions are obtained from the two sets of 2L1S models, in which the light curve was fitted\n",
       "by excluding the data lying in the regions of\n",
       " $ 9376.0 < {\\rm HID}^\\prime < 9377.2 $  and\n",
       " $ 9378.2 < {\\rm HID}^\\prime < 9379.4 $  for solution 1, and\n",
       "by excluding those lying in the regions of\n",
       " $ 9377.0 < {\\rm HID}^\\prime < 9378.0 $  and\n",
       " $ 9379.3 < {\\rm HID}^\\prime < 9381.0 $  for solution 2.\n",
       "The two insets in the top panel show the lens system configurations of the individual solutions.\n",
       "Also presented are the model curve and residual of the 3L1S solution.\n",
       " (*fig:three*)\n",
       "\n",
       "</div>\n",
       "<div id=\"div_2203_16734_fig3\">\n",
       "\n",
       "<img src=\"tmp_2203.16734/f7.png\" alt=\"Fig6\" width=\"100%\"/>\n",
       "\n",
       "**Figure 6. -** \n",
       "Locations of the source (blue dot) and centroid of the red giant clump (red dot) on the\n",
       "instrumental color--magnitude diagram of stars lying around the source, constructed from the\n",
       "pyDIA photometry of the KMTC data set. Also marked is the location of the blend (green dot).\n",
       " (*fig:seven*)\n",
       "\n",
       "</div>"
      ],
      "text/plain": [
       "<IPython.core.display.Markdown object>"
      ]
     },
     "metadata": {},
     "output_type": "display_data"
    },
    {
     "data": {
      "text/markdown": [
       "\n",
       "<style>\n",
       "#wrap{ overflow:auto; }\n",
       "#div_2203_16735_fig1{ width:100%; float:left; padding: 5px;  }\n",
       "#div_2203_16735_fig2{ width:50%; float:left; clear:left; padding: 5px;  }\n",
       "#div_2203_16735_fig3{ width:50%; float:left; padding: 5px;  }\n",
       ".macros{ visibility:hidden; height:0px; }\n",
       "h1 {margin: 0em 0 0 0;}\n",
       "mark {background-color:#fff3b6;}\n",
       "img {object-fit:contain; max-height:250px; display:inline-block; text-align: center;}\n",
       "</style>\n",
       "<div class=\"macros\" style=\"visibility:hidden;\">\n",
       "$\\newcommand{\\ensuremath}{}$\n",
       "$\\newcommand{\\xspace}{}$\n",
       "$\\newcommand{\\object}[1]{\\texttt{#1}}$\n",
       "$\\newcommand{\\farcs}{{.}''}$\n",
       "$\\newcommand{\\farcm}{{.}'}$\n",
       "$\\newcommand{\\arcsec}{''}$\n",
       "$\\newcommand{\\arcmin}{'}$\n",
       "$\\newcommand{\\vdag}{(v)^\\dagger}$\n",
       "$\\newcommand$\n",
       "$\\newcommand$\n",
       "$\\newcommand{\\feng}[1]$\n",
       "$\\newcommand{\\oi}{[O {\\scriptsize I}]}$</div>\n",
       "\n",
       "# Gas Disk Sizes from CO Line Observations: A Test of Angular Momentum Evolution\n",
       "\n",
       " [![arXiv](https://img.shields.io/badge/arXiv-2203.16735-b31b1b.svg)](https://arxiv.org/abs/2203.16735) _Accepted for publication in ApJ_\n",
       "\n",
       "Feng Long(龙凤), et al. -- incl., <mark>Paola Pinilla</mark> \n",
       "\n",
       " **Abstract:** The size of a disk encodes important information about its evolution. Combining new Submillimeter Array (SMA) observations with archival Atacama Large Millimeter Array (ALMA) data, we analyze mm continuum and CO emission line sizes for a sample of 44 protoplanetary disks around stars with masses of 0.15--2$ M_{\\odot} $in several nearby star-forming regions.Sizes measured from$ ^{12} $CO line emission span from 50 to 1000 au. This range could be explained by viscous evolution models with different$ \\alpha $values (mostly of$ 10^{-4}-10^{-3} $) and/or a spread of initial conditions.The CO sizes for most disks are also consistent with MHD wind models that directly remove disk angular momentum, but very large initial disk sizes would be required to account for the very extended CO disks in the sample. As no CO size evolution is observed across stellar ages of 0.5--20 Myr in this sample, determining the dominant mechanism of disk evolution will require a more complete sample for both younger and more evolved systems.We find that the CO emission is universally more extended than the continuum emission by an average factor of$ 2.9\\pm1.2 $.The ratio of the CO to continuum sizes does not show any trend with stellar mass, mm continuum luminosity, or the properties of substructures.The GO Tau disk has the most extended CO emission in this sample, with an extreme CO to continuum size ratio of 7.6.Seven additional disks in the sample show high size ratios ($ \\gtrsim4 $) that we interpret as clear signs of substantial radial drift.\n",
       "<div id=\"div_2203_16735_fig1\">\n",
       "\n",
       "<img src=\"tmp_2203.16735/Lmm_Rmm_loglog_2021.png\" alt=\"Fig9.1\" width=\"16%\"/><img src=\"tmp_2203.16735/Ms_Rmm_loglog_2022_scatter.png\" alt=\"Fig9.2\" width=\"16%\"/><img src=\"tmp_2203.16735/Ls_Rco_loglog_2021_scatter.png\" alt=\"Fig9.3\" width=\"16%\"/><img src=\"tmp_2203.16735/Lco_Rco_loglog_2021_scatter.png\" alt=\"Fig9.4\" width=\"16%\"/><img src=\"tmp_2203.16735/Ms_Rco_loglog_2022_scatter.png\" alt=\"Fig9.5\" width=\"16%\"/><img src=\"tmp_2203.16735/Age_Rgas_loglog_2022_scatter.png\" alt=\"Fig9.6\" width=\"16%\"/>\n",
       "\n",
       "**Figure 9. -** The comparison of disk sizes with stellar and disk properties. \\textbf{(a)}$ L_{\\rm mm} $  vs.  $ R_{\\rm mm} $ . The scaled correlation from \\citet{Andrews2018_Lmm} is marked as dashed line to demonstrate the generic properties of the sample.  \\textbf{(b)}$ L_{\\rm CO 2-1} $  vs.  $ R_{\\rm CO} $ .\n",
       "\\textbf{(c)}$ M_{\\rm *} $  vs.  $ R_{\\rm mm} $ . \\textbf{(d)}$ M_{\\rm *} $  vs.  $ R_{\\rm CO} $ . \\textbf{(e)}$ L_{\\rm *} $  vs.  $ R_{\\rm CO} $ . \\textbf{(f)} system age vs.  $ R_{\\rm CO} $ .  The derived scaling relation is shown in grey solid line with the 68\\% confidence interval marked in grey shaded region. The light shaded region denotes the scatter around the mean relation. The Pearson correlation coefficient and the corresponding  $ p- $ value are noted in the upper right corner in each panel.\n",
       "\\label{fig:LR} (*fig:LR*)\n",
       "\n",
       "</div>\n",
       "<div id=\"div_2203_16735_fig2\">\n",
       "\n",
       "<img src=\"tmp_2203.16735/Ms_ratio_2021.png\" alt=\"Fig3.1\" width=\"50%\"/><img src=\"tmp_2203.16735/Lmm_ratio_2021.png\" alt=\"Fig3.2\" width=\"50%\"/>\n",
       "\n",
       "**Figure 3. -** The distribution of  $ R_{\\rm CO} $ / $ R_{\\rm mm} $  with stellar mass (upper) and disk mm luminosity (bottom). Grey triangles represent disks that either have cloud contamination around systemic velocities or  $ R_{\\rm mm} $  is less than twice of the beam size, where in both cases  $ R_{\\rm CO} $ / $ R_{\\rm mm} $  is likely underestimated. \\label{fig:ratio} (*fig:ratio*)\n",
       "\n",
       "</div>\n",
       "<div id=\"div_2203_16735_fig3\">\n",
       "\n",
       "<img src=\"tmp_2203.16735/Rmm_hist.png\" alt=\"Fig10.1\" width=\"33%\"/><img src=\"tmp_2203.16735/Rco_hist.png\" alt=\"Fig10.2\" width=\"33%\"/><img src=\"tmp_2203.16735/ratio_hist.png\" alt=\"Fig10.3\" width=\"33%\"/>\n",
       "\n",
       "**Figure 10. -** The distribution of  $ R_{\\rm mm} $ ,  $ R_{\\rm CO} $ ,  $ R_{\\rm CO} $ / $ R_{\\rm mm} $  for disks with observed dust substructures (grey) and disks that are featureless at the resolution of currently available data (blue). The latter group of disks are more compact, but their CO-to-continuum size ratios are comparable to disks with substructures. \\label{fig:ratio_hist} (*fig:ratio_hist*)\n",
       "\n",
       "</div>"
      ],
      "text/plain": [
       "<IPython.core.display.Markdown object>"
      ]
     },
     "metadata": {},
     "output_type": "display_data"
    },
    {
     "data": {
      "text/markdown": [
       "\n",
       "<style>\n",
       "#wrap{ overflow:auto; }\n",
       "#div_2203_16856_fig1{ width:100%; float:left; padding: 5px;  }\n",
       "#div_2203_16856_fig2{ width:50%; float:left; clear:left; padding: 5px;  }\n",
       "#div_2203_16856_fig3{ width:50%; float:left; padding: 5px;  }\n",
       ".macros{ visibility:hidden; height:0px; }\n",
       "h1 {margin: 0em 0 0 0;}\n",
       "mark {background-color:#fff3b6;}\n",
       "img {object-fit:contain; max-height:250px; display:inline-block; text-align: center;}\n",
       "</style>\n",
       "<div class=\"macros\" style=\"visibility:hidden;\">\n",
       "$\\newcommand{\\ensuremath}{}$\n",
       "$\\newcommand{\\xspace}{}$\n",
       "$\\newcommand{\\object}[1]{\\texttt{#1}}$\n",
       "$\\newcommand{\\farcs}{{.}''}$\n",
       "$\\newcommand{\\farcm}{{.}'}$\n",
       "$\\newcommand{\\arcsec}{''}$\n",
       "$\\newcommand{\\arcmin}{'}$</div>\n",
       "\n",
       "# The atmosphere of 55 Cnc eThe PEPSI Exoplanet Transit Survey (PETS) I:\n",
       "\n",
       "Investigating the presence of a silicate atmosphere on the super-Earth 55 Cnc e\n",
       "\n",
       " [![arXiv](https://img.shields.io/badge/arXiv-2203.16856-b31b1b.svg)](https://arxiv.org/abs/2203.16856) _MNRAS, in press_\n",
       "\n",
       "Engin Keles, et al. -- incl., <mark>Matthias Mallonn</mark>, <mark>Thomas Henning</mark> \n",
       "\n",
       " **Abstract:** The study of exoplanets and especially their atmospheres can reveal key insights on their evolution by identifying specific atmospheric species. For such atmospheric investigations, high-resolution transmission spectroscopy has shown great success, especially for Jupiter-type planets. Towards the atmospheric characterization of smaller planets, the super-Earth exoplanet 55 Cnc e is one of the most promising terrestrial exoplanets studied to date. Here, we present a high-resolution spectroscopic transit observation of this planet, acquired with the PEPSI instrument at the Large Binocular Telescope. Assuming the presence of Earth-like crust species on the surface of 55 Cnc e, from which a possible silicate-vapor atmosphere could have originated, we search in its transmission spectrum for absorption of various atomic and ionized species such as\\ion{Fe},\\ion{Fe}\\textsuperscript{+},\\ion{Ca},\\ion{Ca}\\textsuperscript{+},\\ion{Mg}and\\ion{K}, among others. Not finding absorption for any of the investigated species, we are able to set absorption limits with a median\\mbox{value of 1.9  $ \\times $  R\\textsubscript{P}}. In conclusion, we do not find evidence of a widely extended silicate envelope on this super-Earth reaching several planetary radii.\n",
       "<div id=\"div_2203_16856_fig1\">\n",
       "\n",
       "<img src=\"tmp_2203.16856/funcplot.png\" alt=\"Fig1\" width=\"100%\"/>\n",
       "\n",
       "**Figure 1. -** The top panel shows the spectrum observed at the lowest airmass (yellow) and highest airmass (blue) at a spectral region where telluric water lines are evident. The central panel shows the transmission spectrum derived by dividing the in-transit spectra by the mean out-of-transit spectrum. The bottom panel shows the pixel-by-pixel approach to derive the transmission spectrum. (*fig:func*)\n",
       "\n",
       "</div>\n",
       "<div id=\"div_2203_16856_fig2\">\n",
       "\n",
       "<img src=\"tmp_2203.16856/Trans_spec.png\" alt=\"Fig3\" width=\"100%\"/>\n",
       "\n",
       "**Figure 3. -** The combined transmission spectra for the \\ion{Mg}{I}-triplet, the H $ \\beta $ -line, the \\ion{K}{I} line and the \\ion{Ca}{II}-IR-triplet lines. The yellow shaded region shows the expected absorption position  $ \\pm $ 1\\AA. (*fig:transspec*)\n",
       "\n",
       "</div>\n",
       "<div id=\"div_2203_16856_fig3\">\n",
       "\n",
       "<img src=\"tmp_2203.16856/S_s.png\" alt=\"Fig8.1\" width=\"4%\"/><img src=\"tmp_2203.16856/Zr_s.png\" alt=\"Fig8.2\" width=\"4%\"/><img src=\"tmp_2203.16856/Zr+_s.png\" alt=\"Fig8.3\" width=\"4%\"/><img src=\"tmp_2203.16856/V_s.png\" alt=\"Fig8.4\" width=\"4%\"/><img src=\"tmp_2203.16856/Cr_s.png\" alt=\"Fig8.5\" width=\"4%\"/><img src=\"tmp_2203.16856/S_k.png\" alt=\"Fig8.6\" width=\"4%\"/><img src=\"tmp_2203.16856/Zr_k.png\" alt=\"Fig8.7\" width=\"4%\"/><img src=\"tmp_2203.16856/Zr+_k.png\" alt=\"Fig8.8\" width=\"4%\"/><img src=\"tmp_2203.16856/V_k.png\" alt=\"Fig8.9\" width=\"4%\"/><img src=\"tmp_2203.16856/Cr_k.png\" alt=\"Fig8.10\" width=\"4%\"/><img src=\"tmp_2203.16856/S_o.png\" alt=\"Fig8.11\" width=\"4%\"/><img src=\"tmp_2203.16856/Zr_o.png\" alt=\"Fig8.12\" width=\"4%\"/><img src=\"tmp_2203.16856/Zr+_o.png\" alt=\"Fig8.13\" width=\"4%\"/><img src=\"tmp_2203.16856/V_o.png\" alt=\"Fig8.14\" width=\"4%\"/><img src=\"tmp_2203.16856/Cr_o.png\" alt=\"Fig8.15\" width=\"4%\"/><img src=\"tmp_2203.16856/S.png\" alt=\"Fig8.16\" width=\"4%\"/><img src=\"tmp_2203.16856/Zr.png\" alt=\"Fig8.17\" width=\"4%\"/><img src=\"tmp_2203.16856/Zr+.png\" alt=\"Fig8.18\" width=\"4%\"/><img src=\"tmp_2203.16856/V.png\" alt=\"Fig8.19\" width=\"4%\"/><img src=\"tmp_2203.16856/Cr.png\" alt=\"Fig8.20\" width=\"4%\"/><img src=\"tmp_2203.16856/S_t.png\" alt=\"Fig8.21\" width=\"4%\"/><img src=\"tmp_2203.16856/Zr_t.png\" alt=\"Fig8.22\" width=\"4%\"/><img src=\"tmp_2203.16856/Zr+_t.png\" alt=\"Fig8.23\" width=\"4%\"/><img src=\"tmp_2203.16856/V_t.png\" alt=\"Fig8.24\" width=\"4%\"/><img src=\"tmp_2203.16856/Cr_t.png\" alt=\"Fig8.25\" width=\"4%\"/>\n",
       "\n",
       "**Figure 8. -** Same as Figure \\ref{fig:A1} (*fig:A4*)\n",
       "\n",
       "</div>"
      ],
      "text/plain": [
       "<IPython.core.display.Markdown object>"
      ]
     },
     "metadata": {},
     "output_type": "display_data"
    },
    {
     "data": {
      "text/markdown": [
       "\n",
       "<style>\n",
       "#wrap{ overflow:auto; }\n",
       "#div_2203_16959_fig1{ width:100%; float:left; padding: 5px;  }\n",
       "#div_2203_16959_fig2{ width:50%; float:left; clear:left; padding: 5px;  }\n",
       "#div_2203_16959_fig3{ width:50%; float:left; padding: 5px;  }\n",
       ".macros{ visibility:hidden; height:0px; }\n",
       "h1 {margin: 0em 0 0 0;}\n",
       "mark {background-color:#fff3b6;}\n",
       "img {object-fit:contain; max-height:250px; display:inline-block; text-align: center;}\n",
       "</style>\n",
       "<div class=\"macros\" style=\"visibility:hidden;\">\n",
       "$\\newcommand{\\ensuremath}{}$\n",
       "$\\newcommand{\\xspace}{}$\n",
       "$\\newcommand{\\object}[1]{\\texttt{#1}}$\n",
       "$\\newcommand{\\farcs}{{.}''}$\n",
       "$\\newcommand{\\farcm}{{.}'}$\n",
       "$\\newcommand{\\arcsec}{''}$\n",
       "$\\newcommand{\\arcmin}{'}$\n",
       "$\\newcommand{\\thebibliography}{\\DeclareRobustCommand{\\VAN}[3]{##3}\\VANthebibliography}$</div>\n",
       "\n",
       "# Kepler K2C9 discovery of exoplanetary microlensingKepler K2 Campaign 9: II. First space-based discovery of an exoplanet using microlensing\n",
       "\n",
       " [![arXiv](https://img.shields.io/badge/arXiv-2203.16959-b31b1b.svg)](https://arxiv.org/abs/2203.16959) _17 pages. Submitted to MNRAS_\n",
       "\n",
       "D. Specht, et al. -- incl., <mark>Chung-Uk Lee</mark>, <mark>C.B. Henderson</mark>, <mark>Andrew Gould</mark>, <mark>Seung-Lee Kim</mark>, <mark>Dong-Joo Lee</mark>, <mark>Yongseok Lee</mark> \n",
       "\n",
       " **Abstract:** We report on the discovery of a bound exoplanetary microlensing event from a blind search of data gathered from Campaign 9 of the\\emph{Kepler K2}mission (\\emph{K2}C9). K2-2016-BLG-0005Lb is a densely sampled, binary caustic-crossing microlensing event with caustic entry and exit points that are resolved in the\\emph{K2}C9 data, enabling the lens--source relative proper motion to be measured. We have fitted a binary microlens model to the\\emph{K2}dataset, and to simultaneous observations from the  Optical Gravitational Lensing Experiment (OGLE-IV), Canada--France--Hawaii Telescope (CFHT), Microlensing Observations in Astrophysics (MOA-2), the Korean Microlensing Telescope Network (KMTNet), and the United Kingdom InfraRed Telescope (UKIRT). Whilst the ground-based data only sparsely sample the binary caustic, they provide a clear detection of parallax that allows us to break completely the microlensing mass--position--velocity degeneracy and measure the planet's mass directly. We find a host mass of$ 0.58\\pm0.03  {\\rm M}_\\odot $and a planetary mass of$ 1.1\\pm0.1  {\\rm M_J} $. The system lies at a distance of$ 5.2\\pm0.2 $kpc from Earth towards the Galactic bulge. The projected physical separation of the planet from its host is found to be$ 4.2\\pm0.3 $au which, for circular orbits, corresponds to$ a = 4.4^{+1.9}_{-0.4} $au and period$ P = 13^{+9}_{-2} $yr, making K2-2016-BLG-0005Lb a close Jupiter analogue. Though previous exoplanet microlensing events have included space-based data, this event is the first bound microlensing exoplanet to be\\emph{discovered}from space-based data. Even through a space telescope not designed for microlensing studies, this result highlights the advantages for exoplanet microlensing discovery that come from continuous, high-cadence temporal sampling that is possible from space. The precision mass and distance measurements of cool low-mass exoplanets from microlensing that will be obtainable from the NASA\\emph{Nancy Grace Roman Space Telescope}and, potentially, the ESA\\emph{Euclid}space telescope, will unlock a key regime for testing planet formation theories.\n",
       "<div id=\"div_2203_16959_fig1\">\n",
       "\n",
       "<img src=\"tmp_2203.16959/fit_joint_17.png\" alt=\"Fig9\" width=\"100%\"/>\n",
       "\n",
       "**Figure 9. -** The superposition of photometry and best-fit model from Figures \\ref{fig:wide_space} and \\ref{fig:wide_ground}. The \\emph{K2} differential flux count scale is shown on the right vertical axis. The space-based component of the wide-topology solution is indicated by the dashed black line, while the ground-based component is shown as a solid black line. The best-fit wide solution provides good characterisation of the \\emph{K2}C9 caustic structure, as well as ground based coverage of the caustic exit and of the pre-caustic peak seen around BJD $ -2450000 = 7512.5 $ days. (*fig:wide*)\n",
       "\n",
       "</div>\n",
       "<div id=\"div_2203_16959_fig2\">\n",
       "\n",
       "<img src=\"tmp_2203.16959/fit_k2_17.png\" alt=\"Fig7\" width=\"100%\"/>\n",
       "\n",
       "**Figure 7. -** K2 \\texttt{MCPM} photometry of K2-2016-BLG-0005Lb (red). The space-based component of the best-fit wide-topology, parallax binary lens model is shown in black. The caustic crossing region is clearly visible and well sampled between  $ BJD-2450000=7515 $  and  $ 7519 $ . The \\emph{K2} differential flux counts are indicated on the right vertical axis; note that this scale is neither linear, nor logarithmic. (*fig:wide_space*)\n",
       "\n",
       "</div>\n",
       "<div id=\"div_2203_16959_fig3\">\n",
       "\n",
       "<img src=\"tmp_2203.16959/Topology.png\" alt=\"Fig1\" width=\"100%\"/>\n",
       "\n",
       "**Figure 1. -** The close, resonant and wide binary lens topologies. The blue curves show the boundaries between the topologies whilst the black dots show the  $ s,q $  coordinates of the best-fit models for K2-2016-BLG-0005Lb for each topology. Overall, our analysis shows the wide model to be most strongly preferred by the data. (*fig:topology*)\n",
       "\n",
       "</div>"
      ],
      "text/plain": [
       "<IPython.core.display.Markdown object>"
      ]
     },
     "metadata": {},
     "output_type": "display_data"
    }
   ],
   "source": [
    "[display(Markdown(k[1])) for k in documents];"
   ]
  },
  {
   "cell_type": "code",
   "execution_count": null,
   "metadata": {},
   "outputs": [],
   "source": []
  }
 ],
 "metadata": {
  "deepnote": {
   "is_reactive": false
  },
  "deepnote_execution_queue": [],
  "deepnote_notebook_id": "c7a17692-0103-4738-88d8-72c31e8d16d6",
  "interpreter": {
   "hash": "aee8b7b246df8f9039afb4144a1f6fd8d2ca17a180786b69acc140d282b71a49"
  },
  "kernelspec": {
   "display_name": "Python 3 (ipykernel)",
   "language": "python",
   "name": "python3"
  },
  "language_info": {
   "codemirror_mode": {
    "name": "ipython",
    "version": 3
   },
   "file_extension": ".py",
   "mimetype": "text/x-python",
   "name": "python",
   "nbconvert_exporter": "python",
   "pygments_lexer": "ipython3",
   "version": "3.9.9"
  }
 },
 "nbformat": 4,
 "nbformat_minor": 4
}
