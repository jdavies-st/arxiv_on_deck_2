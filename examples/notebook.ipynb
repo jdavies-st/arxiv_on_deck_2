{
 "cells": [
  {
   "cell_type": "code",
   "execution_count": 1,
   "metadata": {
    "cell_id": "00008-05d7adef-f465-4ad2-987b-63d1b0f5969b",
    "deepnote_cell_type": "code",
    "deepnote_to_be_reexecuted": false,
    "execution_millis": 229,
    "execution_start": 1637845256999,
    "source_hash": "1dcf3326",
    "tags": []
   },
   "outputs": [],
   "source": [
    "import sys\n",
    "sys.path.append('../')\n",
    "from arxiv_vanity_on_deck import (collect_summary_information,\n",
    "                                  generate_markdown_text, \n",
    "                                  highlight_authors_in_list,\n",
    "                                  make_short_author_list)\n",
    "from arxiv_vanity_on_deck import mpia\n",
    "from requests.exceptions import HTTPError\n",
    "from IPython.display import Markdown"
   ]
  },
  {
   "cell_type": "markdown",
   "metadata": {},
   "source": [
    "# MPIA information"
   ]
  },
  {
   "cell_type": "code",
   "execution_count": 2,
   "metadata": {
    "cell_id": "00009-3a19b36b-ad76-4715-9dec-acf221f8f949",
    "deepnote_cell_type": "code",
    "deepnote_to_be_reexecuted": false,
    "execution_millis": 20969,
    "execution_start": 1637845257251,
    "source_hash": "85939f86",
    "tags": []
   },
   "outputs": [],
   "source": [
    "mpia_authors = mpia.get_mpia_mitarbeiter_list()"
   ]
  },
  {
   "cell_type": "markdown",
   "metadata": {},
   "source": [
    "# Examples"
   ]
  },
  {
   "cell_type": "markdown",
   "metadata": {},
   "source": [
    "## Example of MPIA paper (2111.06672)\n",
    "\n",
    "Note that the summary uses _h1_ title also appearing in the table of content of the notebook"
   ]
  },
  {
   "cell_type": "code",
   "execution_count": 3,
   "metadata": {
    "cell_id": "00003-b174e2bb-21cc-448e-a970-8088d563c5cd",
    "deepnote_cell_type": "code",
    "deepnote_output_heights": [
     611
    ],
    "deepnote_to_be_reexecuted": false,
    "execution_millis": 1544,
    "execution_start": 1637845280671,
    "source_hash": "e9b6f183",
    "tags": []
   },
   "outputs": [
    {
     "data": {
      "text/markdown": [
       "# Three-dimensional dust density structure of the Orion, Cygnus X, Taurus, and Perseus star-forming regions\n",
       "\n",
       "[![vanity](https://img.shields.io/badge/vanity-2111.06672-f9f107.svg)](https://www.arxiv-vanity.com/papers/2111.06672/)\n",
       "[![arXiv](https://img.shields.io/badge/arXiv-2111.06672-b31b1b.svg)](https://arxiv.org/abs/2111.06672)\n",
       "\n",
       "<mark>T. E. Dharmawardena</mark>, <mark>C. A. L. Bailer-Jones</mark>, <mark>M. Fouesneau</mark>, D. Foreman-Mackey\n",
       "\n",
       "**Abstract:** Interstellar dust affects many astronomical observations through absorption and reddening, yet this extinction is also a powerful tool for studying interstellar matter in galaxies.\n",
       "Three-dimensional reconstructions of dust extinction and density in the Milky Way have suffered from artefacts such as the fingers-of-god effect and negative densities, and have been limited by large computational costs.\n",
       "Here we aim to overcome these issues with a novel algorithm that derives the three-dimensional (3D) extinction density of dust in the Milky Way using a latent variable Gaussian Process in combination with variational inference. Our model maintains non-negative density and hence monotonically non-decreasing extinction along all lines-of-sight, while performing the inference within a reasonable computational time.\n",
       "\n",
       "<a href=https://media.arxiv-vanity.com/render-output/5601490/Figures/SimulatedData/SimulatedData_Density_Original_SkippedSlices.png><img src=\"https://media.arxiv-vanity.com/render-output/5601490/Figures/SimulatedData/SimulatedData_Density_Original_SkippedSlices.png\" alt=\"Fig1.1\" width=\"33%\"/></a><a href=https://media.arxiv-vanity.com/render-output/5601490/Figures/SimulatedData/SimulatedData_Density_SlicesAlongDist_GPpred_SkippedSlices.png><img src=\"https://media.arxiv-vanity.com/render-output/5601490/Figures/SimulatedData/SimulatedData_Density_SlicesAlongDist_GPpred_SkippedSlices.png\" alt=\"Fig1.2\" width=\"33%\"/></a><a href=https://media.arxiv-vanity.com/render-output/5601490/Figures/SimulatedData/SimulatedData_Density_SlicesAlongDist_Pred-Original_Residual_SkippedSlices.png><img src=\"https://media.arxiv-vanity.com/render-output/5601490/Figures/SimulatedData/SimulatedData_Density_SlicesAlongDist_Pred-Original_Residual_SkippedSlices.png\" alt=\"Fig1.3\" width=\"33%\"/></a>\n",
       "\n",
       "Figure 5: Top:Simulated Density map sampled at the indicated distances; Middle:Our model reconstructed Density map sampled at the same distances as the simulated map; Bottom:Residual of Model Predicted density - Simulated Density\n",
       "\n",
       "<a href=https://media.arxiv-vanity.com/render-output/5601490/x36.png><img src=\"https://media.arxiv-vanity.com/render-output/5601490/x36.png\" alt=\"Fig2.1\" width=\"12%\"/></a><a href=https://media.arxiv-vanity.com/render-output/5601490/x37.png><img src=\"https://media.arxiv-vanity.com/render-output/5601490/x37.png\" alt=\"Fig2.2\" width=\"12%\"/></a><a href=https://media.arxiv-vanity.com/render-output/5601490/x38.png><img src=\"https://media.arxiv-vanity.com/render-output/5601490/x38.png\" alt=\"Fig2.3\" width=\"12%\"/></a><a href=https://media.arxiv-vanity.com/render-output/5601490/x39.png><img src=\"https://media.arxiv-vanity.com/render-output/5601490/x39.png\" alt=\"Fig2.4\" width=\"12%\"/></a><a href=https://media.arxiv-vanity.com/render-output/5601490/x40.png><img src=\"https://media.arxiv-vanity.com/render-output/5601490/x40.png\" alt=\"Fig2.5\" width=\"12%\"/></a><a href=https://media.arxiv-vanity.com/render-output/5601490/x41.png><img src=\"https://media.arxiv-vanity.com/render-output/5601490/x41.png\" alt=\"Fig2.6\" width=\"12%\"/></a><a href=https://media.arxiv-vanity.com/render-output/5601490/x42.png><img src=\"https://media.arxiv-vanity.com/render-output/5601490/x42.png\" alt=\"Fig2.7\" width=\"12%\"/></a><a href=https://media.arxiv-vanity.com/render-output/5601490/x43.png><img src=\"https://media.arxiv-vanity.com/render-output/5601490/x43.png\" alt=\"Fig2.8\" width=\"12%\"/></a>\n",
       "\n",
       "Figure 24: As Fig. 23, showing Planck Dust Intensity.\n",
       "\n",
       "<a href=https://media.arxiv-vanity.com/render-output/5601490/x28.png><img src=\"https://media.arxiv-vanity.com/render-output/5601490/x28.png\" alt=\"Fig3.1\" width=\"12%\"/></a><a href=https://media.arxiv-vanity.com/render-output/5601490/x29.png><img src=\"https://media.arxiv-vanity.com/render-output/5601490/x29.png\" alt=\"Fig3.2\" width=\"12%\"/></a><a href=https://media.arxiv-vanity.com/render-output/5601490/x30.png><img src=\"https://media.arxiv-vanity.com/render-output/5601490/x30.png\" alt=\"Fig3.3\" width=\"12%\"/></a><a href=https://media.arxiv-vanity.com/render-output/5601490/x31.png><img src=\"https://media.arxiv-vanity.com/render-output/5601490/x31.png\" alt=\"Fig3.4\" width=\"12%\"/></a><a href=https://media.arxiv-vanity.com/render-output/5601490/x32.png><img src=\"https://media.arxiv-vanity.com/render-output/5601490/x32.png\" alt=\"Fig3.5\" width=\"12%\"/></a><a href=https://media.arxiv-vanity.com/render-output/5601490/x33.png><img src=\"https://media.arxiv-vanity.com/render-output/5601490/x33.png\" alt=\"Fig3.6\" width=\"12%\"/></a><a href=https://media.arxiv-vanity.com/render-output/5601490/x34.png><img src=\"https://media.arxiv-vanity.com/render-output/5601490/x34.png\" alt=\"Fig3.7\" width=\"12%\"/></a><a href=https://media.arxiv-vanity.com/render-output/5601490/x35.png><img src=\"https://media.arxiv-vanity.com/render-output/5601490/x35.png\" alt=\"Fig3.8\" width=\"12%\"/></a>\n",
       "\n",
       "Figure 23: Top four panels: Planck 850 μm maps for Orion (top left), Cygnus X (top right), Perseus (upper middle left), Taurus (upper middle right); Bottom four panels: Ratio of total extinction predicted by our model to Planck 850 μm normalised by the median of the ratio. Predicted extinction contours overlaid. Ratio plots are arranged in the same pattern as the Planck emission maps."
      ],
      "text/plain": [
       "<IPython.core.display.Markdown object>"
      ]
     },
     "execution_count": 3,
     "metadata": {},
     "output_type": "execute_result"
    }
   ],
   "source": [
    "paper_id = \"2111.06672\"\n",
    "content = collect_summary_information(paper_id, mpia.affiliation_verifications)\n",
    "# Mitarbeiter list\n",
    "hl_list = [k[0] for k in mpia_authors]\n",
    "content['authors'] = highlight_authors_in_list(content['authors'], hl_list)\n",
    "content['authors'] = make_short_author_list(content['authors'])\n",
    "Markdown(generate_markdown_text(content))"
   ]
  },
  {
   "cell_type": "markdown",
   "metadata": {},
   "source": [
    "## Example of non-MPIA paper (2109.09763)\n",
    "\n",
    "Note that `mpia.affiliation_verification` is optional. It stops the compilation but when not present the summary will be produced."
   ]
  },
  {
   "cell_type": "code",
   "execution_count": 4,
   "metadata": {
    "cell_id": "00011-909ebcf2-5e56-4252-8048-5ac896cd3a5c",
    "deepnote_cell_type": "code",
    "deepnote_output_heights": [
     328.1875
    ],
    "deepnote_to_be_reexecuted": false,
    "execution_millis": 802,
    "execution_start": 1637845282232,
    "source_hash": "d18dc042",
    "tags": []
   },
   "outputs": [
    {
     "name": "stdout",
     "output_type": "stream",
     "text": [
      "Paper does not satisfy the requirements.\n"
     ]
    }
   ],
   "source": [
    "paper_id = \"2109.09763\"\n",
    "\n",
    "try:\n",
    "    content = collect_summary_information(paper_id, \n",
    "                                          mpia.affiliation_verifications)\n",
    "    # Mitarbeiter list\n",
    "    hl_list = [k[0] for k in mpia_authors]\n",
    "    content['authors'] = highlight_authors_in_list(content['authors'], hl_list)\n",
    "    display(Markdown(generate_markdown_text(content)))\n",
    "except RuntimeError as re:\n",
    "    print(re)  # should not be an MPIA paper"
   ]
  },
  {
   "cell_type": "markdown",
   "metadata": {},
   "source": [
    "# ArXiv new papers"
   ]
  },
  {
   "cell_type": "code",
   "execution_count": 5,
   "metadata": {
    "cell_id": "00005-eb8bd06f-51c2-4c65-8a1e-aa1fec84eacf",
    "deepnote_cell_type": "code",
    "deepnote_output_heights": [
     404.9375
    ],
    "deepnote_to_be_reexecuted": false,
    "execution_millis": 1598,
    "execution_start": 1637845283072,
    "source_hash": "8fbc1f4",
    "tags": []
   },
   "outputs": [
    {
     "name": "stdout",
     "output_type": "stream",
     "text": [
      "Arxiv has 59 new papers today\n",
      "          12 with possible author matches\n"
     ]
    }
   ],
   "source": [
    "from arxiv_vanity_on_deck import (get_new_papers, filter_papers)\n",
    "new_papers = get_new_papers()\n",
    "print(\"\"\"Arxiv has {0:,d} new papers today\"\"\".format(len(new_papers)))\n",
    "keep, matched_authors = filter_papers(new_papers, list(set(hl_list)))\n",
    "identifiers = set([k.identifier.replace('arXiv:', '') for k in keep])\n",
    "print(\"\"\"          {0:,d} with possible author matches\"\"\".format(len(identifiers)))"
   ]
  },
  {
   "cell_type": "markdown",
   "metadata": {},
   "source": [
    "# The Arxiv2 module"
   ]
  },
  {
   "cell_type": "code",
   "execution_count": 6,
   "metadata": {},
   "outputs": [],
   "source": [
    "from arxiv_vanity_on_deck.arxiv2 import get_new_papers, get_paper_from_identifier"
   ]
  },
  {
   "cell_type": "code",
   "execution_count": 7,
   "metadata": {},
   "outputs": [
    {
     "name": "stdout",
     "output_type": "stream",
     "text": [
      "Arxiv has 50 new papers today\n"
     ]
    }
   ],
   "source": [
    "new_papers = get_new_papers()\n",
    "print(\"\"\"Arxiv has {0:,d} new papers today\"\"\".format(len(new_papers)))"
   ]
  },
  {
   "cell_type": "code",
   "execution_count": 8,
   "metadata": {},
   "outputs": [
    {
     "data": {
      "text/markdown": [
       " \n",
       "|||\n",
       "|---:|:---|\n",
       "| [![arXiv](https://img.shields.io/badge/arXiv-arXiv:2111.12098-b31b1b.svg)](https://arxiv.org/abs/arXiv:2111.12098) | **TIC 5724661: A Long-Period Binary with a Pulsating sdB Star and $δ$  Scuti Variable**  |\n",
       "|| Rahul Jayaraman, et al. |\n",
       "|*Comments*| *15 pages, 8 figures, submitted to ApJ*|\n",
       "|**Abstract**| Using the novel TESS 20-sec cadence data, we have discovered an unusual combination of pulsating stars in what we infer to be a binary system. The primary is a standard $\\delta$ Scuti star with pulsations over the range 32-41 d$^{-1}$; this is in an inferred wide orbit with a hot subdwarf B (sdB) secondary, which itself has a large-amplitude p-mode pulsation at 524 d$^{-1}$. We establish constraints on the period of the putative binary by using radial velocity measurements of the $\\delta$ Scuti star and show that any sdB-mass companion star must have an orbital period greater than $\\sim 35$ d. Our identification of this sdB binary serves as an important addition to the relatively small amount of sdB binaries known to have a period longer than a few days. We show that such a binary can be formed through stable, nonconservative mass transfer, without undergoing a common envelope phase. |"
      ],
      "text/plain": [
       "[arXiv:2111.12098] TIC 5724661: A Long-Period Binary with a Pulsating sdB Star and $δ$  Scuti Variable\n",
       "\tRahul Jayaraman, et al."
      ]
     },
     "execution_count": 8,
     "metadata": {},
     "output_type": "execute_result"
    }
   ],
   "source": [
    "new_papers[2]"
   ]
  },
  {
   "cell_type": "code",
   "execution_count": 9,
   "metadata": {},
   "outputs": [
    {
     "data": {
      "text/markdown": [
       " \n",
       "|||\n",
       "|---:|:---|\n",
       "| [![arXiv](https://img.shields.io/badge/arXiv-2111.12361-b31b1b.svg)](https://arxiv.org/abs/2111.12361) | **The Carina High-contrast Imaging Project for massive Stars (CHIPS): II. O stars in Trumpler~14**  |\n",
       "|| Alan Rainot, et al. |\n",
       "|*Comments*| *14 pages, 10 figures. Accepted in A&A 22/11/2021*|\n",
       "|**Abstract**| Most massive stars belong to multiple systems, yet the formation processleading to such high multiplicity remains insufficiently understood. To helpconstrain the different formation scenarios that exist, insights on thelow-mass end of the companion mass function of such stars is crucial. However,this is a challenging endeavour as (sub-)solar mass companions at angularseparations ($\\rho$) below 1\" (corresponding to 1000-3000 au in nearby youngopen clusters and OB associations) are difficult to detect due to the largebrightness contrast with the central star. With the Carina High-contrastImaging Project of massive Stars (CHIPS), we aim to obtain statisticallysignificant constraints on the presence and properties of low-mass companionsaround massive stars at a previously unreachable observing window ($\\Delta\\mathrm{mag} \\gtrsim 10$ at $\\rho \\lesssim$ 1\"). In this second paper in theseries, we focus on the Trumpler 14 cluster, which harbours some of theyoungest and most massive O-type stars in the Milky Way. We obtained VLT-SPHEREobservations of seven O-type objects in Trumpler 14 using the IRDIFS_EXT mode.These allow us to search for companions at separations larger than 0.\"15(approx. 360 au) and down to magnitude contrast $>10 \\mathrm{mag}$ in thenear-infrared. We used angular and spectral differential imaging along with PSFfitting to detect sources and measure their flux relative to that of thecentral object. We detected 211 sources with near-infrared magnitude contrastin the range of 2 to 12. The closest companion, at only 0.\"26, is characterisedas a 1.4M$_{\\odot}$ stars with an age of 0.6Myr, in excellent agreement withprevious age estimates for Tr 14. The mass function peaks at about0.4M$_{\\odot}$ and presents a dearth of stars in the 0.5 to 0.8M$_{\\odot}$ massrange compared to previous estimates of the initial mass function in Tr 14.|"
      ],
      "text/plain": [
       "[2111.12361] The Carina High-contrast Imaging Project for massive Stars (CHIPS): II. O stars in Trumpler~14\n",
       "\tAlan Rainot, et al."
      ]
     },
     "execution_count": 9,
     "metadata": {},
     "output_type": "execute_result"
    }
   ],
   "source": [
    "get_paper_from_identifier(\"2111.12361\")"
   ]
  },
  {
   "cell_type": "markdown",
   "metadata": {},
   "source": [
    "# Summary with ArXiv-Vanity"
   ]
  },
  {
   "cell_type": "code",
   "execution_count": 10,
   "metadata": {
    "cell_id": "00012-95cd30ec-f016-4de9-99af-7d27aa38d5d7",
    "deepnote_cell_type": "code",
    "deepnote_output_heights": [
     232.25
    ],
    "deepnote_to_be_reexecuted": false,
    "execution_millis": 10602,
    "execution_start": 1637845416012,
    "source_hash": "2a5758a6",
    "tags": []
   },
   "outputs": [
    {
     "name": "stdout",
     "output_type": "stream",
     "text": [
      "Not an MPIA paper 2111.12230... (Paper does not satisfy the requirements.)\n",
      "Error with paper 2111.12593... (Arxiv-Vanity failed to render the paper.)\n",
      "Not an MPIA paper 2111.12269... (Paper does not satisfy the requirements.)\n",
      "Not an MPIA paper 2111.12576... (Paper does not satisfy the requirements.)\n",
      "Error with paper 2111.12099... (Arxiv-Vanity failed to render the paper.)\n",
      "Error with paper 2111.12595... (Arxiv-Vanity failed to render the paper.)\n",
      "Not an MPIA paper 2111.12435... (Paper does not satisfy the requirements.)\n",
      "Not an MPIA paper 2111.12414... (Paper does not satisfy the requirements.)\n",
      "Error with paper 2111.12637... (Arxiv-Vanity failed to render the paper.)\n",
      "Error with paper 2111.12363... (Arxiv-Vanity failed to render the paper.)\n",
      "Not an MPIA paper 2111.12103... (Paper does not satisfy the requirements.)\n",
      "Arxiv has 50 new papers today\n",
      "          12 with possible author matches\n",
      "          1 fully extracted\n"
     ]
    }
   ],
   "source": [
    "# run the papers through vanity\n",
    "data = []\n",
    "for paper_id in identifiers:\n",
    "    try:\n",
    "        content = collect_summary_information(paper_id, \n",
    "                                              mpia.affiliation_verifications)\n",
    "        # Mitarbeiter list\n",
    "        hl_list = [k[0] for k in mpia_authors]\n",
    "        content['authors'] = highlight_authors_in_list(content['authors'], hl_list)\n",
    "        content['authors'] = make_short_author_list(content['authors'])\n",
    "        data.append(Markdown(generate_markdown_text(content)))\n",
    "    except HTTPError as httpe:\n",
    "        print(f\"Error with paper {paper_id}... ({httpe})\")\n",
    "    except RuntimeError as re:\n",
    "        print(f\"Not an MPIA paper {paper_id}... ({re})\")\n",
    "\n",
    "print(\"\"\"Arxiv has {0:,d} new papers today\"\"\".format(len(new_papers)))\n",
    "print(\"\"\"          {0:,d} with possible author matches\"\"\".format(len(identifiers)))\n",
    "print(\"\"\"          {0:,d} fully extracted\"\"\".format(len(data)))"
   ]
  },
  {
   "cell_type": "code",
   "execution_count": 11,
   "metadata": {
    "cell_id": "00008-47865826-c28a-4d65-8065-d9527498dd31",
    "deepnote_cell_type": "code",
    "deepnote_output_heights": [
     611,
     611,
     611,
     611,
     611,
     611,
     197.96875
    ],
    "deepnote_to_be_reexecuted": false,
    "execution_millis": 10,
    "execution_start": 1637845426621,
    "source_hash": "b7af718f",
    "tags": []
   },
   "outputs": [
    {
     "data": {
      "text/markdown": [
       "# Vlti-Matisse L- and N-band aperture-synthesis imaging of the unclassified B[e] star FS Canis Majoris\n",
       "\n",
       "[![vanity](https://img.shields.io/badge/vanity-2111.12458-f9f107.svg)](https://www.arxiv-vanity.com/papers/2111.12458/)\n",
       "[![arXiv](https://img.shields.io/badge/arXiv-2111.12458-b31b1b.svg)](https://arxiv.org/abs/2111.12458)\n",
       "\n",
       "K.-H. Hofmann, et al. -- incl., <mark>Th. Henning</mark>, <mark>M. Heininger</mark>, <mark>R. van Boekel</mark>, <mark>K. Meisenheimer</mark>, <mark>J.W. Isbell</mark>, <mark>M. Lehmitz</mark>, <mark>C. Leinert</mark>\n",
       "\n",
       "**Abstract:** Context: FS~Canis~Majoris (FS CMa, HD 45677) is an unclassified B[e] star surrounded by an inclined dust disk. The evolutionary stage of FS CMa is still debated. Perpendicular to the circumstellar disk, a bipolar outflow was detected. Infrared aperture-synthesis imaging provides us with a unique opportunity to study the disk structure.\n",
       "\n",
       "![Fig1](https://media.arxiv-vanity.com/render-output/5601590/x1.png)\n",
       "\n",
       "Figure 1: L- and N-band MATISSE aperture-synthesis images of FS CMa: (Top) Reconstructed L-band image (3.4–3.8 μm). The inner dark disk cavity in the L-band image has an angular diameter of ∼ 6 × 12 mas (i.e., ∼ 3.7 × 7.4 au for a distance of 620 pc).\n",
       "(Bottom) Reconstructed N-band image (8.6–9.0 μm). The FOV is 64 mas (39.7 au for a distance of 620 pc). North is up and east to the left. The inserted circles represent the 2.7 and 6.6 mas diameters of the L- and N-band resolution beams. See Sect. 3 for more details.\n",
       "\n",
       "\n",
       "![Fig2](https://media.arxiv-vanity.com/render-output/5601590/x43.png)\n",
       "\n",
       "Figure 27: Estimation of the error map of the L-band reconstruction (Fig. 1 top) from synthetic data: a) theoretical object used for generating the synthetic data (CPs and visibilities with the same noise and uv coverage as in the measured data (see text for more details), b) image reconstructed from the synthetic data, c) derived error map, d) reconstruction shown in Fig. 1 (top). The FOV is 64 mas. North is up and east to the left.\n",
       "\n",
       "\n",
       "<a href=https://media.arxiv-vanity.com/render-output/5601590/x15.png><img src=\"https://media.arxiv-vanity.com/render-output/5601590/x15.png\" alt=\"Fig3.1\" width=\"33%\"/></a><a href=https://media.arxiv-vanity.com/render-output/5601590/x16.png><img src=\"https://media.arxiv-vanity.com/render-output/5601590/x16.png\" alt=\"Fig3.2\" width=\"33%\"/></a><a href=https://media.arxiv-vanity.com/render-output/5601590/x17.png><img src=\"https://media.arxiv-vanity.com/render-output/5601590/x17.png\" alt=\"Fig3.3\" width=\"33%\"/></a>\n",
       "\n",
       "Figure 6: Comparison of the observed L-band image with the image of model 3: (left) best-fit L-band model disk image with adjusted inclination and modified inner rim, (middle) model image contour plot over reconstructed L-band image, and (right) difference image (observed image minus model). Contour lines show 50% (solid) and 10% (dashed) levels of the maximum flux. As outlined in Sect. 4.2, the given flux unit is relative. Rim parameter: Rε=1.8Rin = 9 au, ε=0.7. Inclination: i=51∘. The central object is shown in the model and observed image."
      ],
      "text/plain": [
       "<IPython.core.display.Markdown object>"
      ]
     },
     "metadata": {},
     "output_type": "display_data"
    }
   ],
   "source": [
    "from IPython.display import display\n",
    "display(*data)"
   ]
  },
  {
   "cell_type": "code",
   "execution_count": 12,
   "metadata": {
    "cell_id": "00008-3abe8f25-03af-4f10-89fb-c257fcc91c57",
    "deepnote_cell_type": "code",
    "deepnote_output_heights": [
     21.1875
    ],
    "deepnote_to_be_reexecuted": false,
    "execution_millis": 52,
    "execution_start": 1637845471831,
    "source_hash": "e2f029bf",
    "tags": []
   },
   "outputs": [
    {
     "name": "stdout",
     "output_type": "stream",
     "text": [
      "# Vlti-Matisse L- and N-band aperture-synthesis imaging of the unclassified B[e] star FS Canis Majoris\n",
      "\n",
      "[![vanity](https://img.shields.io/badge/vanity-2111.12458-f9f107.svg)](https://www.arxiv-vanity.com/papers/2111.12458/)\n",
      "[![arXiv](https://img.shields.io/badge/arXiv-2111.12458-b31b1b.svg)](https://arxiv.org/abs/2111.12458)\n",
      "\n",
      "K.-H. Hofmann, et al. -- incl., <mark>Th. Henning</mark>, <mark>M. Heininger</mark>, <mark>R. van Boekel</mark>, <mark>K. Meisenheimer</mark>, <mark>J.W. Isbell</mark>, <mark>M. Lehmitz</mark>, <mark>C. Leinert</mark>\n",
      "\n",
      "**Abstract:** Context: FS~Canis~Majoris (FS CMa, HD 45677) is an unclassified B[e] star surrounded by an inclined dust disk. The evolutionary stage of FS CMa is still debated. Perpendicular to the circumstellar disk, a bipolar outflow was detected. Infrared aperture-synthesis imaging provides us with a unique opportunity to study the disk structure.\n",
      "\n",
      "![Fig1](https://media.arxiv-vanity.com/render-output/5601590/x1.png)\n",
      "\n",
      "Figure 1: L- and N-band MATISSE aperture-synthesis images of FS CMa: (Top) Reconstructed L-band image (3.4–3.8 μm). The inner dark disk cavity in the L-band image has an angular diameter of ∼ 6 × 12 mas (i.e., ∼ 3.7 × 7.4 au for a distance of 620 pc).\n",
      "(Bottom) Reconstructed N-band image (8.6–9.0 μm). The FOV is 64 mas (39.7 au for a distance of 620 pc). North is up and east to the left. The inserted circles represent the 2.7 and 6.6 mas diameters of the L- and N-band resolution beams. See Sect. 3 for more details.\n",
      "\n",
      "\n",
      "![Fig2](https://media.arxiv-vanity.com/render-output/5601590/x43.png)\n",
      "\n",
      "Figure 27: Estimation of the error map of the L-band reconstruction (Fig. 1 top) from synthetic data: a) theoretical object used for generating the synthetic data (CPs and visibilities with the same noise and uv coverage as in the measured data (see text for more details), b) image reconstructed from the synthetic data, c) derived error map, d) reconstruction shown in Fig. 1 (top). The FOV is 64 mas. North is up and east to the left.\n",
      "\n",
      "\n",
      "<a href=https://media.arxiv-vanity.com/render-output/5601590/x15.png><img src=\"https://media.arxiv-vanity.com/render-output/5601590/x15.png\" alt=\"Fig3.1\" width=\"33%\"/></a><a href=https://media.arxiv-vanity.com/render-output/5601590/x16.png><img src=\"https://media.arxiv-vanity.com/render-output/5601590/x16.png\" alt=\"Fig3.2\" width=\"33%\"/></a><a href=https://media.arxiv-vanity.com/render-output/5601590/x17.png><img src=\"https://media.arxiv-vanity.com/render-output/5601590/x17.png\" alt=\"Fig3.3\" width=\"33%\"/></a>\n",
      "\n",
      "Figure 6: Comparison of the observed L-band image with the image of model 3: (left) best-fit L-band model disk image with adjusted inclination and modified inner rim, (middle) model image contour plot over reconstructed L-band image, and (right) difference image (observed image minus model). Contour lines show 50% (solid) and 10% (dashed) levels of the maximum flux. As outlined in Sect. 4.2, the given flux unit is relative. Rim parameter: Rε=1.8Rin = 9 au, ε=0.7. Inclination: i=51∘. The central object is shown in the model and observed image.\n"
     ]
    }
   ],
   "source": [
    "print(generate_markdown_text(content))"
   ]
  },
  {
   "cell_type": "markdown",
   "metadata": {},
   "source": [
    "# The LaTeX module"
   ]
  },
  {
   "cell_type": "code",
   "execution_count": 13,
   "metadata": {},
   "outputs": [],
   "source": [
    "from arxiv_vanity_on_deck.arxiv2 import retrieve_document_source\n",
    "from arxiv_vanity_on_deck.latex import LatexDocument"
   ]
  },
  {
   "cell_type": "code",
   "execution_count": 14,
   "metadata": {},
   "outputs": [
    {
     "name": "stdout",
     "output_type": "stream",
     "text": [
      "https://arxiv.org/e-print/2111.12361\n",
      "extracting tarball... done.\n"
     ]
    }
   ],
   "source": [
    "folder = retrieve_document_source(\"2111.12361\", 'tmp_2111.12361')"
   ]
  },
  {
   "cell_type": "code",
   "execution_count": 15,
   "metadata": {},
   "outputs": [],
   "source": [
    "doc = LatexDocument(folder)"
   ]
  },
  {
   "cell_type": "code",
   "execution_count": 16,
   "metadata": {},
   "outputs": [
    {
     "data": {
      "text/markdown": [
       "|    |\n",
       "|:---|\n",
       "| **The Carina High-contrast Imaging Project for massive Stars (CHIPS)**  |\n",
       "| A. Rainot, M. Reggiani, H. Sana, J. Bodensteiner, O. Absil |\n",
       "| Most massive stars belong to multiple systems, yet the formation process leading to such high multiplicity remain insufficiently understood.      To help constrain the different formation scenarios that exist, insights on the low-mass end of the companion mass function of such stars is crucial. However, this is a challenging endeavour as (sub-)solar mass companions at angular separations ($\\rho$) below 1\\arcsec\\(corresponding to 1000–3000 au in nearby young open clusters and OB associations) are difficult to detect due to the large brightness contrast with the central star.With the Carina High-contrast Imaging Project of massive Stars (CHIPS), we aim to obtain statistically significant constraints on the presence and properties of low-mass companions around massive stars at a previously unreachable observing window ($\\Delta \\mathrm{mag} \\gtrsim 10$at$\\rho \\lesssim 1\\arcsec$). In this second paper in the series, we focus on the Trumpler 14 cluster, which harbours some of the youngest and most massive O-type stars in the Milky Way.We obtained VLT-SPHERE observations of seven O-type objects in Trumpler 14 using the IRDIFS\\_EXT mode. These provide us with a$12\\arcsec \\times 12\\arcsec$field-of-view (approximately, (($3 \\times 3)  \\cdot 10^4$au) centred on each O star and allow us to search for companions at separations larger than 0\\farcs15 (approx.\\360 au) and down to magnitude contrast$>10 \\mathrm{mag}$in the near-infrared. We used  angular and spectral differential imaging along with PSF fitting to detect sources and measure their flux relative to that of the central object. We then used grids of ATLAS9 and PHOENIX LTE atmosphere models combined with (pre-) main-sequence evolutionary tracks to estimate the mass of the detected candidate companions.We detected 211 sources with near-infrared magnitude contrast in the range of 2 to 12. Given the large surface number density of stars in Trumpler 14, one cannot reliably distinguish between cluster members and genuine companions for most of the detected sources. The closest companion, at only 0\\farcs26, is characterised as a 1.4\\msun{}stars with an age of 0.6 Myr, in excellent agreement with previous age estimates for Tr 14. The mass function peaks at about 0.4\\Msun{}and presents a dearth of stars in the 0.5 to 0.8\\Msun{}mass range compared to previous estimates of the initial mass function in Tr 14. While statistically significant, part of these differences may result from contamination of the K-band fluxes by circumstellar material.SPHERE is clearly suitable to probe the low-mass end of the mass function in the vicinity of massive stars. Follow-up SPHERE observations to obtain the full Y to K spectral energy distribution would allow for better constraints on the masses of the detected sources, and to confirm (or invalidate) the curious mass function that we derived for low-mass stars in the vicinity of the O-type objects in Trumpler 14. |\n",
       "|![Fig3](tmp_2111.12361/bestfit_spectrum_wIRDIS.png)|\n",
       "|**Figure 3. -** IFS+IRDIS flux-calibrated spectrum (blue) of Tr14-8B at a reference distance of 100 R_. The orange plain line and points give the best-fit ATLAS9 model with T_eff=4455 K,  g=3.4 and R=3.8 R_ for IFS and IRDIS. The shaded area represents the 1- uncertainties on the observed spectrum. (*f:sed_CD-583529*)|\n",
       "|![Fig7](tmp_2111.12361/all_distrib_CHIPS_MAD_MK_1ABcorr.png)|\n",
       "|**Figure 7. -** K-band magnitude distribution of detected sources in the Trumpler 14 cluster with the CHIPS (orange; K_1) and MAD (blue;K_S) samples as a function of angular separation from the central star. Sources within 01 from one another are connected by a solid red line. MAD sources brighter than K = 8 are likely impacted by non-linearity and/or saturation effects impacting the MAD observations.  (*f:Kmadchips*)|\n",
       "|![Fig1](tmp_2111.12361/Tr14_targets.png)|\n",
       "|**Figure 1. -** 2MASS image of the Trumpler 14 cluster with its seven O-type stars and multiple systems indicated with crosses 2006AJ....131.1163S. The white circle shows the 2' area around the central star of the cluster, Tr14-1A, considered for this study. (*f:tr14*)|"
      ],
      "text/plain": [
       "<IPython.core.display.Markdown object>"
      ]
     },
     "execution_count": 16,
     "metadata": {},
     "output_type": "execute_result"
    }
   ],
   "source": [
    "from IPython.display import Markdown\n",
    "Markdown(doc.generate_markdown_text())"
   ]
  },
  {
   "cell_type": "code",
   "execution_count": null,
   "metadata": {},
   "outputs": [],
   "source": []
  }
 ],
 "metadata": {
  "deepnote": {
   "is_reactive": false
  },
  "deepnote_execution_queue": [],
  "deepnote_notebook_id": "c7a17692-0103-4738-88d8-72c31e8d16d6",
  "interpreter": {
   "hash": "aee8b7b246df8f9039afb4144a1f6fd8d2ca17a180786b69acc140d282b71a49"
  },
  "kernelspec": {
   "display_name": "Python 3 (ipykernel)",
   "language": "python",
   "name": "python3"
  },
  "language_info": {
   "codemirror_mode": {
    "name": "ipython",
    "version": 3
   },
   "file_extension": ".py",
   "mimetype": "text/x-python",
   "name": "python",
   "nbconvert_exporter": "python",
   "pygments_lexer": "ipython3",
   "version": "3.9.9"
  }
 },
 "nbformat": 4,
 "nbformat_minor": 4
}
