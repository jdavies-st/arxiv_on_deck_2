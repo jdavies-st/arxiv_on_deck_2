{
 "cells": [
  {
   "cell_type": "code",
   "execution_count": 13,
   "metadata": {
    "cell_id": "00008-05d7adef-f465-4ad2-987b-63d1b0f5969b",
    "deepnote_cell_type": "code",
    "deepnote_to_be_reexecuted": false,
    "execution_millis": 229,
    "execution_start": 1637845256999,
    "source_hash": "1dcf3326",
    "tags": []
   },
   "outputs": [],
   "source": [
    "import sys\n",
    "sys.path.append('../')\n",
    "from arxiv_on_deck_2 import (collect_summary_information,\n",
    "                             generate_markdown_text, \n",
    "                             highlight_authors_in_list,\n",
    "                             make_short_author_list)\n",
    "from arxiv_on_deck_2 import mpia\n",
    "from requests.exceptions import HTTPError\n",
    "from IPython.display import Markdown"
   ]
  },
  {
   "cell_type": "markdown",
   "metadata": {},
   "source": [
    "# MPIA information"
   ]
  },
  {
   "cell_type": "code",
   "execution_count": 2,
   "metadata": {
    "cell_id": "00009-3a19b36b-ad76-4715-9dec-acf221f8f949",
    "deepnote_cell_type": "code",
    "deepnote_to_be_reexecuted": false,
    "execution_millis": 20969,
    "execution_start": 1637845257251,
    "source_hash": "85939f86",
    "tags": []
   },
   "outputs": [],
   "source": [
    "mpia_authors = mpia.get_mpia_mitarbeiter_list()"
   ]
  },
  {
   "cell_type": "markdown",
   "metadata": {},
   "source": [
    "# Examples"
   ]
  },
  {
   "cell_type": "markdown",
   "metadata": {},
   "source": [
    "## Example of MPIA paper (2111.06672)\n",
    "\n",
    "Note that the summary uses _h1_ title also appearing in the table of content of the notebook"
   ]
  },
  {
   "cell_type": "code",
   "execution_count": 3,
   "metadata": {
    "cell_id": "00003-b174e2bb-21cc-448e-a970-8088d563c5cd",
    "deepnote_cell_type": "code",
    "deepnote_output_heights": [
     611
    ],
    "deepnote_to_be_reexecuted": false,
    "execution_millis": 1544,
    "execution_start": 1637845280671,
    "source_hash": "e9b6f183",
    "tags": []
   },
   "outputs": [
    {
     "name": "stdout",
     "output_type": "stream",
     "text": [
      "starting all requests in the queue\n",
      "... requests sent.\n",
      "Identifiers 1, Retrieved 1 papers (0 generated errors)\n",
      "Not all papers were ready. Retrying... seconds...\n",
      "done.\n",
      " Identifiers 1, Retrieved 1 papers (0 generated errors)\n"
     ]
    },
    {
     "data": {
      "text/markdown": [
       "# Three-dimensional dust density structure of the Orion, Cygnus X, Taurus, and Perseus star-forming regions\n",
       "\n",
       "[![vanity](https://img.shields.io/badge/vanity-2111.06672-f9f107.svg)](https://www.arxiv-vanity.com/papers/2111.06672)\n",
       "[![arXiv](https://img.shields.io/badge/arXiv-2111.06672-b31b1b.svg)](https://arxiv.org/abs/2111.06672)\n",
       "\n",
       "<mark>T. E. Dharmawardena</mark>, <mark>C. A. L. Bailer-Jones</mark>, <mark>M. Fouesneau</mark>, D. Foreman-Mackey\n",
       "\n",
       "**Abstract:** Interstellar dust affects many astronomical observations through absorption and reddening, yet this extinction is also a powerful tool for studying interstellar matter in galaxies.\n",
       "Three-dimensional reconstructions of dust extinction and density in the Milky Way have suffered from artefacts such as the fingers-of-god effect and negative densities, and have been limited by large computational costs.\n",
       "Here we aim to overcome these issues with a novel algorithm that derives the three-dimensional (3D) extinction density of dust in the Milky Way using a latent variable Gaussian Process in combination with variational inference. Our model maintains non-negative density and hence monotonically non-decreasing extinction along all lines-of-sight, while performing the inference within a reasonable computational time.\n",
       "\n",
       "<a href=https://media.arxiv-vanity.com/render-output/5601490/Figures/SimulatedData/SimulatedData_Density_Original_SkippedSlices.png><img src=\"https://media.arxiv-vanity.com/render-output/5601490/Figures/SimulatedData/SimulatedData_Density_Original_SkippedSlices.png\" alt=\"Fig1.1\" width=\"33%\"/></a><a href=https://media.arxiv-vanity.com/render-output/5601490/Figures/SimulatedData/SimulatedData_Density_SlicesAlongDist_GPpred_SkippedSlices.png><img src=\"https://media.arxiv-vanity.com/render-output/5601490/Figures/SimulatedData/SimulatedData_Density_SlicesAlongDist_GPpred_SkippedSlices.png\" alt=\"Fig1.2\" width=\"33%\"/></a><a href=https://media.arxiv-vanity.com/render-output/5601490/Figures/SimulatedData/SimulatedData_Density_SlicesAlongDist_Pred-Original_Residual_SkippedSlices.png><img src=\"https://media.arxiv-vanity.com/render-output/5601490/Figures/SimulatedData/SimulatedData_Density_SlicesAlongDist_Pred-Original_Residual_SkippedSlices.png\" alt=\"Fig1.3\" width=\"33%\"/></a>\n",
       "\n",
       "Figure 5: Top:Simulated Density map sampled at the indicated distances; Middle:Our model reconstructed Density map sampled at the same distances as the simulated map; Bottom:Residual of Model Predicted density - Simulated Density\n",
       "\n",
       "<a href=https://media.arxiv-vanity.com/render-output/5601490/x36.png><img src=\"https://media.arxiv-vanity.com/render-output/5601490/x36.png\" alt=\"Fig2.1\" width=\"12%\"/></a><a href=https://media.arxiv-vanity.com/render-output/5601490/x37.png><img src=\"https://media.arxiv-vanity.com/render-output/5601490/x37.png\" alt=\"Fig2.2\" width=\"12%\"/></a><a href=https://media.arxiv-vanity.com/render-output/5601490/x38.png><img src=\"https://media.arxiv-vanity.com/render-output/5601490/x38.png\" alt=\"Fig2.3\" width=\"12%\"/></a><a href=https://media.arxiv-vanity.com/render-output/5601490/x39.png><img src=\"https://media.arxiv-vanity.com/render-output/5601490/x39.png\" alt=\"Fig2.4\" width=\"12%\"/></a><a href=https://media.arxiv-vanity.com/render-output/5601490/x40.png><img src=\"https://media.arxiv-vanity.com/render-output/5601490/x40.png\" alt=\"Fig2.5\" width=\"12%\"/></a><a href=https://media.arxiv-vanity.com/render-output/5601490/x41.png><img src=\"https://media.arxiv-vanity.com/render-output/5601490/x41.png\" alt=\"Fig2.6\" width=\"12%\"/></a><a href=https://media.arxiv-vanity.com/render-output/5601490/x42.png><img src=\"https://media.arxiv-vanity.com/render-output/5601490/x42.png\" alt=\"Fig2.7\" width=\"12%\"/></a><a href=https://media.arxiv-vanity.com/render-output/5601490/x43.png><img src=\"https://media.arxiv-vanity.com/render-output/5601490/x43.png\" alt=\"Fig2.8\" width=\"12%\"/></a>\n",
       "\n",
       "Figure 24: As Fig. 23, showing Planck Dust Intensity.\n",
       "\n",
       "<a href=https://media.arxiv-vanity.com/render-output/5601490/x28.png><img src=\"https://media.arxiv-vanity.com/render-output/5601490/x28.png\" alt=\"Fig3.1\" width=\"12%\"/></a><a href=https://media.arxiv-vanity.com/render-output/5601490/x29.png><img src=\"https://media.arxiv-vanity.com/render-output/5601490/x29.png\" alt=\"Fig3.2\" width=\"12%\"/></a><a href=https://media.arxiv-vanity.com/render-output/5601490/x30.png><img src=\"https://media.arxiv-vanity.com/render-output/5601490/x30.png\" alt=\"Fig3.3\" width=\"12%\"/></a><a href=https://media.arxiv-vanity.com/render-output/5601490/x31.png><img src=\"https://media.arxiv-vanity.com/render-output/5601490/x31.png\" alt=\"Fig3.4\" width=\"12%\"/></a><a href=https://media.arxiv-vanity.com/render-output/5601490/x32.png><img src=\"https://media.arxiv-vanity.com/render-output/5601490/x32.png\" alt=\"Fig3.5\" width=\"12%\"/></a><a href=https://media.arxiv-vanity.com/render-output/5601490/x33.png><img src=\"https://media.arxiv-vanity.com/render-output/5601490/x33.png\" alt=\"Fig3.6\" width=\"12%\"/></a><a href=https://media.arxiv-vanity.com/render-output/5601490/x34.png><img src=\"https://media.arxiv-vanity.com/render-output/5601490/x34.png\" alt=\"Fig3.7\" width=\"12%\"/></a><a href=https://media.arxiv-vanity.com/render-output/5601490/x35.png><img src=\"https://media.arxiv-vanity.com/render-output/5601490/x35.png\" alt=\"Fig3.8\" width=\"12%\"/></a>\n",
       "\n",
       "Figure 23: Top four panels: Planck 850 μm maps for Orion (top left), Cygnus X (top right), Perseus (upper middle left), Taurus (upper middle right); Bottom four panels: Ratio of total extinction predicted by our model to Planck 850 μm normalised by the median of the ratio. Predicted extinction contours overlaid. Ratio plots are arranged in the same pattern as the Planck emission maps."
      ],
      "text/plain": [
       "<IPython.core.display.Markdown object>"
      ]
     },
     "execution_count": 3,
     "metadata": {},
     "output_type": "execute_result"
    }
   ],
   "source": [
    "paper_id = \"2111.06672\"\n",
    "content = collect_summary_information(paper_id, mpia.affiliation_verifications)[0]\n",
    "# Mitarbeiter list\n",
    "hl_list = [k[0] for k in mpia_authors]\n",
    "content['authors'] = highlight_authors_in_list(content['authors'], hl_list)\n",
    "content['authors'] = make_short_author_list(content['authors'])\n",
    "Markdown(generate_markdown_text(content))"
   ]
  },
  {
   "cell_type": "markdown",
   "metadata": {},
   "source": [
    "## Example of non-MPIA paper (2109.09763)\n",
    "\n",
    "Note that `mpia.affiliation_verification` is optional. It stops the compilation but when not present the summary will be produced."
   ]
  },
  {
   "cell_type": "code",
   "execution_count": 4,
   "metadata": {
    "cell_id": "00011-909ebcf2-5e56-4252-8048-5ac896cd3a5c",
    "deepnote_cell_type": "code",
    "deepnote_output_heights": [
     328.1875
    ],
    "deepnote_to_be_reexecuted": false,
    "execution_millis": 802,
    "execution_start": 1637845282232,
    "source_hash": "d18dc042",
    "tags": []
   },
   "outputs": [
    {
     "name": "stdout",
     "output_type": "stream",
     "text": [
      "starting all requests in the queue\n",
      "... requests sent.\n",
      "Identifiers 1, Retrieved 1 papers (0 generated errors)\n",
      "Not all papers were ready. Retrying... seconds...\n",
      "done.\n",
      " Identifiers 1, Retrieved 1 papers (0 generated errors)\n",
      "Not an MPIA paper 2109.09763... (Paper does not satisfy the requirements.)\n",
      "\n",
      "As expected, no content matches an MPIA paper\n"
     ]
    }
   ],
   "source": [
    "paper_id = \"2109.09763\"\n",
    "\n",
    "try: \n",
    "    content = collect_summary_information(paper_id,\n",
    "                                          mpia.affiliation_verifications)[0]\n",
    "    # Mitarbeiter list\n",
    "    hl_list = [k[0] for k in mpia_authors]\n",
    "    content['authors'] = highlight_authors_in_list(content['authors'], hl_list)\n",
    "    display(Markdown(generate_markdown_text(content)))\n",
    "except IndexError as ie:\n",
    "    print(\"\\nAs expected, no content matches an MPIA paper\")"
   ]
  },
  {
   "cell_type": "markdown",
   "metadata": {},
   "source": [
    "# Deprecated ArXiv module: new papers"
   ]
  },
  {
   "cell_type": "code",
   "execution_count": 5,
   "metadata": {
    "cell_id": "00005-eb8bd06f-51c2-4c65-8a1e-aa1fec84eacf",
    "deepnote_cell_type": "code",
    "deepnote_output_heights": [
     404.9375
    ],
    "deepnote_to_be_reexecuted": false,
    "execution_millis": 1598,
    "execution_start": 1637845283072,
    "source_hash": "8fbc1f4",
    "tags": []
   },
   "outputs": [
    {
     "name": "stdout",
     "output_type": "stream",
     "text": [
      "Arxiv has 93 new papers today\n",
      "          21 with possible author matches\n"
     ]
    }
   ],
   "source": [
    "from arxiv_on_deck_2 import (get_new_papers, filter_papers)\n",
    "new_papers = get_new_papers()\n",
    "print(\"\"\"Arxiv has {0:,d} new papers today\"\"\".format(len(new_papers)))\n",
    "keep, matched_authors = filter_papers(new_papers, list(set(hl_list)))\n",
    "identifiers = set([k.identifier.replace('arXiv:', '') for k in keep])\n",
    "print(\"\"\"          {0:,d} with possible author matches\"\"\".format(len(identifiers)))"
   ]
  },
  {
   "cell_type": "markdown",
   "metadata": {},
   "source": [
    "# The Arxiv2 module"
   ]
  },
  {
   "cell_type": "code",
   "execution_count": 6,
   "metadata": {},
   "outputs": [],
   "source": [
    "from arxiv_on_deck_2.arxiv2 import get_new_papers, get_paper_from_identifier"
   ]
  },
  {
   "cell_type": "code",
   "execution_count": 7,
   "metadata": {},
   "outputs": [
    {
     "name": "stdout",
     "output_type": "stream",
     "text": [
      "Arxiv has 82 new papers today\n"
     ]
    }
   ],
   "source": [
    "new_papers = get_new_papers()\n",
    "print(\"\"\"Arxiv has {0:,d} new papers today\"\"\".format(len(new_papers)))"
   ]
  },
  {
   "cell_type": "code",
   "execution_count": 8,
   "metadata": {},
   "outputs": [
    {
     "data": {
      "text/markdown": [
       "\n",
       "|||\n",
       "|---:|:---|\n",
       "| [![arXiv](https://img.shields.io/badge/arXiv-arXiv:2111.12718-b31b1b.svg)](https://arxiv.org/abs/arXiv:2111.12718) | **Inflated Eccentric Migration of Evolving Gas-Giants: Accelerated  Formation and Destruction of Hot and Warm Jupiters**  |\n",
       "|| Mor Rozner, Hila Glanz, Hagai B. Perets, Evgeni Grishin |\n",
       "|*Comments*| *comments are welcome*|\n",
       "|**Abstract**| Hot and warm Jupiters (HJs and WJs correspondingly) are gas-giants orbiting their host stars at very short orbital periods ($P_{HJ}<10$ days; $10<P_{WJ}<200$ days). HJs and a significant fraction of WJs are thought to have migrated from an initially farther-out birth locations. While such migration processes have been extensively studied, the thermal evolution of gas-giants and its coupling to the the migration processes are usually overlooked. In particular, gas-giants end their core-accretion phase with large radii and then contract slowly to their final radii. Moreover, intensive heating can slow the contraction at various evolutionary stages. The initial inflated large radii lead to faster tidal migration due to the strong dependence of tides on the radius. Here we explore this accelerated migration channel, which we term inflated eccentric migration, using a semi-analytical self-consistent modeling of the thermal-dynamical evolution of the migrating gas-giants, later validated by our numerical model (see a companion paper, paper II). We demonstrate our model for specific examples and carry a population synthesis study. Our results provide a general picture of the properties of the formed HJs\\&WJs via inflated migration, and the dependence on the initial parameters/distributions. We show that tidal migration of gas-giants could occur far more rapidly then previously thought and lead to accelerated destruction and formation of HJs and enhanced formation rate of WJs. Accounting for the coupled thermal-dynamical evolution is therefore critical to the understanding of HJs/WJs formation, evolution and final properties of the population and play a key role in their migration process. |"
      ],
      "text/plain": [
       "[arXiv:2111.12718] Inflated Eccentric Migration of Evolving Gas-Giants: Accelerated  Formation and Destruction of Hot and Warm Jupiters\n",
       "\tMor Rozner, Hila Glanz, Hagai B. Perets, Evgeni Grishin"
      ]
     },
     "execution_count": 8,
     "metadata": {},
     "output_type": "execute_result"
    }
   ],
   "source": [
    "new_papers[2]"
   ]
  },
  {
   "cell_type": "code",
   "execution_count": 9,
   "metadata": {},
   "outputs": [
    {
     "data": {
      "text/markdown": [
       "\n",
       "|||\n",
       "|---:|:---|\n",
       "| [![arXiv](https://img.shields.io/badge/arXiv-2111.12361-b31b1b.svg)](https://arxiv.org/abs/2111.12361) | **The Carina High-contrast Imaging Project for massive Stars (CHIPS): II. O stars in Trumpler~14**  |\n",
       "|| Alan Rainot, et al. |\n",
       "|*Comments*| *14 pages, 10 figures. Accepted in A&A 22/11/2021*|\n",
       "|**Abstract**| Most massive stars belong to multiple systems, yet the formation processleading to such high multiplicity remains insufficiently understood. To helpconstrain the different formation scenarios that exist, insights on thelow-mass end of the companion mass function of such stars is crucial. However,this is a challenging endeavour as (sub-)solar mass companions at angularseparations ($\\rho$) below 1\" (corresponding to 1000-3000 au in nearby youngopen clusters and OB associations) are difficult to detect due to the largebrightness contrast with the central star. With the Carina High-contrastImaging Project of massive Stars (CHIPS), we aim to obtain statisticallysignificant constraints on the presence and properties of low-mass companionsaround massive stars at a previously unreachable observing window ($\\Delta\\mathrm{mag} \\gtrsim 10$ at $\\rho \\lesssim$ 1\"). In this second paper in theseries, we focus on the Trumpler 14 cluster, which harbours some of theyoungest and most massive O-type stars in the Milky Way. We obtained VLT-SPHEREobservations of seven O-type objects in Trumpler 14 using the IRDIFS_EXT mode.These allow us to search for companions at separations larger than 0.\"15(approx. 360 au) and down to magnitude contrast $>10 \\mathrm{mag}$ in thenear-infrared. We used angular and spectral differential imaging along with PSFfitting to detect sources and measure their flux relative to that of thecentral object. We detected 211 sources with near-infrared magnitude contrastin the range of 2 to 12. The closest companion, at only 0.\"26, is characterisedas a 1.4M$_{\\odot}$ stars with an age of 0.6Myr, in excellent agreement withprevious age estimates for Tr 14. The mass function peaks at about0.4M$_{\\odot}$ and presents a dearth of stars in the 0.5 to 0.8M$_{\\odot}$ massrange compared to previous estimates of the initial mass function in Tr 14.|"
      ],
      "text/plain": [
       "[2111.12361] The Carina High-contrast Imaging Project for massive Stars (CHIPS): II. O stars in Trumpler~14\n",
       "\tAlan Rainot, et al."
      ]
     },
     "execution_count": 9,
     "metadata": {},
     "output_type": "execute_result"
    }
   ],
   "source": [
    "get_paper_from_identifier(\"2111.12361\")"
   ]
  },
  {
   "cell_type": "markdown",
   "metadata": {},
   "source": [
    "# Summary with ArXiv-Vanity"
   ]
  },
  {
   "cell_type": "code",
   "execution_count": 10,
   "metadata": {},
   "outputs": [],
   "source": [
    "from arxiv_on_deck_2.arxiv_vanity import collect_summary_information"
   ]
  },
  {
   "cell_type": "code",
   "execution_count": 11,
   "metadata": {},
   "outputs": [
    {
     "name": "stdout",
     "output_type": "stream",
     "text": [
      "starting all requests in the queue\n",
      "... requests sent.\n",
      "Identifiers 21, Retrieved 17 papers (4 generated errors)\n",
      "Not all papers were ready. Retrying... seconds...\n",
      "done.\n",
      " Identifiers 21, Retrieved 17 papers (4 generated errors)\n",
      "Not an MPIA paper 2111.13482... (Paper does not satisfy the requirements.)\n",
      "Not an MPIA paper 2111.13563... (Paper does not satisfy the requirements.)\n",
      "Not an MPIA paper 2111.12864... (Paper does not satisfy the requirements.)\n",
      "Not an MPIA paper 2111.13642... (Paper does not satisfy the requirements.)\n",
      "Not an MPIA paper 2111.12788... (Paper does not satisfy the requirements.)\n",
      "Not an MPIA paper 2111.12859... (Paper does not satisfy the requirements.)\n",
      "Not an MPIA paper 2111.13139... (Paper does not satisfy the requirements.)\n",
      "Not an MPIA paper 2111.13174... (Paper does not satisfy the requirements.)\n",
      "Not an MPIA paper 2111.12816... (Paper does not satisfy the requirements.)\n",
      "Not an MPIA paper 2111.13325... (Paper does not satisfy the requirements.)\n",
      "Not an MPIA paper 2111.13305... (Paper does not satisfy the requirements.)\n",
      "Not an MPIA paper 2111.12713... (Paper does not satisfy the requirements.)\n",
      "Not an MPIA paper 2111.12976... (Paper does not satisfy the requirements.)\n",
      "Not an MPIA paper 2111.12732... (Paper does not satisfy the requirements.)\n",
      "Not an MPIA paper 2111.13049... (Paper does not satisfy the requirements.)\n",
      "Arxiv has 82 new papers today\n",
      "          21 with possible author matches\n",
      "          2 fully extracted\n"
     ]
    }
   ],
   "source": [
    "contents = collect_summary_information(identifiers, \n",
    "                                       content_requirements=mpia.affiliation_verifications, \n",
    "                                       wait = 5)\n",
    "\n",
    "print(\"\"\"Arxiv has {0:,d} new papers today\"\"\".format(len(new_papers)))\n",
    "print(\"\"\"          {0:,d} with possible author matches\"\"\".format(len(identifiers)))\n",
    "print(\"\"\"          {0:,d} fully extracted\"\"\".format(len(contents)))\n",
    "\n",
    "data = []\n",
    "for content in contents:\n",
    "    # Mitarbeiter list\n",
    "    hl_list = [k[0] for k in mpia_authors]\n",
    "    content['authors'] = highlight_authors_in_list(content['authors'], hl_list)\n",
    "    content['authors'] = make_short_author_list(content['authors'])\n",
    "    data.append(Markdown(generate_markdown_text(content)))"
   ]
  },
  {
   "cell_type": "code",
   "execution_count": 12,
   "metadata": {
    "cell_id": "00008-47865826-c28a-4d65-8065-d9527498dd31",
    "deepnote_cell_type": "code",
    "deepnote_output_heights": [
     611,
     611,
     611,
     611,
     611,
     611,
     197.96875
    ],
    "deepnote_to_be_reexecuted": false,
    "execution_millis": 10,
    "execution_start": 1637845426621,
    "source_hash": "b7af718f",
    "tags": []
   },
   "outputs": [
    {
     "data": {
      "text/markdown": [
       "# Subaru High-z Exploration of Low-Luminosity Quasars (SHELLQs). XVI. 69 New Quasars at 5.8<z<7.0\n",
       "\n",
       "[![vanity](https://img.shields.io/badge/vanity-2111.12766-f9f107.svg)](https://www.arxiv-vanity.com/papers/2111.12766)\n",
       "[![arXiv](https://img.shields.io/badge/arXiv-2111.12766-b31b1b.svg)](https://arxiv.org/abs/2111.12766)\n",
       "\n",
       "Yoshiki Matsuoka, et al. -- incl., <mark>Chien-Hsiu Lee</mark>\n",
       "\n",
       "**Abstract:** We present the spectroscopic discovery of 69 quasars at 5.8<z<7.0, drawn from the Hyper Suprime-Cam (HSC) Subaru Strategic Program (SSP) imaging survey data.\n",
       "This is the 16th publication from the Subaru High-z Exploration of Low-Luminosity Quasars (SHELLQs) project, and completes identification of all but the faintest\n",
       "candidates (i.e., i-band dropouts with zAB<24 and y-band detections, and z-band dropouts with yAB<24)\n",
       "with Bayesian quasar probability PBQ>0.1 in the HSC-SSP third public data release (PDR3).\n",
       "The sample reported here also includes three quasars with PBQ<0.1 at z∼6.6, which we selected in an effort to completely cover\n",
       "the reddest point sources with simple color cuts.\n",
       "The number of high-z quasars discovered in SHELLQs has now grown to 162, including 23 type-II quasar candidates.\n",
       "This paper also presents identification of seven galaxies at 5.6<z<6.7, an [O iii] emitter at z=0.954, and 31 Galactic cool stars and brown dwarfs.\n",
       "High-z quasars and galaxies comprise 75 %\n",
       "and 16 % respectively of all the spectroscopic SHELLQs objects that pass\n",
       "our latest selection algorithm with the PDR3 photometry.\n",
       "That is, a total of 91 % of the objects lie at z>5.6.\n",
       "This demonstrates that the algorithm has very high efficiency, even though we are probing an unprecedentedly low-luminosity population down to M1450∼−21 mag.\n",
       "\n",
       "![Fig1](https://media.arxiv-vanity.com/render-output/5602212/x11.png)\n",
       "\n",
       "Figure 11: HSC i−z and z−y colors of the high-z quasars (blue symbols), the high-z galaxies (green),\n",
       "the [O iii] emitters at z=0.8−1.0 (cyan), and Galactic cool stars and brown dwarfs (red),\n",
       "with spectroscopic identification reported in the past and present SHELLQs papers;\n",
       "the filled and open circles represent those with PBQ>0.1 and PBQ≤0.1, respectively.\n",
       "The magnitudes are taken from PDR3.\n",
       "The arrows represent 3σ limits, while the objects detected only in the y-band are placed at iAB−zAB=ilimAB−zlimAB\n",
       "with dotted error bars, where mlimAB represents the 3σ limiting magnitude.\n",
       "We also plot the model colors of quasars (solid curve) and galaxies (dashed curve) at z≥5.7, with the diamonds marking\n",
       "redshifts at Δz=0.1 intervals.\n",
       "The gray crosses and dots represent simulated colors of main-sequence stars and M-, L-, T-type brown dwarfs, as indicated at the bottom-left corner\n",
       "(see Matsuoka et al., 2016, for the details of those models).\n",
       "The hatched area represents the color cuts used in Step 1 of the selection (see §2).\n",
       "\n",
       "\n",
       "![Fig2](https://media.arxiv-vanity.com/render-output/5602212/x1.png)\n",
       "\n",
       "Figure 1: Discovery spectra of the first set of 16 quasars, displayed in decreasing order of redshift.\n",
       "The object name and the estimated redshift (with uncertainty Δz∼0.01−0.1; see text) are indicated at the top left corner of each panel,\n",
       "with the two asterisks indicating that the object is noted in the text.\n",
       "The five type-II quasar candidates are marked with “TII” adjacent to the redshifts.\n",
       "The blue dotted lines mark the expected positions of the Lyα and N v λ1240 emission lines, given the redshifts.\n",
       "The spectra were smoothed using inverse-variance weighted means over 3 – 13 pixels (depending on the signal-to-noise ratio [S/N]), for display purposes.\n",
       "The bottom panel displays a sky spectrum, as a guide to the expected noise.\n",
       "\n",
       "\n",
       "![Fig3](https://media.arxiv-vanity.com/render-output/5602212/x5.png)\n",
       "\n",
       "Figure 5: Same as Figure 1, but for the last set of quasars in the top five panels.\n",
       "The following panels present seven galaxies and an [O iii] emitter,\n",
       "with the expected positions of Si ii λ1260, Si ii λ1304, and C ii λ1335 (for the galaxies)\n",
       "and of Hγ, Hβ, and [O iii] λ4959, λ5007 lines (for the [O iii] emitter) marked by the dotted lines.\n"
      ],
      "text/plain": [
       "<IPython.core.display.Markdown object>"
      ]
     },
     "metadata": {},
     "output_type": "display_data"
    },
    {
     "data": {
      "text/markdown": [
       "# An upper limit on late accretion and water delivery in the Trappist-1 exoplanet system\n",
       "\n",
       "[![vanity](https://img.shields.io/badge/vanity-2111.13351-f9f107.svg)](https://www.arxiv-vanity.com/papers/2111.13351)\n",
       "[![arXiv](https://img.shields.io/badge/arXiv-2111.13351-b31b1b.svg)](https://arxiv.org/abs/2111.13351)\n",
       "\n",
       "Sean N. Raymond1, et al. -- incl., <mark>Ludmila Carone9</mark>\n",
       "\n",
       "**Abstract:** The Trappist-1 system contains seven roughly Earth-sized planets locked in a multi-resonant orbital configuration,[1, 2] which has enabled precise measurements of the planets’ masses and constrained their compositions.[3] Here we use the system’s fragile orbital structure to place robust upper limits on the planets’ bombardment histories. We use N-body simulations to show how perturbations from additional objects can break the multi-resonant configuration by either triggering dynamical instability or simply removing the planets from resonance. The planets cannot have interacted with more than ∼5% of an Earth mass (M⊕) in planetesimals – or a single rogue planet more massive than Earth’s Moon – without disrupting their resonant orbital structure. This implies an upper limit of 10−4 to 10−2M⊕ of late accretion on each planet since the dispersal of the system’s gaseous disk. This is comparable to or less than the late accretion on Earth after the Moon-forming impact[4, 5], and demonstrates that the Trappist-1 planets’ growth was complete in just a few million years, roughly an order of magnitude faster than Earth’s.[6, 7] Our results imply that any large water reservoirs on the Trappist-1 planets must have been incorporated during their formation in the gaseous disk.\n",
       "\n",
       "\n"
      ],
      "text/plain": [
       "<IPython.core.display.Markdown object>"
      ]
     },
     "metadata": {},
     "output_type": "display_data"
    }
   ],
   "source": [
    "from IPython.display import display\n",
    "display(*data)"
   ]
  },
  {
   "cell_type": "markdown",
   "metadata": {},
   "source": [
    "# The LaTeX module"
   ]
  },
  {
   "cell_type": "code",
   "execution_count": 12,
   "metadata": {},
   "outputs": [],
   "source": [
    "import sys\n",
    "sys.path.append('../')"
   ]
  },
  {
   "cell_type": "code",
   "execution_count": 13,
   "metadata": {},
   "outputs": [],
   "source": [
    "from arxiv_on_deck_2.arxiv2 import retrieve_document_source, get_markdown_badge\n",
    "from arxiv_on_deck_2.latex import LatexDocument"
   ]
  },
  {
   "cell_type": "code",
   "execution_count": 14,
   "metadata": {},
   "outputs": [
    {
     "name": "stdout",
     "output_type": "stream",
     "text": [
      "https://arxiv.org/e-print/2111.12458\n",
      "extracting tarball... done.\n"
     ]
    }
   ],
   "source": [
    "paper_id = \"2111.12458\"\n",
    "folder = retrieve_document_source(f\"{paper_id}\", f'tmp_{paper_id}')"
   ]
  },
  {
   "cell_type": "code",
   "execution_count": 15,
   "metadata": {},
   "outputs": [],
   "source": [
    "try:\n",
    "    folder\n",
    "except:\n",
    "    folder = \"tmp_2111.12458\"\n",
    "doc = LatexDocument(folder)\n",
    "doc.comment = get_markdown_badge('2111.12361')\n",
    "doc.highlight_authors_in_list(hl_list)"
   ]
  },
  {
   "cell_type": "code",
   "execution_count": 16,
   "metadata": {},
   "outputs": [
    {
     "data": {
      "text/markdown": [
       "# VLTI-MATISSE L- and N-band aperture-synthesis imaging of the unclassified B[e] star FS Canis Majoris Based on observations collected at the European Organisation for Astronomical Research in the Southern Hemisphere within the commissioning of the VLTI-MATISSE instrument (ID 60.A-9257(E)). \n",
       "\n",
       " [![arXiv](https://img.shields.io/badge/arXiv-2111.12361-b31b1b.svg)](https://arxiv.org/abs/2111.12361)\n",
       "\n",
       "K.-H. Hofmann, et al. -- incl., <mark>Th. Henning</mark>, <mark>M. Heininger</mark>, <mark>R. van Boekel</mark>, <mark>K. Meisenheimer</mark>, <mark>J.W. Isbell</mark>, <mark>M. Lehmitz</mark>, <mark>C. Leinert</mark> \n",
       "\n",
       " **Abstract:** \\object{FS Canis Majoris}(FS CMa, HD 45677) is an unclassified B[e]star surrounded by an inclined dust disk. The evolutionary stage of FS CMa is still debated. Perpendicular to the circumstellar disk, a bipolar outflow was detected. Infrared aperture-synthesis imaging provides us with a unique opportunity to study the disk structure.Our aim is to study the intensity distribution of the disk of FS CMa in the mid-infrared$L$and$N$bands.We performed aperture-synthesis imaging of FS CMa with the MATISSE instrument (Multi AperTure mid-Infrared SpectroScopic Experiment) in the low spectral resolution mode to obtain images in the$L$and$N$bands. We computed radiative transfer models that reproduce the$L$- and$N$-band intensity distributions of the resolved disks.We present$L$- and$N$-band aperture-synthesis images of FS CMa reconstructed in the wavelength bands of 3.4--3.8 and 8.6--9.0$\\mu$m. In the$L$-band image, the inner rim region of an inclined circumstellar disk and the central object can be seen with a spatial resolution of 2.7 milliarcsec (mas). An inner disk cavity with an angular diameter of$\\sim$6\\,$\\times$\\,12\\,mas is resolved. The$L$-band disk consists of a bright northwestern (NW) disk region and a much fainter southeastern (SE) region. The images suggest that we are looking at the bright inner wall of the NW disk rim, which is on the far side of the disk. In the$N$band, only the bright NW disk region is seen. In addition to deriving the inclination and the inner disk radius, fitting the reconstructed brightness distributions via radiative transfer modeling allows one to constrain the innermost disk structure, in particular the shape of the inner disk rim.\n",
       "![Fig1](tmp_2111.12458/figures/HD45677_LNband_FOV64mas_rec.png)\n",
       "\n",
       "**Figure 1. -** L- and N-band MATISSE aperture-synthesis images of FS CMa: (Top) Reconstructed L-band image (3.4--3.8 m). The inner dark disk cavity in the L-band image has an angular diameter of  6\\,\\,12 mas (i.e.,  3.7\\,\\,7.4 au for a distance of 620 pc). (Bottom) Reconstructed N-band image (8.6--9.0 m). The FOV is 64 mas (39.7 au for a distance of 620 pc). North is up and east to the left. The inserted circles represent the 2.7 and 6.6 mas diameters of the L- and N-band resolution beams. See Sect. imaging for more details.  (*reconstructions*)\n",
       "![Fig11](tmp_2111.12458/figures/HD45677-uv.png)\n",
       "\n",
       "**Figure 11. -** uv coverage of the FS CMa observations.  (*uv*)\n",
       "![Fig13](tmp_2111.12458/figures/HD45677_Lband_Sim_pot08.png)\n",
       "\n",
       "**Figure 13. -**  Estimation of the error map of the L-band reconstruction (Fig. reconstructions top) from synthetic data: a) theoretical object used for generating the synthetic data (CPs and visibilities with the same noise and uv coverage as in the measured data (see text for more details), b) image reconstructed from the synthetic data, c) derived error map, d) reconstruction shown in Fig. reconstructions(top). The FOV is 64 mas. North is up and east to the left.  (*Lerrormap*)"
      ],
      "text/plain": [
       "<IPython.core.display.Markdown object>"
      ]
     },
     "execution_count": 16,
     "metadata": {},
     "output_type": "execute_result"
    }
   ],
   "source": [
    "from IPython.display import Markdown\n",
    "Markdown(doc.generate_markdown_text())"
   ]
  },
  {
   "cell_type": "code",
   "execution_count": 17,
   "metadata": {},
   "outputs": [],
   "source": [
    "with open(\"2111.12361.md\", 'w') as fout:\n",
    "    fout.write(doc.generate_markdown_text())"
   ]
  },
  {
   "cell_type": "code",
   "execution_count": null,
   "metadata": {},
   "outputs": [],
   "source": []
  }
 ],
 "metadata": {
  "deepnote": {
   "is_reactive": false
  },
  "deepnote_execution_queue": [],
  "deepnote_notebook_id": "c7a17692-0103-4738-88d8-72c31e8d16d6",
  "interpreter": {
   "hash": "aee8b7b246df8f9039afb4144a1f6fd8d2ca17a180786b69acc140d282b71a49"
  },
  "kernelspec": {
   "display_name": "Python 3 (ipykernel)",
   "language": "python",
   "name": "python3"
  },
  "language_info": {
   "codemirror_mode": {
    "name": "ipython",
    "version": 3
   },
   "file_extension": ".py",
   "mimetype": "text/x-python",
   "name": "python",
   "nbconvert_exporter": "python",
   "pygments_lexer": "ipython3",
   "version": "3.9.9"
  }
 },
 "nbformat": 4,
 "nbformat_minor": 4
}
