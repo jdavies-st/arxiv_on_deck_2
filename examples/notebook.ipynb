{
 "cells": [
  {
   "cell_type": "code",
   "execution_count": 2,
   "metadata": {
    "cell_id": "00008-05d7adef-f465-4ad2-987b-63d1b0f5969b",
    "deepnote_cell_type": "code",
    "deepnote_to_be_reexecuted": false,
    "execution_millis": 229,
    "execution_start": 1637845256999,
    "source_hash": "1dcf3326",
    "tags": []
   },
   "outputs": [],
   "source": [
    "import sys\n",
    "sys.path.append('../')\n",
    "from arxiv_vanity_on_deck import (collect_summary_information,\n",
    "                                  generate_markdown_text, \n",
    "                                  highlight_authors_in_list,\n",
    "                                  make_short_author_list)\n",
    "from arxiv_vanity_on_deck import mpia\n",
    "from requests.exceptions import HTTPError\n",
    "from IPython.display import Markdown"
   ]
  },
  {
   "cell_type": "code",
   "execution_count": 3,
   "metadata": {
    "cell_id": "00009-3a19b36b-ad76-4715-9dec-acf221f8f949",
    "deepnote_cell_type": "code",
    "deepnote_to_be_reexecuted": false,
    "execution_millis": 20969,
    "execution_start": 1637845257251,
    "source_hash": "85939f86",
    "tags": []
   },
   "outputs": [],
   "source": [
    "mpia_authors = mpia.get_mpia_mitarbeiter_list()"
   ]
  },
  {
   "cell_type": "code",
   "execution_count": 4,
   "metadata": {
    "cell_id": "00010-00a45344-3de1-42d4-97ee-0a1cca4c68df",
    "deepnote_cell_type": "code",
    "deepnote_output_heights": [
     611
    ],
    "deepnote_to_be_reexecuted": false,
    "execution_millis": 2439,
    "execution_start": 1637845278220,
    "source_hash": "c6114eb2",
    "tags": []
   },
   "outputs": [
    {
     "data": {
      "text/markdown": [
       "# Three-dimensional dust density structure of the Orion, Cygnus X, Taurus, and Perseus star-forming regions\n",
       "\n",
       "[![vanity](https://img.shields.io/badge/vanity-2111.06672-f9f107.svg)](https://www.arxiv-vanity.com/papers/2111.06672/)\n",
       "[![arXiv](https://img.shields.io/badge/arXiv-2111.06672-b31b1b.svg)](https://arxiv.org/abs/2111.06672)\n",
       "\n",
       "<mark>T. E. Dharmawardena</mark>, <mark>C. A. L. Bailer-Jones</mark>, <mark>M. Fouesneau</mark>, D. Foreman-Mackey\n",
       "\n",
       "**Abstract:** Interstellar dust affects many astronomical observations through absorption and reddening, yet this extinction is also a powerful tool for studying interstellar matter in galaxies.\n",
       "Three-dimensional reconstructions of dust extinction and density in the Milky Way have suffered from artefacts such as the fingers-of-god effect and negative densities, and have been limited by large computational costs.\n",
       "Here we aim to overcome these issues with a novel algorithm that derives the three-dimensional (3D) extinction density of dust in the Milky Way using a latent variable Gaussian Process in combination with variational inference. Our model maintains non-negative density and hence monotonically non-decreasing extinction along all lines-of-sight, while performing the inference within a reasonable computational time.\n",
       "\n",
       "<a href=https://media.arxiv-vanity.com/render-output/5601490/Figures/SimulatedData/SimulatedData_Density_Original_SkippedSlices.png<img src=\"https://media.arxiv-vanity.com/render-output/5601490/Figures/SimulatedData/SimulatedData_Density_Original_SkippedSlices.png\" alt=\"Fig1.1\" width=\"33%\"/></a><a href=https://media.arxiv-vanity.com/render-output/5601490/Figures/SimulatedData/SimulatedData_Density_SlicesAlongDist_GPpred_SkippedSlices.png<img src=\"https://media.arxiv-vanity.com/render-output/5601490/Figures/SimulatedData/SimulatedData_Density_SlicesAlongDist_GPpred_SkippedSlices.png\" alt=\"Fig1.2\" width=\"33%\"/></a><a href=https://media.arxiv-vanity.com/render-output/5601490/Figures/SimulatedData/SimulatedData_Density_SlicesAlongDist_Pred-Original_Residual_SkippedSlices.png<img src=\"https://media.arxiv-vanity.com/render-output/5601490/Figures/SimulatedData/SimulatedData_Density_SlicesAlongDist_Pred-Original_Residual_SkippedSlices.png\" alt=\"Fig1.3\" width=\"33%\"/></a>\n",
       "\n",
       "Figure 5: Top:Simulated Density map sampled at the indicated distances; Middle:Our model reconstructed Density map sampled at the same distances as the simulated map; Bottom:Residual of Model Predicted density - Simulated Density\n",
       "\n",
       "<a href=https://media.arxiv-vanity.com/render-output/5601490/x36.png<img src=\"https://media.arxiv-vanity.com/render-output/5601490/x36.png\" alt=\"Fig2.1\" width=\"12%\"/></a><a href=https://media.arxiv-vanity.com/render-output/5601490/x37.png<img src=\"https://media.arxiv-vanity.com/render-output/5601490/x37.png\" alt=\"Fig2.2\" width=\"12%\"/></a><a href=https://media.arxiv-vanity.com/render-output/5601490/x38.png<img src=\"https://media.arxiv-vanity.com/render-output/5601490/x38.png\" alt=\"Fig2.3\" width=\"12%\"/></a><a href=https://media.arxiv-vanity.com/render-output/5601490/x39.png<img src=\"https://media.arxiv-vanity.com/render-output/5601490/x39.png\" alt=\"Fig2.4\" width=\"12%\"/></a><a href=https://media.arxiv-vanity.com/render-output/5601490/x40.png<img src=\"https://media.arxiv-vanity.com/render-output/5601490/x40.png\" alt=\"Fig2.5\" width=\"12%\"/></a><a href=https://media.arxiv-vanity.com/render-output/5601490/x41.png<img src=\"https://media.arxiv-vanity.com/render-output/5601490/x41.png\" alt=\"Fig2.6\" width=\"12%\"/></a><a href=https://media.arxiv-vanity.com/render-output/5601490/x42.png<img src=\"https://media.arxiv-vanity.com/render-output/5601490/x42.png\" alt=\"Fig2.7\" width=\"12%\"/></a><a href=https://media.arxiv-vanity.com/render-output/5601490/x43.png<img src=\"https://media.arxiv-vanity.com/render-output/5601490/x43.png\" alt=\"Fig2.8\" width=\"12%\"/></a>\n",
       "\n",
       "Figure 24: As Fig. 23, showing Planck Dust Intensity.\n",
       "\n",
       "<a href=https://media.arxiv-vanity.com/render-output/5601490/x28.png<img src=\"https://media.arxiv-vanity.com/render-output/5601490/x28.png\" alt=\"Fig3.1\" width=\"12%\"/></a><a href=https://media.arxiv-vanity.com/render-output/5601490/x29.png<img src=\"https://media.arxiv-vanity.com/render-output/5601490/x29.png\" alt=\"Fig3.2\" width=\"12%\"/></a><a href=https://media.arxiv-vanity.com/render-output/5601490/x30.png<img src=\"https://media.arxiv-vanity.com/render-output/5601490/x30.png\" alt=\"Fig3.3\" width=\"12%\"/></a><a href=https://media.arxiv-vanity.com/render-output/5601490/x31.png<img src=\"https://media.arxiv-vanity.com/render-output/5601490/x31.png\" alt=\"Fig3.4\" width=\"12%\"/></a><a href=https://media.arxiv-vanity.com/render-output/5601490/x32.png<img src=\"https://media.arxiv-vanity.com/render-output/5601490/x32.png\" alt=\"Fig3.5\" width=\"12%\"/></a><a href=https://media.arxiv-vanity.com/render-output/5601490/x33.png<img src=\"https://media.arxiv-vanity.com/render-output/5601490/x33.png\" alt=\"Fig3.6\" width=\"12%\"/></a><a href=https://media.arxiv-vanity.com/render-output/5601490/x34.png<img src=\"https://media.arxiv-vanity.com/render-output/5601490/x34.png\" alt=\"Fig3.7\" width=\"12%\"/></a><a href=https://media.arxiv-vanity.com/render-output/5601490/x35.png<img src=\"https://media.arxiv-vanity.com/render-output/5601490/x35.png\" alt=\"Fig3.8\" width=\"12%\"/></a>\n",
       "\n",
       "Figure 23: Top four panels: Planck 850 μm maps for Orion (top left), Cygnus X (top right), Perseus (upper middle left), Taurus (upper middle right); Bottom four panels: Ratio of total extinction predicted by our model to Planck 850 μm normalised by the median of the ratio. Predicted extinction contours overlaid. Ratio plots are arranged in the same pattern as the Planck emission maps."
      ],
      "text/plain": [
       "<IPython.core.display.Markdown object>"
      ]
     },
     "execution_count": 4,
     "metadata": {},
     "output_type": "execute_result"
    }
   ],
   "source": [
    "paper_id = \"2111.06672\"\n",
    "content = collect_summary_information(paper_id)\n",
    "# Mitarbeiter list\n",
    "hl_list = [k[0] for k in mpia_authors]\n",
    "content['authors'] = highlight_authors_in_list(content['authors'], hl_list)\n",
    "content['authors'] = make_short_author_list(content['authors'])\n",
    "Markdown(generate_markdown_text(content))"
   ]
  },
  {
   "cell_type": "code",
   "execution_count": 4,
   "metadata": {
    "cell_id": "00003-b174e2bb-21cc-448e-a970-8088d563c5cd",
    "deepnote_cell_type": "code",
    "deepnote_output_heights": [
     611
    ],
    "deepnote_to_be_reexecuted": false,
    "execution_millis": 1544,
    "execution_start": 1637845280671,
    "source_hash": "e9b6f183",
    "tags": []
   },
   "outputs": [
    {
     "data": {
      "text/markdown": [
       "# Three-dimensional dust density structure of the Orion, Cygnus X, Taurus, and Perseus star-forming regions\n",
       "\n",
       "[![vanity](https://img.shields.io/badge/vanity-2111.06672-f9f107.svg)](https://www.arxiv-vanity.com/papers/2111.06672/)\n",
       "[![arXiv](https://img.shields.io/badge/arXiv-2111.06672-b31b1b.svg)](https://arxiv.org/abs/2111.06672)\n",
       "\n",
       "<mark>T. E. Dharmawardena</mark>, <mark>C. A. L. Bailer-Jones</mark>, <mark>M. Fouesneau</mark>, D. Foreman-Mackey\n",
       "\n",
       "**Abstract:** Interstellar dust affects many astronomical observations through absorption and reddening, yet this extinction is also a powerful tool for studying interstellar matter in galaxies.\n",
       "Three-dimensional reconstructions of dust extinction and density in the Milky Way have suffered from artefacts such as the fingers-of-god effect and negative densities, and have been limited by large computational costs.\n",
       "Here we aim to overcome these issues with a novel algorithm that derives the three-dimensional (3D) extinction density of dust in the Milky Way using a latent variable Gaussian Process in combination with variational inference. Our model maintains non-negative density and hence monotonically non-decreasing extinction along all lines-of-sight, while performing the inference within a reasonable computational time.\n",
       "\n",
       "<img src=\"https://media.arxiv-vanity.com/render-output/5601490/Figures/SimulatedData/SimulatedData_Density_Original_SkippedSlices.png\" alt=\"Fig1.1\" width=\"33%\"/><img src=\"https://media.arxiv-vanity.com/render-output/5601490/Figures/SimulatedData/SimulatedData_Density_SlicesAlongDist_GPpred_SkippedSlices.png\" alt=\"Fig1.2\" width=\"33%\"/><img src=\"https://media.arxiv-vanity.com/render-output/5601490/Figures/SimulatedData/SimulatedData_Density_SlicesAlongDist_Pred-Original_Residual_SkippedSlices.png\" alt=\"Fig1.3\" width=\"33%\"/>\n",
       "\n",
       "Figure 5: Top:Simulated Density map sampled at the indicated distances; Middle:Our model reconstructed Density map sampled at the same distances as the simulated map; Bottom:Residual of Model Predicted density - Simulated Density\n",
       "\n",
       "<img src=\"https://media.arxiv-vanity.com/render-output/5601490/x36.png\" alt=\"Fig2.1\" width=\"12%\"/><img src=\"https://media.arxiv-vanity.com/render-output/5601490/x37.png\" alt=\"Fig2.2\" width=\"12%\"/><img src=\"https://media.arxiv-vanity.com/render-output/5601490/x38.png\" alt=\"Fig2.3\" width=\"12%\"/><img src=\"https://media.arxiv-vanity.com/render-output/5601490/x39.png\" alt=\"Fig2.4\" width=\"12%\"/><img src=\"https://media.arxiv-vanity.com/render-output/5601490/x40.png\" alt=\"Fig2.5\" width=\"12%\"/><img src=\"https://media.arxiv-vanity.com/render-output/5601490/x41.png\" alt=\"Fig2.6\" width=\"12%\"/><img src=\"https://media.arxiv-vanity.com/render-output/5601490/x42.png\" alt=\"Fig2.7\" width=\"12%\"/><img src=\"https://media.arxiv-vanity.com/render-output/5601490/x43.png\" alt=\"Fig2.8\" width=\"12%\"/>\n",
       "\n",
       "Figure 24: As Fig. 23, showing Planck Dust Intensity.\n",
       "\n",
       "<img src=\"https://media.arxiv-vanity.com/render-output/5601490/x28.png\" alt=\"Fig3.1\" width=\"12%\"/><img src=\"https://media.arxiv-vanity.com/render-output/5601490/x29.png\" alt=\"Fig3.2\" width=\"12%\"/><img src=\"https://media.arxiv-vanity.com/render-output/5601490/x30.png\" alt=\"Fig3.3\" width=\"12%\"/><img src=\"https://media.arxiv-vanity.com/render-output/5601490/x31.png\" alt=\"Fig3.4\" width=\"12%\"/><img src=\"https://media.arxiv-vanity.com/render-output/5601490/x32.png\" alt=\"Fig3.5\" width=\"12%\"/><img src=\"https://media.arxiv-vanity.com/render-output/5601490/x33.png\" alt=\"Fig3.6\" width=\"12%\"/><img src=\"https://media.arxiv-vanity.com/render-output/5601490/x34.png\" alt=\"Fig3.7\" width=\"12%\"/><img src=\"https://media.arxiv-vanity.com/render-output/5601490/x35.png\" alt=\"Fig3.8\" width=\"12%\"/>\n",
       "\n",
       "Figure 23: Top four panels: Planck 850 μm maps for Orion (top left), Cygnus X (top right), Perseus (upper middle left), Taurus (upper middle right); Bottom four panels: Ratio of total extinction predicted by our model to Planck 850 μm normalised by the median of the ratio. Predicted extinction contours overlaid. Ratio plots are arranged in the same pattern as the Planck emission maps."
      ],
      "text/plain": [
       "<IPython.core.display.Markdown object>"
      ]
     },
     "execution_count": 4,
     "metadata": {},
     "output_type": "execute_result"
    }
   ],
   "source": [
    "paper_id = \"2111.06672\"\n",
    "content = collect_summary_information(paper_id, mpia.affiliation_verifications)\n",
    "# Mitarbeiter list\n",
    "hl_list = [k[0] for k in mpia_authors]\n",
    "content['authors'] = highlight_authors_in_list(content['authors'], hl_list)\n",
    "content['authors'] = make_short_author_list(content['authors'])\n",
    "Markdown(generate_markdown_text(content))"
   ]
  },
  {
   "cell_type": "code",
   "execution_count": 5,
   "metadata": {
    "cell_id": "00011-909ebcf2-5e56-4252-8048-5ac896cd3a5c",
    "deepnote_cell_type": "code",
    "deepnote_output_heights": [
     328.1875
    ],
    "deepnote_to_be_reexecuted": false,
    "execution_millis": 802,
    "execution_start": 1637845282232,
    "source_hash": "d18dc042",
    "tags": []
   },
   "outputs": [
    {
     "name": "stdout",
     "output_type": "stream",
     "text": [
      "Paper does not satisfy the requirements.\n"
     ]
    }
   ],
   "source": [
    "paper_id = \"2109.09763\"\n",
    "\n",
    "try:\n",
    "    content = collect_summary_information(paper_id, \n",
    "                                        mpia.affiliation_verifications)\n",
    "    # Mitarbeiter list\n",
    "    hl_list = [k[0] for k in mpia_authors]\n",
    "    content['authors'] = highlight_authors_in_list(content['authors'], hl_list)\n",
    "    display(Markdown(generate_markdown_text(content)))\n",
    "except RuntimeError as re:\n",
    "    print(re)  # should not be an MPIA paper"
   ]
  },
  {
   "cell_type": "code",
   "execution_count": 6,
   "metadata": {
    "cell_id": "00005-eb8bd06f-51c2-4c65-8a1e-aa1fec84eacf",
    "deepnote_cell_type": "code",
    "deepnote_output_heights": [
     404.9375
    ],
    "deepnote_to_be_reexecuted": false,
    "execution_millis": 1598,
    "execution_start": 1637845283072,
    "source_hash": "8fbc1f4",
    "tags": []
   },
   "outputs": [
    {
     "name": "stdout",
     "output_type": "stream",
     "text": [
      "Arxiv has 59 new papers today\n",
      "          12 with possible author matches\n"
     ]
    }
   ],
   "source": [
    "from arxiv_vanity_on_deck import (get_new_papers, filter_papers)\n",
    "new_papers = get_new_papers()\n",
    "print(\"\"\"Arxiv has {0:,d} new papers today\"\"\".format(len(new_papers)))\n",
    "keep, matched_authors = filter_papers(new_papers, list(set(hl_list)))\n",
    "identifiers = set([k.identifier.replace('arXiv:', '') for k in keep])\n",
    "print(\"\"\"          {0:,d} with possible author matches\"\"\".format(len(identifiers)))"
   ]
  },
  {
   "cell_type": "code",
   "execution_count": 9,
   "metadata": {
    "cell_id": "00012-95cd30ec-f016-4de9-99af-7d27aa38d5d7",
    "deepnote_cell_type": "code",
    "deepnote_output_heights": [
     232.25
    ],
    "deepnote_to_be_reexecuted": false,
    "execution_millis": 10602,
    "execution_start": 1637845416012,
    "source_hash": "2a5758a6",
    "tags": []
   },
   "outputs": [
    {
     "name": "stdout",
     "output_type": "stream",
     "text": [
      "Not an MPIA paper 2111.12435... (Paper does not satisfy the requirements.)\n",
      "Error with paper 2111.12363... (Arxiv-Vanity failed to render the paper.)\n",
      "Not an MPIA paper 2111.12576... (Paper does not satisfy the requirements.)\n",
      "Not an MPIA paper 2111.12103... (Paper does not satisfy the requirements.)\n",
      "Not an MPIA paper 2111.12414... (Paper does not satisfy the requirements.)\n",
      "Error with paper 2111.12593... (Arxiv-Vanity failed to render the paper.)\n",
      "Error with paper 2111.12595... (Arxiv-Vanity failed to render the paper.)\n",
      "Not an MPIA paper 2111.12230... (Paper does not satisfy the requirements.)\n",
      "Error with paper 2111.12099... (Arxiv-Vanity failed to render the paper.)\n",
      "Error with paper 2111.12637... (Arxiv-Vanity failed to render the paper.)\n",
      "Not an MPIA paper 2111.12269... (Paper does not satisfy the requirements.)\n",
      "Arxiv has 59 new papers today\n",
      "          12 with possible author matches\n",
      "          1 fully extracted\n"
     ]
    }
   ],
   "source": [
    "# run the papers through vanity\n",
    "data = []\n",
    "for paper_id in identifiers:\n",
    "    try:\n",
    "        content = collect_summary_information(paper_id, \n",
    "                                              mpia.affiliation_verifications)\n",
    "        # Mitarbeiter list\n",
    "        hl_list = [k[0] for k in mpia_authors]\n",
    "        content['authors'] = highlight_authors_in_list(content['authors'], hl_list)\n",
    "        content['authors'] = make_short_author_list(content['authors'])\n",
    "        data.append(Markdown(generate_markdown_text(content)))\n",
    "    except HTTPError as httpe:\n",
    "        print(f\"Error with paper {paper_id}... ({httpe})\")\n",
    "    except RuntimeError as re:\n",
    "        print(f\"Not an MPIA paper {paper_id}... ({re})\")\n",
    "\n",
    "print(\"\"\"Arxiv has {0:,d} new papers today\"\"\".format(len(new_papers)))\n",
    "print(\"\"\"          {0:,d} with possible author matches\"\"\".format(len(identifiers)))\n",
    "print(\"\"\"          {0:,d} fully extracted\"\"\".format(len(data)))"
   ]
  },
  {
   "cell_type": "code",
   "execution_count": 10,
   "metadata": {
    "cell_id": "00008-47865826-c28a-4d65-8065-d9527498dd31",
    "deepnote_cell_type": "code",
    "deepnote_output_heights": [
     611,
     611,
     611,
     611,
     611,
     611,
     197.96875
    ],
    "deepnote_to_be_reexecuted": false,
    "execution_millis": 10,
    "execution_start": 1637845426621,
    "source_hash": "b7af718f",
    "tags": []
   },
   "outputs": [
    {
     "data": {
      "text/markdown": [
       "# Vlti-Matisse L- and N-band aperture-synthesis imaging of the unclassified B[e] star FS Canis Majoris\n",
       "\n",
       "[![vanity](https://img.shields.io/badge/vanity-2111.12458-f9f107.svg)](https://www.arxiv-vanity.com/papers/2111.12458/)\n",
       "[![arXiv](https://img.shields.io/badge/arXiv-2111.12458-b31b1b.svg)](https://arxiv.org/abs/2111.12458)\n",
       "\n",
       "K.-H. Hofmann, et al. -- incl., <mark>Th. Henning</mark>, <mark>M. Heininger</mark>, <mark>R. van Boekel</mark>, <mark>K. Meisenheimer</mark>, <mark>J.W. Isbell</mark>, <mark>M. Lehmitz</mark>, <mark>C. Leinert</mark>\n",
       "\n",
       "**Abstract:** Context: FS~Canis~Majoris (FS CMa, HD 45677) is an unclassified B[e] star surrounded by an inclined dust disk. The evolutionary stage of FS CMa is still debated. Perpendicular to the circumstellar disk, a bipolar outflow was detected. Infrared aperture-synthesis imaging provides us with a unique opportunity to study the disk structure.\n",
       "\n",
       "![Fig1](https://media.arxiv-vanity.com/render-output/5601590/x1.png)\n",
       "\n",
       "Figure 1: L- and N-band MATISSE aperture-synthesis images of FS CMa: (Top) Reconstructed L-band image (3.4–3.8 μm). The inner dark disk cavity in the L-band image has an angular diameter of ∼ 6 × 12 mas (i.e., ∼ 3.7 × 7.4 au for a distance of 620 pc).\n",
       "(Bottom) Reconstructed N-band image (8.6–9.0 μm). The FOV is 64 mas (39.7 au for a distance of 620 pc). North is up and east to the left. The inserted circles represent the 2.7 and 6.6 mas diameters of the L- and N-band resolution beams. See Sect. 3 for more details.\n",
       "\n",
       "\n",
       "![Fig2](https://media.arxiv-vanity.com/render-output/5601590/x43.png)\n",
       "\n",
       "Figure 27: Estimation of the error map of the L-band reconstruction (Fig. 1 top) from synthetic data: a) theoretical object used for generating the synthetic data (CPs and visibilities with the same noise and uv coverage as in the measured data (see text for more details), b) image reconstructed from the synthetic data, c) derived error map, d) reconstruction shown in Fig. 1 (top). The FOV is 64 mas. North is up and east to the left.\n",
       "\n",
       "\n",
       "<img src=\"https://media.arxiv-vanity.com/render-output/5601590/x15.png\" alt=\"Fig3.1\" width=\"33%\"/><img src=\"https://media.arxiv-vanity.com/render-output/5601590/x16.png\" alt=\"Fig3.2\" width=\"33%\"/><img src=\"https://media.arxiv-vanity.com/render-output/5601590/x17.png\" alt=\"Fig3.3\" width=\"33%\"/>\n",
       "\n",
       "Figure 6: Comparison of the observed L-band image with the image of model 3: (left) best-fit L-band model disk image with adjusted inclination and modified inner rim, (middle) model image contour plot over reconstructed L-band image, and (right) difference image (observed image minus model). Contour lines show 50% (solid) and 10% (dashed) levels of the maximum flux. As outlined in Sect. 4.2, the given flux unit is relative. Rim parameter: Rε=1.8Rin = 9 au, ε=0.7. Inclination: i=51∘. The central object is shown in the model and observed image."
      ],
      "text/plain": [
       "<IPython.core.display.Markdown object>"
      ]
     },
     "metadata": {},
     "output_type": "display_data"
    }
   ],
   "source": [
    "from IPython.display import display\n",
    "display(*data)"
   ]
  },
  {
   "cell_type": "code",
   "execution_count": 12,
   "metadata": {
    "cell_id": "00008-3abe8f25-03af-4f10-89fb-c257fcc91c57",
    "deepnote_cell_type": "code",
    "deepnote_output_heights": [
     21.1875
    ],
    "deepnote_to_be_reexecuted": false,
    "execution_millis": 52,
    "execution_start": 1637845471831,
    "source_hash": "e2f029bf",
    "tags": []
   },
   "outputs": [
    {
     "name": "stdout",
     "output_type": "stream",
     "text": [
      "# Vlti-Matisse L- and N-band aperture-synthesis imaging of the unclassified B[e] star FS Canis Majoris\n",
      "\n",
      "[![vanity](https://img.shields.io/badge/vanity-2111.12458-f9f107.svg)](https://www.arxiv-vanity.com/papers/2111.12458/)\n",
      "[![arXiv](https://img.shields.io/badge/arXiv-2111.12458-b31b1b.svg)](https://arxiv.org/abs/2111.12458)\n",
      "\n",
      "K.-H. Hofmann, et al. -- incl., <mark>Th. Henning</mark>, <mark>M. Heininger</mark>, <mark>R. van Boekel</mark>, <mark>K. Meisenheimer</mark>, <mark>J.W. Isbell</mark>, <mark>M. Lehmitz</mark>, <mark>C. Leinert</mark>\n",
      "\n",
      "**Abstract:** Context: FS~Canis~Majoris (FS CMa, HD 45677) is an unclassified B[e] star surrounded by an inclined dust disk. The evolutionary stage of FS CMa is still debated. Perpendicular to the circumstellar disk, a bipolar outflow was detected. Infrared aperture-synthesis imaging provides us with a unique opportunity to study the disk structure.\n",
      "\n",
      "![Fig1](https://media.arxiv-vanity.com/render-output/5601590/x1.png)\n",
      "\n",
      "Figure 1: L- and N-band MATISSE aperture-synthesis images of FS CMa: (Top) Reconstructed L-band image (3.4–3.8 μm). The inner dark disk cavity in the L-band image has an angular diameter of ∼ 6 × 12 mas (i.e., ∼ 3.7 × 7.4 au for a distance of 620 pc).\n",
      "(Bottom) Reconstructed N-band image (8.6–9.0 μm). The FOV is 64 mas (39.7 au for a distance of 620 pc). North is up and east to the left. The inserted circles represent the 2.7 and 6.6 mas diameters of the L- and N-band resolution beams. See Sect. 3 for more details.\n",
      "\n",
      "\n",
      "![Fig2](https://media.arxiv-vanity.com/render-output/5601590/x43.png)\n",
      "\n",
      "Figure 27: Estimation of the error map of the L-band reconstruction (Fig. 1 top) from synthetic data: a) theoretical object used for generating the synthetic data (CPs and visibilities with the same noise and uv coverage as in the measured data (see text for more details), b) image reconstructed from the synthetic data, c) derived error map, d) reconstruction shown in Fig. 1 (top). The FOV is 64 mas. North is up and east to the left.\n",
      "\n",
      "\n",
      "<img src=\"https://media.arxiv-vanity.com/render-output/5601590/x15.png\" alt=\"Fig3.1\" width=\"33%\"/><img src=\"https://media.arxiv-vanity.com/render-output/5601590/x16.png\" alt=\"Fig3.2\" width=\"33%\"/><img src=\"https://media.arxiv-vanity.com/render-output/5601590/x17.png\" alt=\"Fig3.3\" width=\"33%\"/>\n",
      "\n",
      "Figure 6: Comparison of the observed L-band image with the image of model 3: (left) best-fit L-band model disk image with adjusted inclination and modified inner rim, (middle) model image contour plot over reconstructed L-band image, and (right) difference image (observed image minus model). Contour lines show 50% (solid) and 10% (dashed) levels of the maximum flux. As outlined in Sect. 4.2, the given flux unit is relative. Rim parameter: Rε=1.8Rin = 9 au, ε=0.7. Inclination: i=51∘. The central object is shown in the model and observed image.\n"
     ]
    }
   ],
   "source": [
    "print(generate_markdown_text(content))"
   ]
  },
  {
   "cell_type": "code",
   "execution_count": null,
   "metadata": {
    "cell_id": "00009-d0a9337f-2375-4654-b686-37b1a1fd7a7e",
    "deepnote_cell_type": "code",
    "tags": []
   },
   "outputs": [],
   "source": []
  },
  {
   "cell_type": "markdown",
   "metadata": {
    "created_in_deepnote_cell": true,
    "deepnote_cell_type": "markdown",
    "tags": []
   },
   "source": [
    "<a style='text-decoration:none;line-height:16px;display:flex;color:#5B5B62;padding:10px;justify-content:end;' href='https://deepnote.com?utm_source=created-in-deepnote-cell&projectId=28e19378-4e08-400c-8253-9b5efca3af40' target=\"_blank\">\n",
    "<img alt='Created in deepnote.com' style='display:inline;max-height:16px;margin:0px;margin-right:7.5px;' src='data:image/svg+xml;base64,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' > </img>\n",
    "Created in <span style='font-weight:600;margin-left:4px;'>Deepnote</span></a>"
   ]
  }
 ],
 "metadata": {
  "deepnote": {
   "is_reactive": false
  },
  "deepnote_execution_queue": [],
  "deepnote_notebook_id": "c7a17692-0103-4738-88d8-72c31e8d16d6",
  "interpreter": {
   "hash": "aee8b7b246df8f9039afb4144a1f6fd8d2ca17a180786b69acc140d282b71a49"
  },
  "kernelspec": {
   "display_name": "Python 3.9.8 64-bit",
   "language": "python",
   "name": "python3"
  },
  "language_info": {
   "codemirror_mode": {
    "name": "ipython",
    "version": 3
   },
   "file_extension": ".py",
   "mimetype": "text/x-python",
   "name": "python",
   "nbconvert_exporter": "python",
   "pygments_lexer": "ipython3",
   "version": "3.9.8"
  },
  "orig_nbformat": 2
 },
 "nbformat": 4,
 "nbformat_minor": 2
}
